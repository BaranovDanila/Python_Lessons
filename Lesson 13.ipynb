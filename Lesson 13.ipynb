{
 "cells": [
  {
   "cell_type": "markdown",
   "id": "8f2c2fdd",
   "metadata": {},
   "source": [
    "# Задача 3748"
   ]
  },
  {
   "cell_type": "code",
   "execution_count": 3,
   "id": "97c86e8d",
   "metadata": {},
   "outputs": [
    {
     "name": "stdout",
     "output_type": "stream",
     "text": [
      "Python\n",
      "yton\n"
     ]
    }
   ],
   "source": [
    "s = input()\n",
    "result = ''\n",
    "for i in range(len(s)):\n",
    "    if i % 3 != 0:\n",
    "        result += s[i]\n",
    "print(result)"
   ]
  },
  {
   "cell_type": "code",
   "execution_count": 2,
   "id": "3ff03e7c",
   "metadata": {},
   "outputs": [
    {
     "name": "stdout",
     "output_type": "stream",
     "text": [
      "qwerqwerlknjglkqenrgb\n",
      "qwerqwerlknjglkqenrgb\n",
      "weqwrlnjlkengb\n",
      "eqrljlenb\n",
      "qrjlnb\n",
      "rjnb\n",
      "jn\n",
      "n\n",
      "7\n"
     ]
    }
   ],
   "source": [
    "def del_third(s):\n",
    "    result = ''\n",
    "    for i in range(len(s)):\n",
    "        if i % 3 != 0:\n",
    "            result += s[i]\n",
    "    return result\n",
    "\n",
    "s = input()\n",
    "cnt = 0\n",
    "\n",
    "while len(s) != 0:\n",
    "    print(s)\n",
    "    s = del_third(s)\n",
    "    cnt += 1\n",
    "\n",
    "print(cnt)"
   ]
  },
  {
   "cell_type": "markdown",
   "id": "5301e708",
   "metadata": {},
   "source": [
    "# Задача №3746. Замена внутри фрагмента"
   ]
  },
  {
   "cell_type": "code",
   "execution_count": 6,
   "id": "5b3f6a2d",
   "metadata": {},
   "outputs": [
    {
     "name": "stdout",
     "output_type": "stream",
     "text": [
      "hhhhhhhhhhh\n",
      "hHHHHHHHHHh\n"
     ]
    }
   ],
   "source": [
    "# In the hole in the ground there lived a hobbit\n",
    "s = input()\n",
    "start = s.find('h')\n",
    "end = s.rfind('h')\n",
    "temp = s[start + 1:end]\n",
    "result = s[:start + 1] + temp.replace('h', 'H') + s[end:]\n",
    "print(result)"
   ]
  },
  {
   "cell_type": "markdown",
   "id": "22df1376",
   "metadata": {},
   "source": [
    "# Задача №112338. Замена a-b и наоборот"
   ]
  },
  {
   "cell_type": "code",
   "execution_count": 7,
   "id": "73a51583",
   "metadata": {},
   "outputs": [
    {
     "name": "stdout",
     "output_type": "stream",
     "text": [
      "bbaaaDDDBbAAAgggh\n",
      "aabbbDDDAaBBBgggh\n",
      "10\n"
     ]
    }
   ],
   "source": [
    "s = input()\n",
    "result = ''\n",
    "cnt = 0\n",
    "for i in range(len(s)):\n",
    "    if s[i] == 'a':\n",
    "        result += 'b'\n",
    "        cnt += 1\n",
    "    elif s[i] == 'b':\n",
    "        result += 'a'\n",
    "        cnt += 1\n",
    "    elif s[i] == 'A':\n",
    "        result += 'B'\n",
    "        cnt += 1\n",
    "    elif s[i] == 'B':\n",
    "        result += 'A'\n",
    "        cnt += 1\n",
    "    else:\n",
    "        result += s[i]\n",
    "print(result)\n",
    "print(cnt)"
   ]
  },
  {
   "cell_type": "markdown",
   "id": "2d5e2f1b",
   "metadata": {},
   "source": [
    "# Задача №112341. Самое длинное слово"
   ]
  },
  {
   "cell_type": "code",
   "execution_count": 10,
   "id": "3b6e4512",
   "metadata": {},
   "outputs": [
    {
     "name": "stdout",
     "output_type": "stream",
     "text": [
      "qwer asdg assdf ffggh\n",
      "ffggh\n",
      "5\n"
     ]
    }
   ],
   "source": [
    "s = input() + ' '\n",
    "word = ''\n",
    "max_word = ''\n",
    "for i in range(len(s)):\n",
    "    if s[i] != ' ':\n",
    "        word += s[i]\n",
    "    else:\n",
    "        if len(word) > len(max_word):\n",
    "            max_word = word\n",
    "        word = ''\n",
    "\n",
    "print(max_word)\n",
    "print(len(max_word))"
   ]
  },
  {
   "cell_type": "markdown",
   "id": "eaf0dc61",
   "metadata": {},
   "source": [
    "# Задача №112340. Последнее слово"
   ]
  },
  {
   "cell_type": "code",
   "execution_count": null,
   "id": "eae7097e",
   "metadata": {},
   "outputs": [],
   "source": [
    "s = input().strip()\n",
    "idx = s.rfind(' ')\n",
    "print(s[idx + 1:])"
   ]
  },
  {
   "cell_type": "code",
   "execution_count": 23,
   "id": "ea141012",
   "metadata": {},
   "outputs": [
    {
     "name": "stdout",
     "output_type": "stream",
     "text": [
      "qwerqwe rqwejorpjq asdfasdf         \n",
      "asdfasdf\n"
     ]
    }
   ],
   "source": [
    "s = input()\n",
    "end = len(s)\n",
    "while s[end - 1] == ' ':\n",
    "    end -= 1\n",
    "s = s[:end]\n",
    "start = s.rfind(' ')\n",
    "print(s[start + 1:])"
   ]
  },
  {
   "cell_type": "markdown",
   "id": "13971bdf",
   "metadata": {},
   "source": [
    "# Задача 112344. Строка полиндром"
   ]
  },
  {
   "cell_type": "code",
   "execution_count": 25,
   "id": "8ce75d60",
   "metadata": {},
   "outputs": [
    {
     "name": "stdout",
     "output_type": "stream",
     "text": [
      "йущкйцу \n",
      "NO\n"
     ]
    }
   ],
   "source": [
    "s = input().replace(' ', '')\n",
    "start = 0\n",
    "end = len(s) - 1\n",
    "result = 'YES'\n",
    "while start < end:\n",
    "    if s[start] != s[end]:\n",
    "        result = 'NO'\n",
    "    start += 1\n",
    "    end -= 1\n",
    "print(result)"
   ]
  },
  {
   "cell_type": "code",
   "execution_count": 27,
   "id": "9995e2f8",
   "metadata": {},
   "outputs": [
    {
     "name": "stdout",
     "output_type": "stream",
     "text": [
      "йуцкйцу йцукйцук\n",
      "NO\n"
     ]
    }
   ],
   "source": [
    "s = input().replace(' ', '')\n",
    "if s == s[::-1]:\n",
    "    print('YES')\n",
    "else:\n",
    "    print('NO')"
   ]
  },
  {
   "cell_type": "markdown",
   "id": "d623d432",
   "metadata": {},
   "source": [
    "# Задача №112351. Из шестнадцатеричной в десятичную"
   ]
  },
  {
   "cell_type": "code",
   "execution_count": 32,
   "id": "d32498ff",
   "metadata": {
    "scrolled": true
   },
   "outputs": [
    {
     "name": "stdout",
     "output_type": "stream",
     "text": [
      "-AFF\n",
      "-2815\n"
     ]
    }
   ],
   "source": [
    "s = input()\n",
    "sign = ''\n",
    "if s[0] == '-':\n",
    "    sign = '-'\n",
    "    s = s[1:]\n",
    "\n",
    "nums = '0123456789ABCDEF'\n",
    "result = 0    \n",
    "for i in range(len(s)):\n",
    "    result += 16 ** (len(s) - 1 - i) * nums.find(s[i])\n",
    "print(sign + str(result))"
   ]
  },
  {
   "cell_type": "code",
   "execution_count": 33,
   "id": "b25a09fd",
   "metadata": {},
   "outputs": [
    {
     "data": {
      "text/plain": [
       "'-0xaff'"
      ]
     },
     "execution_count": 33,
     "metadata": {},
     "output_type": "execute_result"
    }
   ],
   "source": [
    "hex(-2815)"
   ]
  },
  {
   "cell_type": "markdown",
   "id": "fe493667",
   "metadata": {},
   "source": [
    "# Задача №111323. Форматирование строки"
   ]
  },
  {
   "cell_type": "code",
   "execution_count": 38,
   "id": "a5393ce9",
   "metadata": {},
   "outputs": [
    {
     "name": "stdout",
     "output_type": "stream",
     "text": [
      "qwerqwe qwerqwe    , qwerqwerqwe   ,  qwerqwer.        \n",
      "qwerqwe qwerqwe, qwerqwerqwe, qwerqwer.\n"
     ]
    }
   ],
   "source": [
    "def del_spaces(s):\n",
    "    start = 0\n",
    "    end = len(s)\n",
    "    while s[end - 1] == ' ':\n",
    "        end -= 1\n",
    "    while s[start] == ' ':\n",
    "        start += 1\n",
    "    return s[start:end]\n",
    "\n",
    "def del_included_spaces(s):\n",
    "    s = s.replace(',', ', ')\n",
    "    s = s.replace('.', '. ')\n",
    "    while ' .' in s:\n",
    "        s = s.replace(' .', '. ')\n",
    "    while ' ,' in s:\n",
    "        s = s.replace(' ,', ', ')\n",
    "    while '  ' in s:\n",
    "        s = s.replace('  ', ' ')\n",
    "    return s\n",
    "\n",
    "s = input()\n",
    "s = del_included_spaces(s)\n",
    "s = del_spaces(s)\n",
    "print(s)"
   ]
  },
  {
   "cell_type": "code",
   "execution_count": 34,
   "id": "4c85ac24",
   "metadata": {},
   "outputs": [],
   "source": [
    "def del_spaces(s):\n",
    "    start = 0\n",
    "    end = len(s)\n",
    "    while s[end - 1] == ' ':\n",
    "        end -= 1\n",
    "    while s[start] == ' ':\n",
    "        start += 1\n",
    "    return s[start:end]"
   ]
  },
  {
   "cell_type": "code",
   "execution_count": 37,
   "id": "ddc7b663",
   "metadata": {},
   "outputs": [
    {
     "name": "stdout",
     "output_type": "stream",
     "text": [
      "   hello hello   \n",
      "hello hello\n"
     ]
    }
   ],
   "source": [
    "s = '   hello hello   '\n",
    "print(s)\n",
    "print(s.strip())\n",
    "print(del_spaces(s))"
   ]
  }
 ],
 "metadata": {
  "kernelspec": {
   "display_name": "Python 3 (ipykernel)",
   "language": "python",
   "name": "python3"
  },
  "language_info": {
   "codemirror_mode": {
    "name": "ipython",
    "version": 3
   },
   "file_extension": ".py",
   "mimetype": "text/x-python",
   "name": "python",
   "nbconvert_exporter": "python",
   "pygments_lexer": "ipython3",
   "version": "3.9.7"
  }
 },
 "nbformat": 4,
 "nbformat_minor": 5
}
