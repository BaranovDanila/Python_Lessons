{
 "cells": [
  {
   "cell_type": "markdown",
   "id": "ae31f135",
   "metadata": {},
   "source": [
    "# Задача №3152. Четные индексы\n",
    "Выведите все элементы списка с четными индексами (то есть A[0], A[2], A[4], ...).\n",
    "Программа должна быть эффективной и не выполнять лишних действий!"
   ]
  },
  {
   "cell_type": "code",
   "execution_count": 4,
   "id": "f5ccac3e",
   "metadata": {},
   "outputs": [
    {
     "name": "stdout",
     "output_type": "stream",
     "text": [
      "1 2 3 4 5\n",
      "1 3 5 "
     ]
    }
   ],
   "source": [
    "my_list = [int(i) for i in input().split()]\n",
    "\n",
    "for i in range(0, len(my_list), 2):\n",
    "    print(my_list[i], end=' ')"
   ]
  },
  {
   "cell_type": "code",
   "execution_count": 12,
   "id": "5dbf327b",
   "metadata": {},
   "outputs": [
    {
     "name": "stdout",
     "output_type": "stream",
     "text": [
      "1 2 3 4 5\n",
      "1 3 5 "
     ]
    }
   ],
   "source": [
    "my_list = [int(i) for i in input().split()]\n",
    "\n",
    "result = my_list[::2]\n",
    "\n",
    "for i in range(len(result)):\n",
    "    print(result[i], end =' ')"
   ]
  },
  {
   "cell_type": "code",
   "execution_count": 9,
   "id": "22291bba",
   "metadata": {
    "scrolled": false
   },
   "outputs": [
    {
     "name": "stdout",
     "output_type": "stream",
     "text": [
      "1 2 3 4\n"
     ]
    }
   ],
   "source": [
    "print(*[1, 2, 3, 4])"
   ]
  },
  {
   "cell_type": "markdown",
   "id": "76806f1e",
   "metadata": {},
   "source": [
    "# Задача №3155. Больше предыдущего\n",
    "Дан список чисел. Выведите все элементы списка, которые больше предыдущего элемента."
   ]
  },
  {
   "cell_type": "code",
   "execution_count": 21,
   "id": "417c6831",
   "metadata": {},
   "outputs": [
    {
     "name": "stdout",
     "output_type": "stream",
     "text": [
      "1 2 3 4 5\n",
      "2 3 4 5 "
     ]
    }
   ],
   "source": [
    "my_list = [int(i) for i in input().split()]\n",
    "\n",
    "for i in range(1, len(my_list)):\n",
    "    if my_list[i] > my_list[i - 1]:\n",
    "        print(my_list[i], end=' ')"
   ]
  },
  {
   "cell_type": "code",
   "execution_count": 18,
   "id": "e368db41",
   "metadata": {},
   "outputs": [
    {
     "data": {
      "text/plain": [
       "2"
      ]
     },
     "execution_count": 18,
     "metadata": {},
     "output_type": "execute_result"
    }
   ],
   "source": [
    "int(2.4)"
   ]
  },
  {
   "cell_type": "code",
   "execution_count": 20,
   "id": "09758af3",
   "metadata": {},
   "outputs": [
    {
     "data": {
      "text/plain": [
       "2"
      ]
     },
     "execution_count": 20,
     "metadata": {},
     "output_type": "execute_result"
    }
   ],
   "source": [
    "int(float('2.4'))"
   ]
  },
  {
   "cell_type": "code",
   "execution_count": null,
   "id": "f1f41197",
   "metadata": {},
   "outputs": [],
   "source": []
  },
  {
   "cell_type": "markdown",
   "id": "016d13c2",
   "metadata": {},
   "source": [
    "# Задача №3156. Соседи одного знака\n",
    "Дан список чисел. Если в нем есть два соседних элемента одного знака, выведите эти числа. Если соседних элементов одного знака нет - не выводите ничего. Если таких пар соседей несколько - выведите первую пару."
   ]
  },
  {
   "cell_type": "code",
   "execution_count": 29,
   "id": "15da3e82",
   "metadata": {},
   "outputs": [
    {
     "name": "stdout",
     "output_type": "stream",
     "text": [
      "0 0 1 2 3 -1\n",
      "0 0\n"
     ]
    }
   ],
   "source": [
    "def sign(x):\n",
    "    if x > 0:\n",
    "        return 1\n",
    "    if x < 0:\n",
    "        return -1\n",
    "    return 0\n",
    "\n",
    "my_list = [int(i) for i in input().split()]\n",
    "\n",
    "for i in range(0, len(my_list) - 1):\n",
    "    if sign(my_list[i]) == sign(my_list[i + 1]):\n",
    "        print(my_list[i], my_list[i + 1])\n",
    "        break"
   ]
  },
  {
   "cell_type": "code",
   "execution_count": 30,
   "id": "d3d2bd5c",
   "metadata": {},
   "outputs": [
    {
     "name": "stdout",
     "output_type": "stream",
     "text": [
      "0 0 1 2 3 -1\n",
      "0 0\n"
     ]
    }
   ],
   "source": [
    "def sign(x):\n",
    "    if x > 0:\n",
    "        return 1\n",
    "    elif x < 0:\n",
    "        return -1\n",
    "    else:\n",
    "        return 0\n",
    "\n",
    "my_list = [int(i) for i in input().split()]\n",
    "\n",
    "for i in range(1, len(my_list)):\n",
    "    if sign(my_list[i]) == sign(my_list[i - 1]):\n",
    "        print(my_list[i - 1], my_list[i])\n",
    "        break"
   ]
  },
  {
   "cell_type": "markdown",
   "id": "62ba3259",
   "metadata": {},
   "source": [
    "# Задача №3157. Больше своих соседей\n",
    "Дан список чисел. Определите, сколько в этом списке элементов, которые больше двух своих соседей и выведите количество таких элементов."
   ]
  },
  {
   "cell_type": "code",
   "execution_count": 40,
   "id": "9e27016f",
   "metadata": {},
   "outputs": [
    {
     "name": "stdout",
     "output_type": "stream",
     "text": [
      "1 2 3 4 5\n",
      "0\n"
     ]
    }
   ],
   "source": [
    "my_list = [int(i) for i in input().split()]\n",
    "cnt = 0\n",
    "\n",
    "for i in range(1, len(my_list) - 1):\n",
    "    if my_list[i + 1] < my_list[i] > my_list[i - 1]:\n",
    "        cnt += 1\n",
    "\n",
    "print(cnt)"
   ]
  },
  {
   "cell_type": "code",
   "execution_count": null,
   "id": "4a279845",
   "metadata": {},
   "outputs": [],
   "source": [
    "f(x) = x ** 2 + 2"
   ]
  },
  {
   "cell_type": "code",
   "execution_count": 57,
   "id": "914c45e1",
   "metadata": {},
   "outputs": [],
   "source": [
    "def f(x):\n",
    "    return x ** 2 "
   ]
  },
  {
   "cell_type": "code",
   "execution_count": 58,
   "id": "1fe9ecaa",
   "metadata": {},
   "outputs": [],
   "source": [
    "y_list = []\n",
    "x_list = []\n",
    "for i in range(-5, 6, 1):\n",
    "    y_list.append(f(i))\n",
    "    x_list.append(i)"
   ]
  },
  {
   "cell_type": "code",
   "execution_count": 59,
   "id": "abd51a52",
   "metadata": {},
   "outputs": [],
   "source": [
    "import matplotlib.pyplot as plt"
   ]
  },
  {
   "cell_type": "code",
   "execution_count": 60,
   "id": "28bef890",
   "metadata": {},
   "outputs": [
    {
     "data": {
      "text/plain": [
       "[<matplotlib.lines.Line2D at 0x15c495a59a0>]"
      ]
     },
     "execution_count": 60,
     "metadata": {},
     "output_type": "execute_result"
    },
    {
     "data": {
      "image/png": "[encoded data removed]",
      "text/plain": [
       "<Figure size 432x288 with 1 Axes>"
      ]
     },
     "metadata": {
      "needs_background": "light"
     },
     "output_type": "display_data"
    }
   ],
   "source": [
    "plt.plot(x_list, y_list)"
   ]
  },
  {
   "cell_type": "code",
   "execution_count": null,
   "id": "127a0b00",
   "metadata": {},
   "outputs": [],
   "source": [
    "my_list = [int(i) for i in input().split()]\n",
    "cnt = 0\n",
    "\n",
    "for i in range(1, len(my_list) - 1):\n",
    "    if my_list[i] > my_list[i - 1] and my_list[i] > my_list[i + 1]:\n",
    "        cnt += 1\n",
    "        \n",
    "print(cnt)"
   ]
  },
  {
   "cell_type": "markdown",
   "id": "79519581",
   "metadata": {},
   "source": [
    "# Задача №3158. Наибольший элемент\n",
    "Дан список чисел. Выведите значение наибольшего элемента в списке, а затем индекс этого элемента в списке. Если наибольших элементов несколько, выведите индекс первого из них."
   ]
  },
  {
   "cell_type": "code",
   "execution_count": 66,
   "id": "fa381d62",
   "metadata": {},
   "outputs": [
    {
     "name": "stdout",
     "output_type": "stream",
     "text": [
      "1 2 3 2 1 3 3 3 3 3 3 1 3\n",
      "3 12\n"
     ]
    }
   ],
   "source": [
    "my_list = [int(i) for i in input().split()]\n",
    "max_el = my_list[0]\n",
    "max_id = 0\n",
    "\n",
    "for i in range(1, len(my_list)):\n",
    "    if my_list[i] >= max_el:\n",
    "        max_el = my_list[i]\n",
    "        max_id = i\n",
    "\n",
    "print(max_el, max_id)"
   ]
  },
  {
   "cell_type": "code",
   "execution_count": null,
   "id": "32b4f50e",
   "metadata": {},
   "outputs": [],
   "source": [
    "my_list = [int(i) for i in input().split()]\n",
    "max_el = my_list[0]\n",
    "max_id = 0\n",
    "\n",
    "for i in range(1, len(my_list)):\n",
    "    if my_list[i] > max_el:\n",
    "        max_el = my_list[i]\n",
    "        max_id = i\n",
    "\n",
    "print(max_el, max_id)        "
   ]
  },
  {
   "cell_type": "markdown",
   "id": "0e1f899e",
   "metadata": {},
   "source": [
    "# Задача №3159. Наименьший положительный\n",
    "Выведите значение наименьшего из всех положительных элементов в списке. Известно, что в списке есть хотя бы один положительный элемент, а значения всех элементов списка по модулю не превосходят 1000."
   ]
  },
  {
   "cell_type": "code",
   "execution_count": null,
   "id": "872dc2f2",
   "metadata": {},
   "outputs": [],
   "source": []
  },
  {
   "cell_type": "markdown",
   "id": "cca6b456",
   "metadata": {},
   "source": [
    "# Задача №3160. Наименьший нечетный\n",
    "Выведите значение наименьшего нечетного элемента списка, а если в списке нет нечетных элементов - выведите число 0."
   ]
  },
  {
   "cell_type": "code",
   "execution_count": null,
   "id": "6acd85d1",
   "metadata": {},
   "outputs": [],
   "source": []
  },
  {
   "cell_type": "markdown",
   "id": "980716f7",
   "metadata": {},
   "source": [
    "# Задача №3161. Шеренга\n",
    "Петя перешёл в другую школу. На уроке физкультуры ему понадобилось определить своё место в строю. Помогите ему это сделать.\n",
    "\n",
    "### Входные данные\n",
    "Программа получает на вход невозрастающую последовательность натуральных чисел, означающих рост каждого человека в строю. После этого вводится число X – рост Пети. Все числа во входных данных натуральные и не превышают 200.\n",
    "\n",
    "### Выходные данные\n",
    "Выведите номер, под которым Петя должен встать в строй. Если в строю есть люди с одинаковым ростом, таким же, как у Пети, то он должен встать после них."
   ]
  },
  {
   "cell_type": "code",
   "execution_count": null,
   "id": "460dad91",
   "metadata": {},
   "outputs": [],
   "source": [
    "my_list = [int(i) for i in input().split()]\n",
    "hiegh = int(input())\n",
    "\n",
    "for i in range(len(my_list)):\n",
    "    if hiegh > my_list[i]:\n",
    "        print(i + 1)\n",
    "        break\n",
    "    elif i == len(my_list) - 1:\n",
    "        print(len(my_list) + 1)"
   ]
  },
  {
   "cell_type": "code",
   "execution_count": null,
   "id": "dbd05444",
   "metadata": {},
   "outputs": [],
   "source": [
    "my_list = [int(i) for i in input().split()]\n",
    "hiegh = int(input())\n",
    "pos = 0\n",
    "while pos < len(my_list) and my_list[pos] >= hiegh:\n",
    "    pos += 1\n",
    "print(pos + 1)"
   ]
  },
  {
   "cell_type": "markdown",
   "id": "744d912c",
   "metadata": {},
   "source": [
    "# HW\n",
    "3153(Чётные элементы),3154,3159,3160"
   ]
  },
  {
   "cell_type": "code",
   "execution_count": null,
   "id": "b028d0f3",
   "metadata": {},
   "outputs": [],
   "source": []
  }
 ],
 "metadata": {
  "kernelspec": {
   "display_name": "Python 3 (ipykernel)",
   "language": "python",
   "name": "python3"
  },
  "language_info": {
   "codemirror_mode": {
    "name": "ipython",
    "version": 3
   },
   "file_extension": ".py",
   "mimetype": "text/x-python",
   "name": "python",
   "nbconvert_exporter": "python",
   "pygments_lexer": "ipython3",
   "version": "3.9.7"
  }
 },
 "nbformat": 4,
 "nbformat_minor": 5
}
