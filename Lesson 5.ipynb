{
 "cells": [
  {
   "cell_type": "code",
   "execution_count": 7,
   "id": "f044664b",
   "metadata": {},
   "outputs": [],
   "source": [
    "def min4(a, b, c, d):\n",
    "    return min(min(a, b), min(c, d))"
   ]
  },
  {
   "cell_type": "code",
   "execution_count": 9,
   "id": "edcc1563",
   "metadata": {},
   "outputs": [
    {
     "name": "stdout",
     "output_type": "stream",
     "text": [
      "1\n"
     ]
    }
   ],
   "source": [
    "print(min4(1, 2, 4, 1223))"
   ]
  },
  {
   "cell_type": "code",
   "execution_count": 10,
   "id": "9d703b90",
   "metadata": {},
   "outputs": [],
   "source": [
    "def min4_new(a, b, c, d):\n",
    "    return min(a, b, c, d)"
   ]
  },
  {
   "cell_type": "code",
   "execution_count": 11,
   "id": "cb85abea",
   "metadata": {
    "scrolled": true
   },
   "outputs": [
    {
     "data": {
      "text/plain": [
       "1"
      ]
     },
     "execution_count": 11,
     "metadata": {},
     "output_type": "execute_result"
    }
   ],
   "source": [
    "min4_new(1, 2, 4, 1223)"
   ]
  },
  {
   "cell_type": "markdown",
   "id": "d47ac169",
   "metadata": {},
   "source": [
    "# Задача 112191 Количество цифр числа\n",
    "Входная строка - одно целое неотрицательное число\n"
   ]
  },
  {
   "cell_type": "code",
   "execution_count": 38,
   "id": "2859bac7",
   "metadata": {},
   "outputs": [],
   "source": [
    "def num_len(num):\n",
    "    if num == 0:\n",
    "        return 1\n",
    "    num_legth = 0\n",
    "    while num != 0:\n",
    "        num_legth += 1\n",
    "        num //= 10\n",
    "    return num_legth"
   ]
  },
  {
   "cell_type": "code",
   "execution_count": 39,
   "id": "ed2ac590",
   "metadata": {},
   "outputs": [
    {
     "data": {
      "text/plain": [
       "8"
      ]
     },
     "execution_count": 39,
     "metadata": {},
     "output_type": "execute_result"
    }
   ],
   "source": [
    "num_len(13251346)"
   ]
  },
  {
   "cell_type": "code",
   "execution_count": 31,
   "id": "2d15879c",
   "metadata": {
    "scrolled": false
   },
   "outputs": [
    {
     "data": {
      "text/plain": [
       "-113"
      ]
     },
     "execution_count": 31,
     "metadata": {},
     "output_type": "execute_result"
    }
   ],
   "source": [
    "-1129 // 10"
   ]
  },
  {
   "cell_type": "code",
   "execution_count": 32,
   "id": "337c98e1",
   "metadata": {},
   "outputs": [
    {
     "data": {
      "text/plain": [
       "-12"
      ]
     },
     "execution_count": 32,
     "metadata": {},
     "output_type": "execute_result"
    }
   ],
   "source": [
    "-113 // 10"
   ]
  },
  {
   "cell_type": "code",
   "execution_count": 33,
   "id": "a566b1db",
   "metadata": {},
   "outputs": [
    {
     "data": {
      "text/plain": [
       "-2"
      ]
     },
     "execution_count": 33,
     "metadata": {},
     "output_type": "execute_result"
    }
   ],
   "source": [
    "-12 // 10"
   ]
  },
  {
   "cell_type": "code",
   "execution_count": 34,
   "id": "1f54bc38",
   "metadata": {
    "scrolled": true
   },
   "outputs": [
    {
     "data": {
      "text/plain": [
       "-1"
      ]
     },
     "execution_count": 34,
     "metadata": {},
     "output_type": "execute_result"
    }
   ],
   "source": [
    "-2 // 10"
   ]
  },
  {
   "cell_type": "code",
   "execution_count": 35,
   "id": "37a96cec",
   "metadata": {},
   "outputs": [
    {
     "data": {
      "text/plain": [
       "-1"
      ]
     },
     "execution_count": 35,
     "metadata": {},
     "output_type": "execute_result"
    }
   ],
   "source": [
    "-1 // 10"
   ]
  },
  {
   "cell_type": "markdown",
   "id": "ac3aa697",
   "metadata": {},
   "source": [
    "# Задача 112194 Реверс числа\n",
    "Входная строка - одно натуральное число, которое не оканчивается на 0"
   ]
  },
  {
   "cell_type": "code",
   "execution_count": 53,
   "id": "35f80cc6",
   "metadata": {},
   "outputs": [],
   "source": [
    "def rev_num(num):\n",
    "    result = 0\n",
    "    while num != 0:\n",
    "        result *= 10\n",
    "        result += num % 10\n",
    "        num //= 10\n",
    "    return result"
   ]
  },
  {
   "cell_type": "code",
   "execution_count": 59,
   "id": "ffe61479",
   "metadata": {},
   "outputs": [
    {
     "data": {
      "text/plain": [
       "321"
      ]
     },
     "execution_count": 59,
     "metadata": {},
     "output_type": "execute_result"
    }
   ],
   "source": [
    "rev_num(123)"
   ]
  },
  {
   "cell_type": "markdown",
   "id": "ff4df0c8",
   "metadata": {},
   "source": [
    "# Задача 116 Мин. и макс. цифры\n",
    "Задано единственное число N"
   ]
  },
  {
   "cell_type": "code",
   "execution_count": 5,
   "id": "d7682693",
   "metadata": {},
   "outputs": [],
   "source": [
    "def MaxDigit(num):\n",
    "    max_num = 0\n",
    "    while num != 0:\n",
    "        last_num = num % 10\n",
    "        if last_num > max_num:\n",
    "            max_num = last_num\n",
    "        num //= 10\n",
    "    return max_num"
   ]
  },
  {
   "cell_type": "code",
   "execution_count": 6,
   "id": "c26b2b4b",
   "metadata": {},
   "outputs": [
    {
     "data": {
      "text/plain": [
       "9"
      ]
     },
     "execution_count": 6,
     "metadata": {},
     "output_type": "execute_result"
    }
   ],
   "source": [
    "MaxDigit(109)"
   ]
  },
  {
   "cell_type": "code",
   "execution_count": 3,
   "id": "f32aea83",
   "metadata": {},
   "outputs": [],
   "source": [
    "def MinDigit(num): \n",
    "    min_num = 9\n",
    "    while num != 0:\n",
    "        last_num = num % 10\n",
    "        if last_num < min_num:\n",
    "            min_num = last_num\n",
    "        num //= 10\n",
    "    return min_num"
   ]
  },
  {
   "cell_type": "code",
   "execution_count": 7,
   "id": "f8140b85",
   "metadata": {},
   "outputs": [
    {
     "data": {
      "text/plain": [
       "0"
      ]
     },
     "execution_count": 7,
     "metadata": {},
     "output_type": "execute_result"
    }
   ],
   "source": [
    "MinDigit(109)"
   ]
  },
  {
   "cell_type": "code",
   "execution_count": 76,
   "id": "4552351a",
   "metadata": {},
   "outputs": [
    {
     "name": "stdout",
     "output_type": "stream",
     "text": [
      "1234531\n",
      "1 5\n"
     ]
    }
   ],
   "source": [
    "n = int(input())\n",
    "print(MinDigit(n), MaxDigit(n))"
   ]
  },
  {
   "cell_type": "markdown",
   "id": "9f5c6afc",
   "metadata": {},
   "source": [
    "# Перевод из 10 СС в 16 СС"
   ]
  },
  {
   "cell_type": "code",
   "execution_count": 167,
   "id": "78cb839e",
   "metadata": {},
   "outputs": [],
   "source": [
    "def decimal_to_hex(num, base):\n",
    "    sign = ''\n",
    "    if num < 0:\n",
    "        sign = '-'\n",
    "        num = -num\n",
    "    hex_str = '0123456789ABCDEF'\n",
    "    result = ''\n",
    "    while num != 0:\n",
    "        temp = num % base\n",
    "        result = hex_str[temp] + result\n",
    "        num //= base\n",
    "    return sign + 'ob' + result"
   ]
  },
  {
   "cell_type": "code",
   "execution_count": 168,
   "id": "c1c60f0d",
   "metadata": {},
   "outputs": [
    {
     "data": {
      "text/plain": [
       "16"
      ]
     },
     "execution_count": 168,
     "metadata": {},
     "output_type": "execute_result"
    }
   ],
   "source": [
    "hex_str = '0123456789ABCDEF'\n",
    "len(hex_str)"
   ]
  },
  {
   "cell_type": "code",
   "execution_count": 169,
   "id": "faf0dc9e",
   "metadata": {},
   "outputs": [
    {
     "name": "stdout",
     "output_type": "stream",
     "text": [
      "-ob1001101\n",
      "-0b1001101\n"
     ]
    }
   ],
   "source": [
    "print(decimal_to_hex(-77, 2))\n",
    "print(bin(-77))"
   ]
  },
  {
   "cell_type": "code",
   "execution_count": null,
   "id": "ae837cfe",
   "metadata": {},
   "outputs": [],
   "source": []
  },
  {
   "cell_type": "code",
   "execution_count": 150,
   "id": "b40c18cc",
   "metadata": {
    "scrolled": true
   },
   "outputs": [
    {
     "name": "stdout",
     "output_type": "stream",
     "text": [
      "X149EB2\n",
      "X149EB2\n"
     ]
    }
   ],
   "source": [
    "print(decimal_to_hex(-1351346))\n",
    "print(hex(-1351346)[2:].upper())"
   ]
  },
  {
   "cell_type": "code",
   "execution_count": 141,
   "id": "aa0ff1fa",
   "metadata": {},
   "outputs": [
    {
     "name": "stdout",
     "output_type": "stream",
     "text": [
      "HELLO, WORLD\n",
      "hello, world\n"
     ]
    }
   ],
   "source": [
    "s = 'HELLO, WORLD'\n",
    "s_bib = s.lower()\n",
    "print(s)\n",
    "print(s_bib)"
   ]
  },
  {
   "cell_type": "code",
   "execution_count": null,
   "id": "073cab2a",
   "metadata": {},
   "outputs": [],
   "source": []
  },
  {
   "cell_type": "code",
   "execution_count": null,
   "id": "74272210",
   "metadata": {},
   "outputs": [],
   "source": []
  },
  {
   "cell_type": "code",
   "execution_count": 90,
   "id": "7fc991ce",
   "metadata": {},
   "outputs": [
    {
     "name": "stdout",
     "output_type": "stream",
     "text": [
      "<class 'str'>\n",
      "1\n",
      "2\n",
      "3\n",
      ".\n",
      "6\n",
      "6\n",
      "7\n",
      "7\n"
     ]
    }
   ],
   "source": [
    "s = \"123.6677\"\n",
    "print(type(s))\n",
    "for i in s:\n",
    "    print(i)"
   ]
  },
  {
   "cell_type": "code",
   "execution_count": null,
   "id": "422c1f0b",
   "metadata": {},
   "outputs": [],
   "source": []
  },
  {
   "cell_type": "code",
   "execution_count": null,
   "id": "cf95fcc3",
   "metadata": {},
   "outputs": [],
   "source": []
  },
  {
   "cell_type": "code",
   "execution_count": null,
   "id": "d02ad766",
   "metadata": {},
   "outputs": [],
   "source": []
  },
  {
   "cell_type": "code",
   "execution_count": 129,
   "id": "c6db650b",
   "metadata": {},
   "outputs": [
    {
     "data": {
      "text/plain": [
       "'0x8'"
      ]
     },
     "execution_count": 129,
     "metadata": {},
     "output_type": "execute_result"
    }
   ],
   "source": [
    "hex(8)[2:]\n",
    "bin(123)[2:]\n",
    "oct(132)[2:]"
   ]
  },
  {
   "cell_type": "code",
   "execution_count": 105,
   "id": "c2f11643",
   "metadata": {},
   "outputs": [
    {
     "name": "stdout",
     "output_type": "stream",
     "text": [
      "1; 2\n"
     ]
    }
   ],
   "source": [
    "print(1, 2, sep='; ')"
   ]
  },
  {
   "cell_type": "code",
   "execution_count": 108,
   "id": "e56b80a0",
   "metadata": {},
   "outputs": [
    {
     "data": {
      "text/plain": [
       "13"
      ]
     },
     "execution_count": 108,
     "metadata": {},
     "output_type": "execute_result"
    }
   ],
   "source": [
    "s = 'qewqwe qrqrqr'\n",
    "len(s)"
   ]
  },
  {
   "cell_type": "code",
   "execution_count": 113,
   "id": "cbd2d05c",
   "metadata": {},
   "outputs": [
    {
     "name": "stdout",
     "output_type": "stream",
     "text": [
      "h\n",
      "e\n",
      "l\n",
      "l\n",
      "o\n",
      ",\n",
      " \n",
      "k\n",
      "i\n",
      "t\n",
      "t\n",
      "y\n",
      "------------\n",
      "h\n",
      "e\n",
      "l\n",
      "l\n",
      "o\n",
      ",\n",
      " \n",
      "k\n",
      "i\n",
      "t\n",
      "t\n",
      "y\n"
     ]
    }
   ],
   "source": [
    "s = 'hello, kitty'\n",
    "for i in range(len(s)):\n",
    "    print(s[i])\n",
    "print('------------')\n",
    "for i in s:\n",
    "    print(i)"
   ]
  },
  {
   "cell_type": "markdown",
   "id": "1b32038c",
   "metadata": {},
   "source": [
    "# Задача 112183 Восьмеричный код"
   ]
  },
  {
   "cell_type": "code",
   "execution_count": 1,
   "id": "492402b6",
   "metadata": {},
   "outputs": [
    {
     "name": "stdout",
     "output_type": "stream",
     "text": [
      "888\n",
      "1570\n"
     ]
    }
   ],
   "source": [
    "n = int(input())\n",
    "base = 8\n",
    "result = 0\n",
    "i = 0\n",
    "sign_var = 1\n",
    "if n < 0:\n",
    "    sign_var = -1\n",
    "    n = -n\n",
    "while n != 0:\n",
    "    result += (n % base) * (10 ** i)\n",
    "    i += 1\n",
    "    n //= base\n",
    "print(sign_var * result)"
   ]
  },
  {
   "cell_type": "code",
   "execution_count": 2,
   "id": "07e54c54",
   "metadata": {},
   "outputs": [
    {
     "data": {
      "text/plain": [
       "'0o1570'"
      ]
     },
     "execution_count": 2,
     "metadata": {},
     "output_type": "execute_result"
    }
   ],
   "source": [
    "oct(888)"
   ]
  },
  {
   "cell_type": "code",
   "execution_count": 7,
   "id": "dfdbf71d",
   "metadata": {},
   "outputs": [
    {
     "name": "stdout",
     "output_type": "stream",
     "text": [
      "100\n",
      "541\n"
     ]
    }
   ],
   "source": [
    "n = int(input())\n",
    "result = 0\n",
    "for coin1 in range(0, n + 1):\n",
    "    for coin2 in range(0, (n // 2) + 1):\n",
    "        for coin5 in range(0, (n // 5) + 1):\n",
    "            if (1 * coin1 + 2 * coin2 + 5 * coin5) == n:\n",
    "                result += 1\n",
    "print(result)"
   ]
  },
  {
   "cell_type": "markdown",
   "id": "8ebba9c5",
   "metadata": {},
   "source": [
    "# Решение без строк"
   ]
  },
  {
   "cell_type": "code",
   "execution_count": null,
   "id": "1789707b",
   "metadata": {},
   "outputs": [],
   "source": [
    "a, b, c, N = map(int, input().split())\n",
    "\n",
    "result = 0\n",
    "for i in range(0, N // a + 1):\n",
    "    for j in range(0, (N // b) + 1):\n",
    "        temp = N - (i * a + j * b)\n",
    "        if temp >= 0 and temp % c == 0:\n",
    "            result += 1            \n",
    "print(result)\n",
    "for i in range(0, N // a + 1):\n",
    "    for j in range(0, (N // b) + 1):\n",
    "        temp = N - (i * a + j * b)\n",
    "        if temp >= 0 and temp % c == 0:\n",
    "            print(i, j, temp // c)"
   ]
  },
  {
   "cell_type": "code",
   "execution_count": 1,
   "id": "c69f0173",
   "metadata": {},
   "outputs": [
    {
     "data": {
      "text/plain": [
       "7"
      ]
     },
     "execution_count": 1,
     "metadata": {},
     "output_type": "execute_result"
    }
   ],
   "source": [
    "75 // 10"
   ]
  },
  {
   "cell_type": "code",
   "execution_count": 3,
   "id": "e175cafe",
   "metadata": {},
   "outputs": [
    {
     "data": {
      "text/plain": [
       "18"
      ]
     },
     "execution_count": 3,
     "metadata": {},
     "output_type": "execute_result"
    }
   ],
   "source": [
    "75 // 4"
   ]
  },
  {
   "cell_type": "code",
   "execution_count": null,
   "id": "85925349",
   "metadata": {},
   "outputs": [],
   "source": []
  },
  {
   "cell_type": "code",
   "execution_count": null,
   "id": "3aad4705",
   "metadata": {},
   "outputs": [],
   "source": []
  },
  {
   "cell_type": "code",
   "execution_count": null,
   "id": "fbf6469a",
   "metadata": {},
   "outputs": [],
   "source": []
  }
 ],
 "metadata": {
  "kernelspec": {
   "display_name": "Python 3 (ipykernel)",
   "language": "python",
   "name": "python3"
  },
  "language_info": {
   "codemirror_mode": {
    "name": "ipython",
    "version": 3
   },
   "file_extension": ".py",
   "mimetype": "text/x-python",
   "name": "python",
   "nbconvert_exporter": "python",
   "pygments_lexer": "ipython3",
   "version": "3.9.7"
  }
 },
 "nbformat": 4,
 "nbformat_minor": 5
}
