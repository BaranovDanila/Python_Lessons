{
 "cells": [
  {
   "cell_type": "code",
   "execution_count": 8,
   "id": "f84c288f",
   "metadata": {
    "ExecuteTime": {
     "end_time": "2023-01-29T12:22:00.413658Z",
     "start_time": "2023-01-29T12:22:00.407640Z"
    }
   },
   "outputs": [],
   "source": [
    "l = [[[1], [2]], [[2], [4]], [[3], [6]]]"
   ]
  },
  {
   "cell_type": "code",
   "execution_count": 14,
   "id": "93bd84ed",
   "metadata": {
    "ExecuteTime": {
     "end_time": "2023-01-29T12:23:45.912411Z",
     "start_time": "2023-01-29T12:23:45.904149Z"
    }
   },
   "outputs": [
    {
     "name": "stdout",
     "output_type": "stream",
     "text": [
      "1 2 3 \n",
      "1 5 7 8 \n",
      "8 9 7 \n"
     ]
    }
   ],
   "source": [
    "l = [[1, 2, 3], [1, 5, 7, 8], [8, 9, 7]]\n",
    "\n",
    "for i in range(len(l)):\n",
    "    for j in range(len(l[i])):\n",
    "        print(l[i][j], end=' ')\n",
    "    print()"
   ]
  },
  {
   "cell_type": "code",
   "execution_count": 15,
   "id": "d847a0a8",
   "metadata": {
    "ExecuteTime": {
     "end_time": "2023-01-29T12:23:47.074108Z",
     "start_time": "2023-01-29T12:23:47.058502Z"
    }
   },
   "outputs": [
    {
     "data": {
      "text/plain": [
       "3"
      ]
     },
     "execution_count": 15,
     "metadata": {},
     "output_type": "execute_result"
    }
   ],
   "source": [
    "len(l)"
   ]
  },
  {
   "cell_type": "markdown",
   "id": "448f7d0b",
   "metadata": {},
   "source": [
    "### Двумерные массивы. "
   ]
  },
  {
   "cell_type": "markdown",
   "id": "3694262c",
   "metadata": {},
   "source": [
    "**Задача 1**\n",
    "\n",
    "Дан целочисленный двумерный массив, размерности `n` х `m`, найти сумму всех элементов массива."
   ]
  },
  {
   "cell_type": "code",
   "execution_count": 47,
   "id": "cec2f685",
   "metadata": {
    "ExecuteTime": {
     "end_time": "2023-01-29T13:12:22.133026Z",
     "start_time": "2023-01-29T13:12:12.264662Z"
    }
   },
   "outputs": [
    {
     "name": "stdout",
     "output_type": "stream",
     "text": [
      "Введите целочисленный элемент: 1\n",
      "\n",
      "Введите целочисленный элемент: 2\n",
      "\n",
      "Введите целочисленный элемент: 3\n",
      "\n",
      "Вы ввели 0 строку.\n",
      "Введите целочисленный элемент: 4\n",
      "\n",
      "Введите целочисленный элемент: 5\n",
      "\n",
      "Введите целочисленный элемент: 6\n",
      "\n",
      "Вы ввели 1 строку.\n",
      "Введите целочисленный элемент: 7\n",
      "\n",
      "Введите целочисленный элемент: 7\n",
      "\n",
      "Введите целочисленный элемент: 8\n",
      "\n",
      "Вы ввели 2 строку.\n",
      "Matrix: \n",
      "1 2 3 \n",
      "4 5 6 \n",
      "7 7 8 \n",
      "Сумма эл-ов матрицы: 43\n",
      "Среднее: 4.777777777777778\n"
     ]
    }
   ],
   "source": [
    "def mx_sum(array):\n",
    "    result = 0\n",
    "    for i in range(len(array)):\n",
    "        result += sum(array[i])\n",
    "    return result\n",
    "\n",
    "\n",
    "def mx_avg(array):\n",
    "    sum_els = mx_sum(array)\n",
    "    len_ = 0\n",
    "    \n",
    "    for i in range(len(array)):\n",
    "        len_ += len(array[i])\n",
    "        \n",
    "    return sum_els / len_\n",
    "\n",
    "\n",
    "def print_mx(array):\n",
    "    print('Matrix: ')\n",
    "    for r in range(len(array)):\n",
    "        for c in range(len(array[r])):\n",
    "            print(array[r][c], end=' ')\n",
    "        print()\n",
    "\n",
    "\n",
    "def read_2d_array(n=5):\n",
    "    result = [[0] * n for _ in range(n)]\n",
    "\n",
    "    for r in range(n):\n",
    "        for c in range(n):\n",
    "            print('Введите целочисленный элемент:', end=' ')\n",
    "            result[r][c] = int(input())\n",
    "            print()\n",
    "        print(f'Вы ввели {r} строку.')\n",
    "        print()\n",
    "    print_mx(result)\n",
    "    return result\n",
    "\n",
    "\n",
    "array = read_2d_array(3)\n",
    "sum_of_mx_els = mx_sum(array)\n",
    "print(f'Сумма эл-ов матрицы: {sum_of_mx_els}')\n",
    "print(f'Среднее: {mx_avg(array)}')"
   ]
  },
  {
   "cell_type": "code",
   "execution_count": 38,
   "id": "86530c52",
   "metadata": {
    "ExecuteTime": {
     "end_time": "2023-01-29T12:46:40.354370Z",
     "start_time": "2023-01-29T12:46:40.346053Z"
    }
   },
   "outputs": [
    {
     "name": "stdout",
     "output_type": "stream",
     "text": [
      "[[0, 0, 0, 0, 0], [0, 0, 0, 0, 0], [0, 0, 0, 0, 0], [0, 0, 0, 0, 0], [0, 0, 0, 0, 0]]\n",
      "[[0, 0, 0, 0, 0], [0, 0, 0, 0, 0], [0, 0, 0, 0, 0], [0, 0, 0, 0, 0], [0, 0, 0, 0, 0]]\n"
     ]
    }
   ],
   "source": [
    "result = [[0] * n for _ in range(n)]\n",
    "print(result)\n",
    "\n",
    "# --------------\n",
    "\n",
    "n = 5\n",
    "result = []\n",
    "\n",
    "for _ in range(n):\n",
    "    result.append([0] * n)\n",
    "\n",
    "print(result)"
   ]
  },
  {
   "cell_type": "code",
   "execution_count": 29,
   "id": "bf73ad59",
   "metadata": {
    "ExecuteTime": {
     "end_time": "2023-01-29T12:38:36.735851Z",
     "start_time": "2023-01-29T12:38:36.727521Z"
    },
    "scrolled": false
   },
   "outputs": [
    {
     "name": "stdout",
     "output_type": "stream",
     "text": [
      "[[0, 0, 0, 0, 0], [0, 0, 0, 0, 0], [0, 0, 0, 0, 0], [0, 0, 0, 0, 0], [0, 0, 0, 0, 0]]\n"
     ]
    }
   ],
   "source": [
    "n = 5\n",
    "result = [[0] * n for _ in range(n)] \n",
    "print(result)"
   ]
  },
  {
   "cell_type": "code",
   "execution_count": null,
   "id": "11db4b30",
   "metadata": {},
   "outputs": [],
   "source": [
    "print('Сумма:', sum([sum(lst) for lst in array]))"
   ]
  },
  {
   "cell_type": "markdown",
   "id": "7f5790b8",
   "metadata": {},
   "source": [
    "**Задача 2**\n",
    "\n",
    "Дан целочисленный двумерный массив, размерности `n` х `m`, найти сумму элементов массива в каждой строке."
   ]
  },
  {
   "cell_type": "code",
   "execution_count": 49,
   "id": "a162023e",
   "metadata": {
    "ExecuteTime": {
     "end_time": "2023-01-29T13:18:40.824803Z",
     "start_time": "2023-01-29T13:18:34.370152Z"
    }
   },
   "outputs": [
    {
     "name": "stdout",
     "output_type": "stream",
     "text": [
      "Введите целочисленный элемент: 1\n",
      "\n",
      "Введите целочисленный элемент: 2\n",
      "\n",
      "Введите целочисленный элемент: 3\n",
      "\n",
      "Вы ввели 0 строку.\n",
      "Введите целочисленный элемент: 1\n",
      "\n",
      "Введите целочисленный элемент: 2\n",
      "\n",
      "Введите целочисленный элемент: 3\n",
      "\n",
      "Вы ввели 1 строку.\n",
      "Введите целочисленный элемент: 1\n",
      "\n",
      "Введите целочисленный элемент: 23\n",
      "\n",
      "Введите целочисленный элемент: 32\n",
      "\n",
      "Вы ввели 2 строку.\n",
      "Matrix: \n",
      "1 2 3 \n",
      "1 2 3 \n",
      "1 23 32 \n",
      "6 6 56 "
     ]
    }
   ],
   "source": [
    "def mx_str_sum(a):\n",
    "    s = a[0]\n",
    "    for i in range(1, len(a)):\n",
    "        s += a[i]\n",
    "    \n",
    "    return s\n",
    "\n",
    "\n",
    "array = read_2d_array(3)\n",
    "for i in range(len(array)):\n",
    "    print(mx_str_sum(array[i]), end=' ')"
   ]
  },
  {
   "cell_type": "code",
   "execution_count": 53,
   "id": "98316691",
   "metadata": {
    "ExecuteTime": {
     "end_time": "2023-01-29T13:20:21.731952Z",
     "start_time": "2023-01-29T13:20:15.919669Z"
    }
   },
   "outputs": [
    {
     "name": "stdout",
     "output_type": "stream",
     "text": [
      "Введите целочисленный элемент: 1\n",
      "\n",
      "Введите целочисленный элемент: 2\n",
      "\n",
      "Введите целочисленный элемент: 3\n",
      "\n",
      "Вы ввели 0 строку.\n",
      "Введите целочисленный элемент: 1\n",
      "\n",
      "Введите целочисленный элемент: 2\n",
      "\n",
      "Введите целочисленный элемент: 3\n",
      "\n",
      "Вы ввели 1 строку.\n",
      "Введите целочисленный элемент: 3\n",
      "\n",
      "Введите целочисленный элемент: 32\n",
      "\n",
      "Введите целочисленный элемент: 23\n",
      "\n",
      "Вы ввели 2 строку.\n",
      "Matrix: \n",
      "1 2 3 \n",
      "1 2 3 \n",
      "3 32 23 \n",
      "Среднее по строкрам: 6 6 58\n"
     ]
    }
   ],
   "source": [
    "array = read_2d_array(3)\n",
    "print('Сумма по строкрам:', *[sum(lst) for lst in array])"
   ]
  },
  {
   "cell_type": "markdown",
   "id": "9de65f17",
   "metadata": {},
   "source": [
    "**Задача 3**\n",
    "\n",
    "Дан целочисленный двумерный массив, размерности `n` х `m`, найти наименьший элемент массива и номер строки, в которой он находится. _(Используем функции)_"
   ]
  },
  {
   "cell_type": "code",
   "execution_count": 56,
   "id": "ae825d08",
   "metadata": {
    "ExecuteTime": {
     "end_time": "2023-01-29T13:29:28.480604Z",
     "start_time": "2023-01-29T13:29:18.584455Z"
    }
   },
   "outputs": [
    {
     "name": "stdout",
     "output_type": "stream",
     "text": [
      "Введите целочисленный элемент: 1\n",
      "\n",
      "Введите целочисленный элемент: 2\n",
      "\n",
      "Введите целочисленный элемент: -5\n",
      "\n",
      "Вы ввели 0 строку.\n",
      "Введите целочисленный элемент: 1\n",
      "\n",
      "Введите целочисленный элемент: 2\n",
      "\n",
      "Введите целочисленный элемент: -2\n",
      "\n",
      "Вы ввели 1 строку.\n",
      "Введите целочисленный элемент: 0\n",
      "\n",
      "Введите целочисленный элемент: 1\n",
      "\n",
      "Введите целочисленный элемент: -123\n",
      "\n",
      "Вы ввели 2 строку.\n",
      "Matrix: \n",
      "1 2 -5 \n",
      "1 2 -2 \n",
      "0 1 -123 \n",
      "Минимальное значение -123. Номер строки с минимумом: 2\n"
     ]
    }
   ],
   "source": [
    "array = read_2d_array(3)\n",
    "\n",
    "mins_list = [min(lst) for lst in array]\n",
    "min_ = min(mins_list)\n",
    "\n",
    "print(f'Минимальное значение {min_}. Номер строки с минимумом: {mins_list.index(min_) + 1}')"
   ]
  },
  {
   "cell_type": "code",
   "execution_count": 57,
   "id": "63df1418",
   "metadata": {
    "ExecuteTime": {
     "end_time": "2023-01-29T13:41:42.140736Z",
     "start_time": "2023-01-29T13:41:42.130557Z"
    }
   },
   "outputs": [
    {
     "name": "stdout",
     "output_type": "stream",
     "text": [
      "2 -11\n"
     ]
    }
   ],
   "source": [
    "array = [[1, 2, -5], [1, -2, -11], [2, 4, 5]]\n",
    "\n",
    "\n",
    "min_ = array[0][0]\n",
    "min_s = 0\n",
    "\n",
    "for i in range(len(array)):\n",
    "    for j in range(len(array[i])):\n",
    "        if min_ > array[i][j]:\n",
    "            min_ = array[i][j]\n",
    "            min_s = i\n",
    "\n",
    "            \n",
    "print(min_s + 1, min_)"
   ]
  },
  {
   "cell_type": "markdown",
   "id": "2ff9f7bb",
   "metadata": {},
   "source": [
    "**Задача 4**\n",
    "\n",
    "Дан целочисленный двумерный массив, размерности `n` х `m`. Найти сумму и произведение всех элементов массива. Массив заполнять функцией. Элементы массива должны быть сформированы генератором случ. чисел."
   ]
  },
  {
   "cell_type": "code",
   "execution_count": null,
   "id": "aa5ae744",
   "metadata": {},
   "outputs": [],
   "source": []
  },
  {
   "cell_type": "code",
   "execution_count": null,
   "id": "961217e3",
   "metadata": {},
   "outputs": [],
   "source": []
  },
  {
   "cell_type": "code",
   "execution_count": null,
   "id": "bd8a526a",
   "metadata": {},
   "outputs": [],
   "source": []
  }
 ],
 "metadata": {
  "kernelspec": {
   "display_name": "Python 3 (ipykernel)",
   "language": "python",
   "name": "python3"
  },
  "language_info": {
   "codemirror_mode": {
    "name": "ipython",
    "version": 3
   },
   "file_extension": ".py",
   "mimetype": "text/x-python",
   "name": "python",
   "nbconvert_exporter": "python",
   "pygments_lexer": "ipython3",
   "version": "3.9.13"
  },
  "toc": {
   "base_numbering": 1,
   "nav_menu": {},
   "number_sections": true,
   "sideBar": true,
   "skip_h1_title": false,
   "title_cell": "Table of Contents",
   "title_sidebar": "Contents",
   "toc_cell": false,
   "toc_position": {},
   "toc_section_display": true,
   "toc_window_display": false
  },
  "varInspector": {
   "cols": {
    "lenName": 16,
    "lenType": 16,
    "lenVar": 40
   },
   "kernels_config": {
    "python": {
     "delete_cmd_postfix": "",
     "delete_cmd_prefix": "del ",
     "library": "var_list.py",
     "varRefreshCmd": "print(var_dic_list())"
    },
    "r": {
     "delete_cmd_postfix": ") ",
     "delete_cmd_prefix": "rm(",
     "library": "var_list.r",
     "varRefreshCmd": "cat(var_dic_list()) "
    }
   },
   "types_to_exclude": [
    "module",
    "function",
    "builtin_function_or_method",
    "instance",
    "_Feature"
   ],
   "window_display": false
  }
 },
 "nbformat": 4,
 "nbformat_minor": 5
}
