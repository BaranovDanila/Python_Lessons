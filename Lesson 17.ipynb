{
 "cells": [
  {
   "cell_type": "markdown",
   "id": "5cd34539",
   "metadata": {},
   "source": [
    "## Задача №3162. Количество различных элементов\n",
    "Дан список, упорядоченный по неубыванию элементов в нем. Определите, сколько в нем различных элементов."
   ]
  },
  {
   "cell_type": "code",
   "execution_count": 65,
   "id": "0fc7f699",
   "metadata": {},
   "outputs": [
    {
     "name": "stdout",
     "output_type": "stream",
     "text": [
      "1 1 1 1 2 3 3 4 4 5 66\n",
      "1 2 3 4 5 66 \n",
      "['1', '2', '3', '4', '5', '66']\n",
      "6\n"
     ]
    }
   ],
   "source": [
    "my_list = input().split()\n",
    "s = ''\n",
    "\n",
    "for i in range(len(my_list)):\n",
    "    if my_list[i] not in s:\n",
    "        s += my_list[i] + ' '\n",
    "print(s)\n",
    "print(s.split())\n",
    "print(len(s.split()))"
   ]
  },
  {
   "cell_type": "code",
   "execution_count": null,
   "id": "99460d88",
   "metadata": {},
   "outputs": [],
   "source": [
    "my_list = [int(i) for i in input().split()]\n"
   ]
  },
  {
   "cell_type": "code",
   "execution_count": null,
   "id": "2c08f4c6",
   "metadata": {},
   "outputs": [],
   "source": []
  },
  {
   "cell_type": "markdown",
   "id": "320af4e7",
   "metadata": {},
   "source": [
    "## Задача №3163. Вывести в обратном порядке\n",
    "Выведите элементы данного списка в обратном порядке, не изменяя сам список."
   ]
  },
  {
   "cell_type": "code",
   "execution_count": 71,
   "id": "7e52a8d2",
   "metadata": {},
   "outputs": [
    {
     "name": "stdout",
     "output_type": "stream",
     "text": [
      "11 23 43 545 7678\n",
      "4 7678\n",
      "3 545\n",
      "2 43\n",
      "1 23\n",
      "0 11\n"
     ]
    }
   ],
   "source": [
    "my_list = [int(i) for i in input().split()]\n",
    "\n",
    "for i in range(len(my_list) - 1, -1, -1):\n",
    "    print(i, my_list[i], sep=' ')\n",
    "    "
   ]
  },
  {
   "cell_type": "code",
   "execution_count": 17,
   "id": "62a7c6ce",
   "metadata": {
    "scrolled": true
   },
   "outputs": [
    {
     "name": "stdout",
     "output_type": "stream",
     "text": [
      "1 2 3 4 5\n",
      "5 4 3 2 1 "
     ]
    }
   ],
   "source": [
    "my_list = [int(i) for i in input().split()]\n",
    "\n",
    "for i in range(1, len(my_list) + 1):\n",
    "    print(my_list[-i], end=' ')"
   ]
  },
  {
   "cell_type": "code",
   "execution_count": 67,
   "id": "a013dff3",
   "metadata": {},
   "outputs": [
    {
     "name": "stdout",
     "output_type": "stream",
     "text": [
      "1 2 3 4 5\n",
      "5 4 3 2 1\n"
     ]
    }
   ],
   "source": [
    "my_list = [int(i) for i in input().split()]\n",
    "print(*my_list[::-1])"
   ]
  },
  {
   "cell_type": "code",
   "execution_count": 68,
   "id": "c2d329fc",
   "metadata": {},
   "outputs": [
    {
     "name": "stdout",
     "output_type": "stream",
     "text": [
      "1\n",
      "2\n",
      "3\n",
      "4\n"
     ]
    }
   ],
   "source": [
    "for i in range(1, 5):\n",
    "    print(i)"
   ]
  },
  {
   "cell_type": "code",
   "execution_count": null,
   "id": "99da7d8a",
   "metadata": {},
   "outputs": [],
   "source": []
  },
  {
   "cell_type": "markdown",
   "id": "b820675f",
   "metadata": {},
   "source": [
    "## Задача №3164. Переставить в обратном порядке\n",
    "Переставьте элементы данного списка в обратном порядке, затем выведите элементы полученного списка.\n",
    "\n",
    "Эта задача отличается от предыдущей тем, что вам нужно изменить значения элементов самого списка, поменяв местами A[0] c A[n-1], A[1] с A[n-2], а затем вывести элементы списка подряд."
   ]
  },
  {
   "cell_type": "code",
   "execution_count": 21,
   "id": "5f9aeedf",
   "metadata": {},
   "outputs": [
    {
     "name": "stdout",
     "output_type": "stream",
     "text": [
      "1 2 3 4\n",
      "4 3 2 1\n"
     ]
    }
   ],
   "source": [
    "my_list = [int(i) for i in input().split()]\n",
    "\n",
    "for i in range(len(my_list) // 2):\n",
    "    my_list[i], my_list[len(my_list) - 1 - i] = my_list[len(my_list) - 1 - i], my_list[i]\n",
    "\n",
    "print(*my_list)"
   ]
  },
  {
   "cell_type": "markdown",
   "id": "b99d6632",
   "metadata": {},
   "source": [
    "# Задача №3165. Переставить соседние\n",
    "Переставьте соседние элементы списка (A[0] c A[1], A[2] c A[3] и т.д.). Если элементов нечетное число, то последний элемент остается на своем месте."
   ]
  },
  {
   "cell_type": "code",
   "execution_count": 13,
   "id": "4291e4c0",
   "metadata": {},
   "outputs": [
    {
     "name": "stdout",
     "output_type": "stream",
     "text": [
      "1 2 3 4 5 8\n",
      "2 1 4 3 8 5\n"
     ]
    }
   ],
   "source": [
    "my_list = [int(i) for i in input().split()]\n",
    "\n",
    "for i in range(0, len(my_list) - 1, 2):\n",
    "    my_list[i], my_list[i + 1] = my_list[i + 1], my_list[i]\n",
    "\n",
    "print(*my_list)"
   ]
  },
  {
   "cell_type": "markdown",
   "id": "a6e2da60",
   "metadata": {},
   "source": [
    "# Задача №3166. Циклический сдвиг вправо\n",
    "Циклически сдвиньте элементы списка вправо (A[0] переходит на место A[1], A[1] на место A[2], ..., последний элемент переходит на место A[0]).\n",
    "Используйте минимально возможное количество операций присваивания."
   ]
  },
  {
   "cell_type": "code",
   "execution_count": 12,
   "id": "c70443e5",
   "metadata": {},
   "outputs": [
    {
     "name": "stdout",
     "output_type": "stream",
     "text": [
      "1 2 3 4 5 6\n",
      "2 3 4 5 6 1\n"
     ]
    }
   ],
   "source": [
    "my_list = [int(i) for i in input().split()]\n",
    "tmp = my_list[0]\n",
    "\n",
    "for i in range(0, len(my_list) - 1):\n",
    "    my_list[i] = my_list[i + 1]\n",
    "\n",
    "my_list[-1] = tmp\n",
    "print(*my_list)"
   ]
  },
  {
   "cell_type": "code",
   "execution_count": 11,
   "id": "1bd1b3d7",
   "metadata": {},
   "outputs": [
    {
     "name": "stdout",
     "output_type": "stream",
     "text": [
      "Длина списка my_list 6\n",
      "Последний элемент списка : 1000\n"
     ]
    }
   ],
   "source": [
    "# [1, 2, 3, 5, 8]\n",
    "my_list = [1, 2, 3, 4, 5, 1000]\n",
    "\n",
    "print('Длина списка my_list', len(my_list))\n",
    "print('Последний элемент списка :', my_list[len(my_list) - 1])"
   ]
  },
  {
   "cell_type": "code",
   "execution_count": 10,
   "id": "775b5b7d",
   "metadata": {},
   "outputs": [
    {
     "name": "stdout",
     "output_type": "stream",
     "text": [
      "0\n"
     ]
    }
   ],
   "source": [
    "s = '123456710'\n",
    "print(s[len(s) - 1])\n"
   ]
  },
  {
   "cell_type": "code",
   "execution_count": 72,
   "id": "787fd949",
   "metadata": {},
   "outputs": [
    {
     "name": "stdout",
     "output_type": "stream",
     "text": [
      "1 2 3 4 5\n",
      "5 1 2 3 4\n"
     ]
    }
   ],
   "source": [
    "my_list = [int(i) for i in input().split()]\n",
    "tmp = my_list[-1]\n",
    "\n",
    "for i in range(len(my_list) - 2, -1, -1):\n",
    "    my_list[i + 1] = my_list[i]\n",
    "\n",
    "my_list[0] = tmp    \n",
    "print(*my_list)"
   ]
  },
  {
   "cell_type": "code",
   "execution_count": 75,
   "id": "848853e8",
   "metadata": {},
   "outputs": [
    {
     "data": {
      "text/plain": [
       "3"
      ]
     },
     "execution_count": 75,
     "metadata": {},
     "output_type": "execute_result"
    }
   ],
   "source": [
    "my_list[len(my_list) - 2]"
   ]
  },
  {
   "cell_type": "markdown",
   "id": "2e5bad40",
   "metadata": {},
   "source": [
    "# Задача №3843. Переставить min и max\n",
    "В списке все элементы различны. Поменяйте местами минимальный и максимальный элемент этого списка."
   ]
  },
  {
   "cell_type": "code",
   "execution_count": 53,
   "id": "274a7efe",
   "metadata": {},
   "outputs": [
    {
     "name": "stdout",
     "output_type": "stream",
     "text": [
      "1 2 3 4\n"
     ]
    },
    {
     "data": {
      "text/plain": [
       "(3, 4)"
      ]
     },
     "execution_count": 53,
     "metadata": {},
     "output_type": "execute_result"
    }
   ],
   "source": [
    "my_list = [int(i) for i in input().split()]\n",
    "\n",
    "max(enumerate(my_list), key=lambda x: x[1])"
   ]
  },
  {
   "cell_type": "code",
   "execution_count": 58,
   "id": "c76870cc",
   "metadata": {},
   "outputs": [
    {
     "data": {
      "text/plain": [
       "(3, 4)"
      ]
     },
     "execution_count": 58,
     "metadata": {},
     "output_type": "execute_result"
    }
   ],
   "source": [
    "my_list = [1, 2, 3, 4, 0]\n",
    "arr = list(enumerate(my_list))\n",
    "max(arr, key=lambda x: x[1])"
   ]
  },
  {
   "cell_type": "code",
   "execution_count": null,
   "id": "f00b22aa",
   "metadata": {},
   "outputs": [],
   "source": []
  },
  {
   "cell_type": "code",
   "execution_count": null,
   "id": "bb448cb3",
   "metadata": {},
   "outputs": [],
   "source": []
  },
  {
   "cell_type": "code",
   "execution_count": null,
   "id": "fd739199",
   "metadata": {},
   "outputs": [],
   "source": []
  }
 ],
 "metadata": {
  "kernelspec": {
   "display_name": "Python 3 (ipykernel)",
   "language": "python",
   "name": "python3"
  },
  "language_info": {
   "codemirror_mode": {
    "name": "ipython",
    "version": 3
   },
   "file_extension": ".py",
   "mimetype": "text/x-python",
   "name": "python",
   "nbconvert_exporter": "python",
   "pygments_lexer": "ipython3",
   "version": "3.9.7"
  }
 },
 "nbformat": 4,
 "nbformat_minor": 5
}
