{
 "cells": [
  {
   "cell_type": "markdown",
   "id": "884554e8",
   "metadata": {},
   "source": [
    "# Задача 1"
   ]
  },
  {
   "cell_type": "code",
   "execution_count": 4,
   "id": "481f36f9",
   "metadata": {},
   "outputs": [
    {
     "name": "stdout",
     "output_type": "stream",
     "text": [
      "0\n",
      "0\n",
      "0\n",
      "0\n",
      "0.0\n"
     ]
    }
   ],
   "source": [
    "# Для записи с использованием функции sqrt необходимо импортировать модуль math\n",
    "# import math\n",
    "def distance(x1, y1, x2, y2):\n",
    "    d = ((x2 - x1) ** 2 + (y2 - y1) ** 2) ** 0.5\n",
    "    # math.sqrt((x2 - x1) ** 2 + (y2 - y1) ** 2)\n",
    "    return d\n",
    "x1, y1, x2, y2 = float(input()), float(input()), float(input()), float(input())\n",
    "print(distance(x1, y1, x2, y2))"
   ]
  },
  {
   "cell_type": "markdown",
   "id": "8263c6a8",
   "metadata": {},
   "source": [
    "# Задача 2"
   ]
  },
  {
   "cell_type": "code",
   "execution_count": 2,
   "id": "560c1932",
   "metadata": {},
   "outputs": [],
   "source": [
    "def min4(a, b, c, d):\n",
    "    return min(a, b, c, d)"
   ]
  },
  {
   "cell_type": "code",
   "execution_count": 3,
   "id": "2e51865d",
   "metadata": {},
   "outputs": [
    {
     "name": "stdout",
     "output_type": "stream",
     "text": [
      "1\n",
      "2\n",
      "3\n",
      "4\n"
     ]
    },
    {
     "data": {
      "text/plain": [
       "1"
      ]
     },
     "execution_count": 3,
     "metadata": {},
     "output_type": "execute_result"
    }
   ],
   "source": [
    "a, b, c, d = int(input()), int(input()), int(input()), int(input())\n",
    "min4(a, b, c, d)"
   ]
  },
  {
   "cell_type": "code",
   "execution_count": null,
   "id": "7c7fdc7f",
   "metadata": {},
   "outputs": [],
   "source": []
  },
  {
   "cell_type": "code",
   "execution_count": null,
   "id": "a568868e",
   "metadata": {},
   "outputs": [],
   "source": []
  },
  {
   "cell_type": "markdown",
   "id": "de166601",
   "metadata": {},
   "source": [
    "# Задача 3"
   ]
  },
  {
   "cell_type": "code",
   "execution_count": 4,
   "id": "dddd6255",
   "metadata": {},
   "outputs": [],
   "source": [
    "def IsPointInCircle(x, y, xc, yc, r):\n",
    "    d = ((x - xc) ** 2 + (y - yc) ** 2) ** 0.5\n",
    "    return d <= r"
   ]
  },
  {
   "cell_type": "code",
   "execution_count": 5,
   "id": "0d333221",
   "metadata": {},
   "outputs": [
    {
     "name": "stdout",
     "output_type": "stream",
     "text": [
      "0.5\n",
      "0.5\n",
      "1\n",
      "1\n",
      "4\n",
      "YES\n"
     ]
    }
   ],
   "source": [
    "x, y, xc, yc, r = float(input()), float(input()), float(input()), float(input()), float(input())\n",
    "if IsPointInCircle(x, y, xc, yc, r):\n",
    "    print('YES')\n",
    "else:\n",
    "    print('NO')"
   ]
  },
  {
   "cell_type": "markdown",
   "id": "f00c2dfc",
   "metadata": {},
   "source": [
    "# Задача 4"
   ]
  },
  {
   "cell_type": "code",
   "execution_count": 6,
   "id": "fcc67b95",
   "metadata": {},
   "outputs": [],
   "source": [
    "def len_str(s):\n",
    "    len_s = 0\n",
    "    for i in s: # 'Hello' 'H' 'e' 'l' 'l' 'o'\n",
    "        # print(i)\n",
    "        len_s += 1\n",
    "    return len_s"
   ]
  },
  {
   "cell_type": "code",
   "execution_count": 7,
   "id": "29ccc833",
   "metadata": {},
   "outputs": [
    {
     "name": "stdout",
     "output_type": "stream",
     "text": [
      "Hello\n",
      "5\n"
     ]
    }
   ],
   "source": [
    "s = input()\n",
    "print(len_str(s))"
   ]
  },
  {
   "cell_type": "code",
   "execution_count": 81,
   "id": "616d5850",
   "metadata": {},
   "outputs": [],
   "source": [
    "def num_len(num):\n",
    "    if num == 0:\n",
    "        return 1\n",
    "    num_legth = 0\n",
    "    while num > 0:\n",
    "        num_legth += 1\n",
    "        num //= 10\n",
    "    return num_legth"
   ]
  },
  {
   "cell_type": "code",
   "execution_count": 86,
   "id": "e25b1233",
   "metadata": {},
   "outputs": [
    {
     "data": {
      "text/plain": [
       "1"
      ]
     },
     "execution_count": 86,
     "metadata": {},
     "output_type": "execute_result"
    }
   ],
   "source": [
    "num_len(0)"
   ]
  },
  {
   "cell_type": "markdown",
   "id": "8c1f13d6",
   "metadata": {},
   "source": [
    "# Задача 5"
   ]
  },
  {
   "cell_type": "code",
   "execution_count": 1,
   "id": "013c8c20",
   "metadata": {},
   "outputs": [],
   "source": [
    "def reversed_string(s):\n",
    "    reversed_s = ''\n",
    "    for i in s:\n",
    "        reversed_s = i + reversed_s\n",
    "    return reversed_s"
   ]
  },
  {
   "cell_type": "code",
   "execution_count": 2,
   "id": "8655d428",
   "metadata": {},
   "outputs": [
    {
     "name": "stdout",
     "output_type": "stream",
     "text": [
      "123\n",
      "321\n"
     ]
    }
   ],
   "source": [
    "s = input()\n",
    "print(reversed_string(s))"
   ]
  },
  {
   "cell_type": "code",
   "execution_count": 94,
   "id": "643b800e",
   "metadata": {},
   "outputs": [],
   "source": [
    "def rev_num(num):\n",
    "    result = 0\n",
    "    i = 0\n",
    "    while num != 0:\n",
    "        result *= 10\n",
    "        result += num % 10\n",
    "        num //= 10\n",
    "    return result"
   ]
  },
  {
   "cell_type": "code",
   "execution_count": 98,
   "id": "e356f962",
   "metadata": {},
   "outputs": [
    {
     "data": {
      "text/plain": [
       "5341"
      ]
     },
     "execution_count": 98,
     "metadata": {},
     "output_type": "execute_result"
    }
   ],
   "source": [
    "rev_num(1435)"
   ]
  },
  {
   "cell_type": "markdown",
   "id": "411d224a",
   "metadata": {},
   "source": [
    "# Задача 6"
   ]
  },
  {
   "cell_type": "code",
   "execution_count": 10,
   "id": "52ce58a5",
   "metadata": {},
   "outputs": [],
   "source": [
    "def fact(n):\n",
    "    result = 1\n",
    "    for i in range(2, n + 1):\n",
    "        result *= i\n",
    "    return result"
   ]
  },
  {
   "cell_type": "code",
   "execution_count": 11,
   "id": "88460bb4",
   "metadata": {},
   "outputs": [
    {
     "name": "stdout",
     "output_type": "stream",
     "text": [
      "5\n",
      "120\n"
     ]
    }
   ],
   "source": [
    "n = int(input())\n",
    "print(fact(n))"
   ]
  },
  {
   "cell_type": "markdown",
   "id": "2f85bbc1",
   "metadata": {},
   "source": [
    "# Задача 7"
   ]
  },
  {
   "cell_type": "code",
   "execution_count": 12,
   "id": "39c339ef",
   "metadata": {},
   "outputs": [],
   "source": [
    "def MaxDigit(n):\n",
    "    max_in_n = 0\n",
    "    for i in n:\n",
    "        if int(i) > max_in_n:\n",
    "            max_in_n = int(i)\n",
    "    return max_in_n"
   ]
  },
  {
   "cell_type": "code",
   "execution_count": 101,
   "id": "c2cb13b9",
   "metadata": {},
   "outputs": [],
   "source": [
    "def MaxDigit(num):\n",
    "    max_mun = 0\n",
    "    while num != 0:\n",
    "        last_num = num % 10\n",
    "        if last_num > max_mun:\n",
    "            max_mun = last_num\n",
    "        num //= 10\n",
    "    return max_mun"
   ]
  },
  {
   "cell_type": "code",
   "execution_count": 106,
   "id": "5cbb60cf",
   "metadata": {},
   "outputs": [
    {
     "data": {
      "text/plain": [
       "6"
      ]
     },
     "execution_count": 106,
     "metadata": {},
     "output_type": "execute_result"
    }
   ],
   "source": [
    "MaxDigit(1451466)"
   ]
  },
  {
   "cell_type": "code",
   "execution_count": 13,
   "id": "f2bb1df1",
   "metadata": {},
   "outputs": [],
   "source": [
    "def MinDigit(n):\n",
    "    min_in_n = 9\n",
    "    for i in n:\n",
    "        if int(i) < min_in_n:\n",
    "            min_in_n = int(i)\n",
    "    return min_in_n"
   ]
  },
  {
   "cell_type": "code",
   "execution_count": 115,
   "id": "fcd5e221",
   "metadata": {},
   "outputs": [],
   "source": [
    "def MinDigit(num):\n",
    "    min_num = 9\n",
    "    while num != 0:\n",
    "        last_num = num % 10\n",
    "        if last_num < min_num:\n",
    "            min_num = last_num\n",
    "        num //= 10\n",
    "    return min_num"
   ]
  },
  {
   "cell_type": "code",
   "execution_count": 123,
   "id": "075d6cfb",
   "metadata": {},
   "outputs": [
    {
     "data": {
      "text/plain": [
       "1"
      ]
     },
     "execution_count": 123,
     "metadata": {},
     "output_type": "execute_result"
    }
   ],
   "source": [
    "MinDigit(14135)"
   ]
  },
  {
   "cell_type": "code",
   "execution_count": 14,
   "id": "f8b73da1",
   "metadata": {},
   "outputs": [
    {
     "name": "stdout",
     "output_type": "stream",
     "text": [
      "33416768\n",
      "1 8\n"
     ]
    }
   ],
   "source": [
    "n = input()\n",
    "print(MinDigit(n), MaxDigit(n))"
   ]
  }
 ],
 "metadata": {
  "kernelspec": {
   "display_name": "Python 3 (ipykernel)",
   "language": "python",
   "name": "python3"
  },
  "language_info": {
   "codemirror_mode": {
    "name": "ipython",
    "version": 3
   },
   "file_extension": ".py",
   "mimetype": "text/x-python",
   "name": "python",
   "nbconvert_exporter": "python",
   "pygments_lexer": "ipython3",
   "version": "3.9.7"
  }
 },
 "nbformat": 4,
 "nbformat_minor": 5
}
