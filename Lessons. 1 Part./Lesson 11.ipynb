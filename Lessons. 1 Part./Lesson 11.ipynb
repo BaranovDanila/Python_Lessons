{
 "cells": [
  {
   "cell_type": "markdown",
   "id": "93bd035f",
   "metadata": {},
   "source": [
    "# Задача 3735\n",
    "- Сначала выведите третий символ этой строки.\n",
    "- Во второй строке выведите предпоследний символ этой строки.\n",
    "- В третьей строке выведите первые пять символов этой строки.\n",
    "- В четвертой строке выведите всю строку, кроме последних двух символов.\n",
    "- В пятой строке выведите все символы с четными индексами (считая, что индексация начинается с 0, поэтому символы выводятся начиная с первого).\n",
    "- В шестой строке выведите все символы с нечетными индексами, то есть начиная со второго символа строки.\n",
    "- В седьмой строке выведите все символы в обратном порядке.\n",
    "- В восьмой строке выведите все символы строки через один в обратном порядке, начиная с последнего.\n",
    "- В девятой строке выведите длину данной строки."
   ]
  },
  {
   "cell_type": "code",
   "execution_count": 1,
   "id": "d5cac3ae",
   "metadata": {},
   "outputs": [
    {
     "name": "stdout",
     "output_type": "stream",
     "text": [
      "Abracatabra\n",
      "r\n",
      "r\n",
      "Abrac\n",
      "Abracatab\n",
      "Arctba\n",
      "baaar\n",
      "arbatacarbA\n",
      "abtcrA\n",
      "11\n"
     ]
    }
   ],
   "source": [
    "s = input()\n",
    "print(s[2])\n",
    "print(s[-2])\n",
    "print(s[:5])\n",
    "print(s[:-2])\n",
    "print(s[::2])\n",
    "print(s[1::2])\n",
    "print(s[::-1])\n",
    "print(s[-1::-2])\n",
    "print(len(s))"
   ]
  },
  {
   "cell_type": "markdown",
   "id": "4c47e8ef",
   "metadata": {},
   "source": [
    "# Задача 3737\n"
   ]
  },
  {
   "cell_type": "code",
   "execution_count": null,
   "id": "08b90482",
   "metadata": {},
   "outputs": [],
   "source": [
    "#Hello -> loHel"
   ]
  },
  {
   "cell_type": "code",
   "execution_count": 4,
   "id": "f833ec91",
   "metadata": {},
   "outputs": [
    {
     "name": "stdout",
     "output_type": "stream",
     "text": [
      "goal\n",
      "algo\n"
     ]
    }
   ],
   "source": [
    "s = input()\n",
    "mid_el = len(s) // 2 + len(s) % 2\n",
    "print(s[mid_el:] + s[:mid_el])"
   ]
  },
  {
   "cell_type": "markdown",
   "id": "d4ba8978",
   "metadata": {},
   "source": [
    "# Задача 3739"
   ]
  },
  {
   "cell_type": "code",
   "execution_count": 16,
   "id": "19068dfa",
   "metadata": {},
   "outputs": [
    {
     "name": "stdout",
     "output_type": "stream",
     "text": [
      "ofer\n",
      "1\n"
     ]
    }
   ],
   "source": [
    "s = input()\n",
    "if s.find('f') != -1 and s.find('f') == s.rfind('f'):\n",
    "    print(s.find('f'))\n",
    "if s.find('f') != s.rfind('f'):\n",
    "    print(s.find('f'), s.rfind('f'))"
   ]
  },
  {
   "cell_type": "code",
   "execution_count": 9,
   "id": "31607ba6",
   "metadata": {},
   "outputs": [
    {
     "name": "stdout",
     "output_type": "stream",
     "text": [
      "-1\n",
      "-1\n"
     ]
    }
   ],
   "source": [
    "print('Helylo'.rfind('k'))\n",
    "print('Helylo'.find('k'))"
   ]
  },
  {
   "cell_type": "code",
   "execution_count": null,
   "id": "74904316",
   "metadata": {},
   "outputs": [],
   "source": [
    "s.find('f') != -1 and s.find('f') == s.rfind('f')"
   ]
  },
  {
   "cell_type": "markdown",
   "id": "91165bb5",
   "metadata": {},
   "source": [
    "# Задача 3741"
   ]
  },
  {
   "cell_type": "code",
   "execution_count": 17,
   "id": "caf953fd",
   "metadata": {},
   "outputs": [
    {
     "name": "stdout",
     "output_type": "stream",
     "text": [
      "In the hole in the ground there lived a hobbit\n",
      "In tobbit\n"
     ]
    }
   ],
   "source": [
    "s = input()\n",
    "start = s.find('h')\n",
    "end = s.rfind('h')\n",
    "print(s[:start] + s[end + 1:])"
   ]
  },
  {
   "cell_type": "markdown",
   "id": "d57dc8fd",
   "metadata": {},
   "source": [
    "# Задача 3743"
   ]
  },
  {
   "cell_type": "code",
   "execution_count": 18,
   "id": "b64df3ce",
   "metadata": {},
   "outputs": [
    {
     "name": "stdout",
     "output_type": "stream",
     "text": [
      "In the hole in the ground there lived a hobbit\n",
      "In the hole in the ground there lived a e hole in the ground there lived a hobbit\n"
     ]
    }
   ],
   "source": [
    "s = input()\n",
    "start = s.find('h')\n",
    "end = s.rfind('h')\n",
    "print(s[:end] + s[start + 1:end] + s[end:])"
   ]
  },
  {
   "cell_type": "markdown",
   "id": "dba54261",
   "metadata": {},
   "source": [
    "# Задача 3744"
   ]
  },
  {
   "cell_type": "code",
   "execution_count": 21,
   "id": "82c20504",
   "metadata": {},
   "outputs": [
    {
     "name": "stdout",
     "output_type": "stream",
     "text": [
      "1+1=2\n",
      "one+one=2\n"
     ]
    }
   ],
   "source": [
    "s = input()\n",
    "s = s.replace('1', 'one')\n",
    "print(s)"
   ]
  },
  {
   "cell_type": "markdown",
   "id": "8ba7a697",
   "metadata": {},
   "source": [
    "# Задача 3744"
   ]
  },
  {
   "cell_type": "code",
   "execution_count": 22,
   "id": "0162de81",
   "metadata": {},
   "outputs": [
    {
     "name": "stdout",
     "output_type": "stream",
     "text": [
      "Andrey Sergeevich Ivanov\n",
      "Ivanov A.S.\n"
     ]
    }
   ],
   "source": [
    "first_name, middle_name, last_name = input().split()\n",
    "\n",
    "print(last_name + ' ' + first_name[0] + '.' + middle_name[0] + '.')"
   ]
  },
  {
   "cell_type": "markdown",
   "id": "43d5ff51",
   "metadata": {},
   "source": [
    "# Задача 112350"
   ]
  },
  {
   "cell_type": "code",
   "execution_count": 25,
   "id": "0e25c6c4",
   "metadata": {
    "scrolled": true
   },
   "outputs": [
    {
     "name": "stdout",
     "output_type": "stream",
     "text": [
      "qwerqwer.rqwer.json\n",
      "exe\n",
      "qwerqwer.rqwer.exe\n"
     ]
    }
   ],
   "source": [
    "file_name = input()\n",
    "extension = input()\n",
    "\n",
    "if file_name.rfind('.') == -1:\n",
    "    print(file_name + '.' + extension)\n",
    "else:\n",
    "    print(file_name[:file_name.rfind('.')] + '.' + extension)"
   ]
  },
  {
   "cell_type": "code",
   "execution_count": null,
   "id": "b5a94fc0",
   "metadata": {},
   "outputs": [],
   "source": [
    "# qwer\n",
    "# exe\n",
    "# -> qwer.exe"
   ]
  },
  {
   "cell_type": "code",
   "execution_count": null,
   "id": "b659e96f",
   "metadata": {},
   "outputs": [],
   "source": [
    "# qwer.qert.html\n",
    "# exe\n",
    "# -> qwer.qert.exe"
   ]
  },
  {
   "cell_type": "markdown",
   "id": "acb94779",
   "metadata": {},
   "source": [
    "# Списки"
   ]
  },
  {
   "cell_type": "code",
   "execution_count": 28,
   "id": "75e4abd8",
   "metadata": {
    "scrolled": true
   },
   "outputs": [
    {
     "name": "stdout",
     "output_type": "stream",
     "text": [
      "[1, 2, 3]\n",
      "[1, 999, 3]\n",
      "[1, 999]\n"
     ]
    }
   ],
   "source": [
    "my_list = [1, 2, 3]\n",
    "print(my_list)\n",
    "my_list[1] = 999\n",
    "print(my_list)\n",
    "print(my_list[0:2])"
   ]
  },
  {
   "cell_type": "code",
   "execution_count": 34,
   "id": "e0ba2d93",
   "metadata": {},
   "outputs": [
    {
     "name": "stdout",
     "output_type": "stream",
     "text": [
      "['h', 'llo']\n"
     ]
    }
   ],
   "source": [
    "my_list_2 = ['h', 'e', 'llo']\n",
    "print(my_list_2[::2])"
   ]
  },
  {
   "cell_type": "code",
   "execution_count": 39,
   "id": "32405837",
   "metadata": {},
   "outputs": [
    {
     "name": "stdout",
     "output_type": "stream",
     "text": [
      "7\n",
      "1\n",
      "2\n",
      "3\n",
      "4\n",
      "5\n",
      "6\n",
      "999\n"
     ]
    }
   ],
   "source": [
    "my_list_2 = [1, 2, 3, 4, 5, 6, 999]\n",
    "print(len(my_list_2))\n",
    "for i in my_list_2:\n",
    "    print(i)"
   ]
  },
  {
   "cell_type": "code",
   "execution_count": 40,
   "id": "236c8793",
   "metadata": {},
   "outputs": [
    {
     "name": "stdout",
     "output_type": "stream",
     "text": [
      "5\n"
     ]
    }
   ],
   "source": [
    "s = 'hello'\n",
    "print(len(s))"
   ]
  },
  {
   "cell_type": "code",
   "execution_count": 41,
   "id": "8b1c812d",
   "metadata": {},
   "outputs": [
    {
     "name": "stdout",
     "output_type": "stream",
     "text": [
      "[1, 2, 3, 3.454, 'hello', [1, 2, 3]]\n"
     ]
    }
   ],
   "source": [
    "h = [1, 2, 3]\n",
    "print(h)"
   ]
  },
  {
   "cell_type": "code",
   "execution_count": 42,
   "id": "76c599bf",
   "metadata": {},
   "outputs": [
    {
     "name": "stdout",
     "output_type": "stream",
     "text": [
      "h\n",
      "e\n",
      "l\n",
      "l\n",
      "o\n",
      "---------------------\n",
      "h\n",
      "e\n",
      "l\n",
      "l\n",
      "o\n"
     ]
    }
   ],
   "source": [
    "s = 'hello'\n",
    "for i in s:\n",
    "    print(i)\n",
    "print('---------------------')   \n",
    "for i in range(len(s)):\n",
    "    print(s[i])"
   ]
  },
  {
   "cell_type": "code",
   "execution_count": 43,
   "id": "16a661f1",
   "metadata": {
    "scrolled": true
   },
   "outputs": [
    {
     "name": "stdout",
     "output_type": "stream",
     "text": [
      "1\n",
      "2\n",
      "3\n",
      "4\n",
      "6\n",
      "77\n",
      "6764\n",
      "551\n",
      "---------------------\n",
      "1\n",
      "2\n",
      "3\n",
      "4\n",
      "6\n",
      "77\n",
      "6764\n",
      "551\n"
     ]
    }
   ],
   "source": [
    "s = [1, 2, 3, 4, 6, 77, 6764, 551]\n",
    "for i in s:\n",
    "    print(i)\n",
    "print('---------------------')   \n",
    "for i in range(len(s)):\n",
    "    print(s[i])"
   ]
  },
  {
   "cell_type": "code",
   "execution_count": 70,
   "id": "ded716ae",
   "metadata": {},
   "outputs": [
    {
     "name": "stdout",
     "output_type": "stream",
     "text": [
      "[0, 0, 0, 0, 0, 0, 0, 0, 0, 0] 10\n",
      "[1, 2, 3, 4, 5, 6, 7, 8, 9, 10] 10\n"
     ]
    }
   ],
   "source": [
    "my_list = [0] * 10\n",
    "print(my_list, len(my_list))\n",
    "my_list[0] = 1\n",
    "my_list[1] = 2\n",
    "my_list[2] = 3\n",
    "my_list[3] = 4\n",
    "my_list[4] = 5\n",
    "my_list[5] = 6\n",
    "my_list[6] = 7\n",
    "my_list[7] = 8\n",
    "my_list[8] = 9\n",
    "my_list[9] = 10\n",
    "for i in range(len(my_list)):\n",
    "    my_list[i] = i + 1\n",
    "\n",
    "print(my_list, len(my_list))"
   ]
  },
  {
   "cell_type": "code",
   "execution_count": 69,
   "id": "a25c83db",
   "metadata": {},
   "outputs": [
    {
     "data": {
      "text/plain": [
       "[1, 1, 1]"
      ]
     },
     "execution_count": 69,
     "metadata": {},
     "output_type": "execute_result"
    }
   ],
   "source": [
    "[1] * 3"
   ]
  },
  {
   "cell_type": "code",
   "execution_count": null,
   "id": "c945eef0",
   "metadata": {},
   "outputs": [],
   "source": []
  },
  {
   "cell_type": "code",
   "execution_count": 58,
   "id": "09c14877",
   "metadata": {},
   "outputs": [
    {
     "name": "stdout",
     "output_type": "stream",
     "text": [
      "0\n"
     ]
    }
   ],
   "source": [
    "my_list = [0] * 10\n",
    "print(my_list[5])"
   ]
  },
  {
   "cell_type": "code",
   "execution_count": 65,
   "id": "9a9c128b",
   "metadata": {},
   "outputs": [
    {
     "name": "stdout",
     "output_type": "stream",
     "text": [
      "[]\n",
      "[1, 2, 3, 4, 5, 6, 7, 8, 9, 10]\n"
     ]
    }
   ],
   "source": [
    "test_list = []\n",
    "print(test_list)\n",
    "for i in range(1, 11):\n",
    "    test_list.append(i)\n",
    "\n",
    "print(test_list)"
   ]
  },
  {
   "cell_type": "code",
   "execution_count": null,
   "id": "f2af8c7d",
   "metadata": {},
   "outputs": [],
   "source": []
  },
  {
   "cell_type": "code",
   "execution_count": null,
   "id": "4e8855bc",
   "metadata": {},
   "outputs": [],
   "source": []
  },
  {
   "cell_type": "code",
   "execution_count": null,
   "id": "6aa08e2d",
   "metadata": {},
   "outputs": [],
   "source": []
  },
  {
   "cell_type": "code",
   "execution_count": null,
   "id": "b2e12cbb",
   "metadata": {},
   "outputs": [],
   "source": []
  },
  {
   "cell_type": "code",
   "execution_count": null,
   "id": "dddedcbf",
   "metadata": {},
   "outputs": [],
   "source": []
  },
  {
   "cell_type": "code",
   "execution_count": 74,
   "id": "9f5a199d",
   "metadata": {},
   "outputs": [
    {
     "name": "stdout",
     "output_type": "stream",
     "text": [
      "['Ivan', 'Masha', 'Sasha']\n",
      "['Ivan', 'Masha', 'Sasha', 'Olga', 'Viktor']\n",
      "['Ivan', 'Masha', 'Sasha', 'Olga', 'Viktor', 'O', 'l', 'g', 'a']\n"
     ]
    }
   ],
   "source": [
    "students = ['Ivan', 'Masha', 'Sasha']\n",
    "print(students)\n",
    "students += ['Olga', 'Viktor']\n",
    "print(students)\n",
    "students += 'Olga'\n",
    "print(students)"
   ]
  },
  {
   "cell_type": "code",
   "execution_count": 79,
   "id": "12b32473",
   "metadata": {},
   "outputs": [
    {
     "name": "stdout",
     "output_type": "stream",
     "text": [
      "[1, 2]\n"
     ]
    }
   ],
   "source": [
    "test_list_2 = []\n",
    "test_list_2 += [1]\n",
    "test_list_2 += [2]\n",
    "print(test_list_2)"
   ]
  },
  {
   "cell_type": "code",
   "execution_count": 98,
   "id": "c49ccea3",
   "metadata": {},
   "outputs": [
    {
     "name": "stdout",
     "output_type": "stream",
     "text": [
      "[10, 1, 2, 3, 6, 5, 5, 13, 56565]\n",
      "[1, 2, 3, 5, 5, 6, 10, 13, 56565]\n"
     ]
    }
   ],
   "source": [
    "some_list = [10, 1, 2, 3, 6, 5, 5, 13, 56565]\n",
    "print(some_list)\n",
    "sorted_list = sorted(some_list)\n",
    "\n",
    "print(sorted_list)"
   ]
  },
  {
   "cell_type": "code",
   "execution_count": 100,
   "id": "42c54099",
   "metadata": {},
   "outputs": [
    {
     "name": "stdout",
     "output_type": "stream",
     "text": [
      "[1, 2, 3, 5, 5, 6, 10, 13, 56565]\n"
     ]
    }
   ],
   "source": [
    "some_list = [10, 1, 2, 3, 6, 5, 5, 13, 56565]\n",
    "some_list.sort()\n",
    "print(some_list)"
   ]
  },
  {
   "cell_type": "code",
   "execution_count": null,
   "id": "ecfa1a73",
   "metadata": {},
   "outputs": [],
   "source": [
    "students"
   ]
  },
  {
   "cell_type": "code",
   "execution_count": null,
   "id": "f1435b2c",
   "metadata": {},
   "outputs": [],
   "source": [
    "a = [1, 2, 3]\n",
    "b = a\n",
    "# значения списка b?\n",
    "\n",
    "a[1] = 10\n",
    "# значения списка b?\n",
    "\n",
    "b[0] = 20\n",
    "# значения списка a?\n",
    "\n",
    "a = [5, 6]\n",
    "# значения списка b?"
   ]
  },
  {
   "cell_type": "markdown",
   "id": "5ffeed81",
   "metadata": {},
   "source": [
    "Напишите программу, на вход которой подается одна строка с целыми числами. Программа должна вывести сумму этих чисел.\n",
    "Используйте метод split строки. "
   ]
  },
  {
   "cell_type": "code",
   "execution_count": null,
   "id": "28e17465",
   "metadata": {},
   "outputs": [],
   "source": []
  },
  {
   "cell_type": "markdown",
   "id": "d31cd419",
   "metadata": {},
   "source": [
    "Напишите программу, на вход которой подаётся список чисел одной строкой. Программа должна для каждого элемента этого списка вывести сумму двух его соседей. Для элементов списка, являющихся крайними, одним из соседей считается элемент, находящий на противоположном конце этого списка. Например, если на вход подаётся список \"1 3 5 6 10\", то на выход ожидается список \"13 6 9 15 7\" (без кавычек).\n",
    "\n",
    "Если на вход пришло только одно число, надо вывести его же.\n",
    "\n",
    "Вывод должен содержать одну строку с числами нового списка, разделёнными пробелом.\n",
    "Sample Input 1:\n",
    "\n",
    "1 3 5 6 10\n",
    "Sample Output 1:\n",
    "\n",
    "13 6 9 15 7\n",
    "Sample Input 2:\n",
    "\n",
    "10\n",
    "Sample Output 2:\n",
    "\n",
    "10"
   ]
  },
  {
   "cell_type": "code",
   "execution_count": null,
   "id": "e273578c",
   "metadata": {},
   "outputs": [],
   "source": []
  },
  {
   "cell_type": "markdown",
   "id": "dd93f787",
   "metadata": {},
   "source": [
    "Напишите программу, которая принимает на вход список чисел в одной строке и выводит на экран в одну строку значения, которые встречаются в нём более одного раза.\n",
    "\n",
    "Для решения задачи может пригодиться метод sort списка.\n",
    "\n",
    "Выводимые числа не должны повторяться, порядок их вывода может быть произвольным."
   ]
  },
  {
   "cell_type": "code",
   "execution_count": null,
   "id": "883fdb26",
   "metadata": {},
   "outputs": [],
   "source": []
  },
  {
   "cell_type": "markdown",
   "id": "3467e95c",
   "metadata": {},
   "source": [
    "Список чисел\n",
    "На вход программе подается одно число nn. Напишите программу, которая выводит список [1, 2, 3, …, n].\n",
    "\n",
    "Формат входных данных\n",
    "На вход программе подается одно натуральное число.\n",
    "\n",
    "Формат выходных данных\n",
    "Программа должна вывести текст в соответствии с условием задачи."
   ]
  },
  {
   "cell_type": "code",
   "execution_count": null,
   "id": "186fa7c7",
   "metadata": {},
   "outputs": [],
   "source": []
  },
  {
   "cell_type": "code",
   "execution_count": null,
   "id": "cacaf46a",
   "metadata": {},
   "outputs": [],
   "source": []
  },
  {
   "cell_type": "code",
   "execution_count": null,
   "id": "145a87cc",
   "metadata": {},
   "outputs": [],
   "source": []
  }
 ],
 "metadata": {
  "kernelspec": {
   "display_name": "Python 3 (ipykernel)",
   "language": "python",
   "name": "python3"
  },
  "language_info": {
   "codemirror_mode": {
    "name": "ipython",
    "version": 3
   },
   "file_extension": ".py",
   "mimetype": "text/x-python",
   "name": "python",
   "nbconvert_exporter": "python",
   "pygments_lexer": "ipython3",
   "version": "3.9.7"
  }
 },
 "nbformat": 4,
 "nbformat_minor": 5
}
