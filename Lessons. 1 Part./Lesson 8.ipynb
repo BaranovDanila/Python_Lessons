{
 "cells": [
  {
   "cell_type": "markdown",
   "id": "92d47765",
   "metadata": {},
   "source": [
    "# Задача 1\n",
    "GC-состав является важной характеристикой геномных последовательностей и определяется как процентное соотношение суммы всех гуанинов и цитозинов к общему числу нуклеиновых оснований в геномной последовательности.\n",
    "Напишите программу, которая вычисляет процентное содержание символов G (гуанин) и C (цитозин) в введенной строке (программа не должна зависеть от регистра вводимых символов)."
   ]
  },
  {
   "cell_type": "code",
   "execution_count": null,
   "id": "1d3fc1ff",
   "metadata": {},
   "outputs": [],
   "source": [
    "str = input()\n",
    "\n",
    "a = 0\n",
    "str = str.lower()\n",
    "\n",
    "c = str.count('c')\n",
    "g = str.count('g')\n",
    "\n",
    "b = len(str)\n",
    "\n",
    "print(((g + c) / b) * 100) #acggtgttat"
   ]
  },
  {
   "cell_type": "code",
   "execution_count": null,
   "id": "fb1a671f",
   "metadata": {},
   "outputs": [],
   "source": [
    "'111'.count('1')"
   ]
  },
  {
   "cell_type": "markdown",
   "id": "8b1ba93f",
   "metadata": {},
   "source": [
    "# Задача 2"
   ]
  },
  {
   "cell_type": "code",
   "execution_count": null,
   "id": "1848b236",
   "metadata": {},
   "outputs": [],
   "source": [
    "s = 'abcdefghijk'\n",
    "s[3:6]\n",
    "s[:6]\n",
    "s[3:]\n",
    "s[::-1]\n",
    "s[:-3]\n",
    "s[:-6]\n",
    "s[-1:-10:-2]"
   ]
  },
  {
   "cell_type": "code",
   "execution_count": null,
   "id": "034c9df9",
   "metadata": {},
   "outputs": [],
   "source": []
  },
  {
   "cell_type": "code",
   "execution_count": null,
   "id": "8433668e",
   "metadata": {},
   "outputs": [],
   "source": []
  },
  {
   "cell_type": "code",
   "execution_count": null,
   "id": "b8f9a950",
   "metadata": {},
   "outputs": [],
   "source": []
  },
  {
   "cell_type": "code",
   "execution_count": null,
   "id": "5fcda949",
   "metadata": {},
   "outputs": [],
   "source": []
  },
  {
   "cell_type": "code",
   "execution_count": null,
   "id": "5dbd1f81",
   "metadata": {},
   "outputs": [],
   "source": []
  },
  {
   "cell_type": "markdown",
   "id": "87248906",
   "metadata": {},
   "source": [
    "# Задача 3\n",
    "\n",
    "Узнав, что ДНК не является случайной строкой, только что поступившие в Институт биоинформатики студенты группы информатиков предложили использовать алгоритм сжатия, который сжимает повторяющиеся символы в строке.\n",
    "\n",
    "Кодирование осуществляется следующим образом:\n",
    "s = 'aaaabbсaa' преобразуется в 'a4b2с1a2', то есть группы одинаковых символов исходной строки заменяются на этот символ и количество его повторений в этой позиции строки.\n",
    "\n",
    "Напишите программу, которая считывает строку, кодирует её предложенным алгоритмом и выводит закодированную последовательность на стандартный вывод. Кодирование должно учитывать регистр символов."
   ]
  },
  {
   "cell_type": "code",
   "execution_count": 23,
   "id": "44f4c363",
   "metadata": {},
   "outputs": [],
   "source": [
    "# aaaabbсaa -> a4b2c1a2"
   ]
  },
  {
   "cell_type": "code",
   "execution_count": 24,
   "id": "aaec5b95",
   "metadata": {},
   "outputs": [
    {
     "name": "stdout",
     "output_type": "stream",
     "text": [
      "aaaabbсa\n",
      "a4b2с1a1\n"
     ]
    }
   ],
   "source": [
    "s = input()\n",
    "cnt = 1\n",
    "for i in range(len(s) - 1):\n",
    "    if s[i] == s[i + 1]:\n",
    "        cnt += 1\n",
    "    else:\n",
    "        print(s[i], cnt, sep='', end='')\n",
    "        cnt = 1\n",
    "print(s[-1], cnt, sep='')"
   ]
  },
  {
   "cell_type": "code",
   "execution_count": null,
   "id": "bd7bebed",
   "metadata": {},
   "outputs": [],
   "source": []
  },
  {
   "cell_type": "code",
   "execution_count": null,
   "id": "1c59781a",
   "metadata": {},
   "outputs": [],
   "source": []
  },
  {
   "cell_type": "code",
   "execution_count": null,
   "id": "aeba1649",
   "metadata": {},
   "outputs": [],
   "source": []
  },
  {
   "cell_type": "code",
   "execution_count": 21,
   "id": "14bdd91d",
   "metadata": {},
   "outputs": [
    {
     "name": "stdout",
     "output_type": "stream",
     "text": [
      "aaaabbсaa\n",
      "a4b2с1"
     ]
    }
   ],
   "source": [
    "s = input()\n",
    "res = 1\n",
    "for i in range(len(s) - 1):\n",
    "    if s[i] == s[i + 1]:\n",
    "        res += 1\n",
    "    else:\n",
    "        print(s[i], res, sep='', end='')\n",
    "        res = 1"
   ]
  },
  {
   "cell_type": "code",
   "execution_count": 25,
   "id": "ef6b6fb1",
   "metadata": {},
   "outputs": [
    {
     "name": "stdout",
     "output_type": "stream",
     "text": [
      "aaaabbсaa\n",
      "a4b2с1a2"
     ]
    }
   ],
   "source": [
    "s = input()\n",
    "x = 1\n",
    "m = 1\n",
    "helper = s[x:x + 1]\n",
    "\n",
    "for i in s:\n",
    "    if i == helper:\n",
    "        m += 1\n",
    "    else:\n",
    "        print(i, end = '')\n",
    "        print(m, end = '')\n",
    "        m = 1\n",
    "    x += 1\n",
    "    helper = s[x:x + 1]\n"
   ]
  },
  {
   "cell_type": "code",
   "execution_count": 36,
   "id": "f1b37575",
   "metadata": {},
   "outputs": [
    {
     "data": {
      "text/plain": [
       "'s5'"
      ]
     },
     "execution_count": 36,
     "metadata": {},
     "output_type": "execute_result"
    }
   ],
   "source": [
    "'s' + '5'"
   ]
  },
  {
   "cell_type": "code",
   "execution_count": 3,
   "id": "48e09763",
   "metadata": {
    "scrolled": true
   },
   "outputs": [
    {
     "name": "stdout",
     "output_type": "stream",
     "text": [
      "h\n",
      "e\n",
      "l\n",
      "l\n",
      "o\n"
     ]
    }
   ],
   "source": [
    "s = 'hello'\n",
    "\n",
    "for i in range(len(s)):\n",
    "    print(s[i])"
   ]
  },
  {
   "cell_type": "markdown",
   "id": "21ce9133",
   "metadata": {},
   "source": [
    "# Задача 4\n",
    "Вашей программе на вход подаются три строки s, a, b, состоящие из строчных латинских букв.\n",
    "За одну операцию вы можете заменить все вхождения строки a в строку s на строку b.\n",
    "\n",
    "Например, s = \"abab\", a = \"ab\", b = \"ba\", тогда после выполнения одной операции строка s перейдет в строку \"baba\", после выполнения двух и операций – в строку \"bbaa\", и дальнейшие операции не будут изменять строку s.\n",
    "\n",
    "Необходимо узнать, после какого минимального количества операций в строке s не останется вхождений строки a. Если операций потребуется более 1000, выведите Impossible.\n",
    "\n",
    "Выведите одно число – минимальное число операций, после применения которых в строке s не останется вхождений строки a, или Impossible, если операций потребуется более 1000.\n"
   ]
  },
  {
   "cell_type": "code",
   "execution_count": null,
   "id": "fe91da35",
   "metadata": {},
   "outputs": [],
   "source": [
    "s = input()\n",
    "a = input()\n",
    "b = input()\n",
    "\n",
    "if a not in s:\n",
    "    print(0)\n",
    "elif a in b:\n",
    "    print(\"Impossible\")\n",
    "else:\n",
    "    ans = 0\n",
    "    while a in s:\n",
    "        s = s.replace(a, b)\n",
    "        ans += 1\n",
    "\n",
    "    print(ans)"
   ]
  },
  {
   "cell_type": "code",
   "execution_count": null,
   "id": "37f475b3",
   "metadata": {},
   "outputs": [],
   "source": [
    "'adfaaffa'.replace('a', '*')"
   ]
  },
  {
   "cell_type": "markdown",
   "id": "bbb78cf6",
   "metadata": {},
   "source": [
    "# Что покажет приведенный ниже фрагмент кода?"
   ]
  },
  {
   "cell_type": "code",
   "execution_count": null,
   "id": "ced60463",
   "metadata": {},
   "outputs": [],
   "source": [
    "s = 'abcdefg'\n",
    "print(s[0] + s[2] + s[4] + s[6])"
   ]
  },
  {
   "cell_type": "code",
   "execution_count": null,
   "id": "4cbfa4fc",
   "metadata": {},
   "outputs": [],
   "source": [
    "s[1] * 3"
   ]
  },
  {
   "cell_type": "code",
   "execution_count": null,
   "id": "03e8de4d",
   "metadata": {},
   "outputs": [],
   "source": [
    "s = 'abcdefg'\n",
    "print(s[0] * 3 + s[-1] * 3 + s[3] * 2 + s[3] * 2)"
   ]
  },
  {
   "cell_type": "code",
   "execution_count": null,
   "id": "02e25b34",
   "metadata": {},
   "outputs": [],
   "source": [
    "for i in s:\n",
    "    print(i)\n",
    "for i in range(len(s)):\n",
    "    print(s[i])"
   ]
  },
  {
   "cell_type": "code",
   "execution_count": null,
   "id": "8660b584",
   "metadata": {},
   "outputs": [],
   "source": [
    "s = '01234567891011121314151617'\n",
    "for i in range(0, len(s), 5):\n",
    "    print(s[i], end='')"
   ]
  },
  {
   "cell_type": "code",
   "execution_count": null,
   "id": "81e32c15",
   "metadata": {},
   "outputs": [],
   "source": [
    "s[25]"
   ]
  },
  {
   "cell_type": "markdown",
   "id": "8ba981b5",
   "metadata": {},
   "source": [
    "В столбик 1\n",
    "\n",
    "На вход программе подается одна строка. Напишите программу, которая выводит элементы строки с индексами 0, 2, 4, ... в столбик.\n",
    "Формат входных данных\n",
    "На вход программе подается одна строка.\n",
    "Формат выходных данных\n",
    "Программа должна вывести элементы строки с индексами 0, 2, 4, ..., каждое на отдельной строке."
   ]
  },
  {
   "cell_type": "code",
   "execution_count": null,
   "id": "baddb5bb",
   "metadata": {},
   "outputs": [],
   "source": [
    "s = input()\n",
    "\n",
    "for i in range(0, len(s), 2):\n",
    "    print(s[i])\n"
   ]
  },
  {
   "cell_type": "markdown",
   "id": "2fb7274d",
   "metadata": {},
   "source": [
    "В столбик 2\n",
    "На вход программе подается одна строка. Напишите программу, которая выводит в столбик элементы строки в обратном порядке.\n",
    "Формат входных данных\n",
    "На вход программе подается одна строка.\n",
    "Формат выходных данных\n",
    "Программа должна вывести в столбик элементы строки в обратном порядке. "
   ]
  },
  {
   "cell_type": "code",
   "execution_count": null,
   "id": "8618a1a3",
   "metadata": {},
   "outputs": [],
   "source": [
    "s = input()\n",
    "\n",
    "for i in range(1, len(s) + 1):\n",
    "    print(s[-i])"
   ]
  },
  {
   "cell_type": "code",
   "execution_count": null,
   "id": "b4f35ae2",
   "metadata": {},
   "outputs": [],
   "source": [
    "len('abcdefg')"
   ]
  },
  {
   "cell_type": "markdown",
   "id": "c6b8560d",
   "metadata": {},
   "source": [
    "ФИО\n",
    "На вход программе подаются три строки: имя, фамилия и отчество. Напишите программу, которая выводит инициалы человека.\n",
    "Формат входных данных\n",
    "На вход программе подаются три строки, каждая на отдельной строке.\n",
    "Формат выходных данных\n",
    "Программа должна вывести ФИО человека.\n",
    "Примечание. Гарантируется, что имя, фамилия и отчество начинаются с заглавной буквы."
   ]
  },
  {
   "cell_type": "code",
   "execution_count": null,
   "id": "0c6680c3",
   "metadata": {},
   "outputs": [],
   "source": [
    "first_name = input()\n",
    "last_name = input()\n",
    "second_name = input()\n",
    "\n",
    "print(last_name[0], first_name[0], second_name[0], sep='')"
   ]
  },
  {
   "cell_type": "markdown",
   "id": "f6722449",
   "metadata": {},
   "source": [
    "Цифра 1\n",
    "На вход программе подается одна строка состоящая из цифр. Напишите программу, которая считает сумму цифр данной строки.\n",
    "Формат входных данных\n",
    "На вход программе подается одна строка состоящая из цифр.\n",
    "Формат выходных данных\n",
    "Программа должна вывести сумму цифр данной строки."
   ]
  },
  {
   "cell_type": "code",
   "execution_count": null,
   "id": "133de4e8",
   "metadata": {},
   "outputs": [],
   "source": [
    "s = input()\n",
    "sum_nums = 0\n",
    "\n",
    "for i in s:\n",
    "    sum_nums += int(i)\n",
    "\n",
    "print(sum_nums)"
   ]
  },
  {
   "cell_type": "code",
   "execution_count": null,
   "id": "b4eba005",
   "metadata": {},
   "outputs": [],
   "source": [
    "int('1')"
   ]
  },
  {
   "cell_type": "markdown",
   "id": "9581b8cf",
   "metadata": {},
   "source": [
    "Цифра 2\n",
    "На вход программе подается одна строка. Напишите программу, которая выводит сообщение «Цифра» (без кавычек), если строка содержит цифру. В противном случае вывести сообщение «Цифр нет» (без кавычек).\n",
    "Формат входных данных\n",
    "На вход программе подается одна строка.\n",
    "Формат выходных данных\n",
    "Программа должна вывести текст в соответствии с условием задачи."
   ]
  },
  {
   "cell_type": "code",
   "execution_count": null,
   "id": "60a5c880",
   "metadata": {},
   "outputs": [],
   "source": [
    "s = input()\n",
    "nums_str = '0123456789'\n",
    "result = 'Цифры нет'\n",
    "for i in s:\n",
    "    if i in nums_str:\n",
    "        result = 'Цифра'\n",
    "        break\n",
    "print(result)"
   ]
  },
  {
   "cell_type": "code",
   "execution_count": null,
   "id": "8a95d216",
   "metadata": {},
   "outputs": [],
   "source": []
  },
  {
   "cell_type": "code",
   "execution_count": null,
   "id": "a5cdee08",
   "metadata": {},
   "outputs": [],
   "source": []
  },
  {
   "cell_type": "markdown",
   "id": "19148b32",
   "metadata": {},
   "source": [
    "Сколько раз?\n",
    "На вход программе подается одна строка. Напишите программу, которая определяет сколько раз в строке встречаются символы + и *.\n",
    "Формат входных данных\n",
    "На вход программе подается одна строка.\n",
    "Формат выходных данных\n",
    "Программа должна вывести сколько раз встречаются символы  + и * в строке."
   ]
  },
  {
   "cell_type": "code",
   "execution_count": null,
   "id": "3161b426",
   "metadata": {},
   "outputs": [],
   "source": [
    "s = input()\n",
    "\n",
    "sum_ast = 0\n",
    "sum_plus = 0\n",
    "\n",
    "for i in s:\n",
    "    if i == '*':\n",
    "        sum_ast += 1\n",
    "    elif i == '+':\n",
    "        sum_plus += 1\n",
    "print('Символ * встречается', sum_ast, 'раз')\n",
    "print('Символ + встречается', sum_plus, 'раз')"
   ]
  },
  {
   "cell_type": "markdown",
   "id": "a6211b3a",
   "metadata": {},
   "source": [
    "Одинаковые соседи\n",
    "На вход программе подается одна строка. Напишите программу, которая определяет сколько в ней одинаковых соседних символов.\n",
    "Формат входных данных\n",
    "На вход программе подается одна строка.\n",
    "Формат выходных данных\n",
    "Программа должна вывести количество одинаковых соседних символов."
   ]
  },
  {
   "cell_type": "code",
   "execution_count": null,
   "id": "0aaf0b40",
   "metadata": {},
   "outputs": [],
   "source": [
    "# aaafgfgggg"
   ]
  },
  {
   "cell_type": "code",
   "execution_count": null,
   "id": "4ea4f756",
   "metadata": {},
   "outputs": [],
   "source": [
    "s = input()\n",
    "\n",
    "result = 0\n",
    "for i in range(1, len(s)):\n",
    "    if s[i] == s[i - 1]:\n",
    "        result += 1\n",
    "print(result)\n",
    "    "
   ]
  },
  {
   "cell_type": "code",
   "execution_count": null,
   "id": "eb88b8cf",
   "metadata": {},
   "outputs": [],
   "source": []
  },
  {
   "cell_type": "code",
   "execution_count": null,
   "id": "5a339cfb",
   "metadata": {},
   "outputs": [],
   "source": []
  },
  {
   "cell_type": "code",
   "execution_count": null,
   "id": "36e8aac3",
   "metadata": {},
   "outputs": [],
   "source": []
  },
  {
   "cell_type": "code",
   "execution_count": null,
   "id": "9d24a009",
   "metadata": {},
   "outputs": [],
   "source": []
  },
  {
   "cell_type": "code",
   "execution_count": null,
   "id": "9f407fff",
   "metadata": {},
   "outputs": [],
   "source": [
    "s, count = input(), 0\n",
    "for i in range(1, len(s)):\n",
    "    count += s[i] == s[i - 1]\n",
    "print(count)"
   ]
  },
  {
   "cell_type": "code",
   "execution_count": null,
   "id": "26dfee86",
   "metadata": {},
   "outputs": [],
   "source": [
    "asdf = 0\n",
    "asdf += 1 == 22"
   ]
  },
  {
   "cell_type": "code",
   "execution_count": null,
   "id": "47cf8d7b",
   "metadata": {},
   "outputs": [],
   "source": [
    "asdf"
   ]
  },
  {
   "cell_type": "markdown",
   "id": "f931f71c",
   "metadata": {},
   "source": [
    "Гласные и согласные\n",
    "На вход программе подается одна строка с буквами русского языка. Напишите программу, которая определяет количество гласных и согласных букв.\n",
    "Формат входных данных\n",
    "На вход программе подается одна строка.\n",
    "Формат выходных данных\n",
    "Программа должна вывести количество гласных и согласных букв.\n",
    "Примечание. В русском языке 10 гласных букв (а, у, о, ы, и, э, я, ю, ё, е) и 21 согласная буква (б, в, г, д, ж, з, й, к, л, м, н, п, р, с, т, ф, х, ц, ч, ш, щ)."
   ]
  },
  {
   "cell_type": "code",
   "execution_count": null,
   "id": "fcbc1cda",
   "metadata": {},
   "outputs": [],
   "source": []
  },
  {
   "cell_type": "markdown",
   "id": "1881d6dc",
   "metadata": {},
   "source": [
    "Палиндром\n",
    "На вход программе подается одно слово, записанное в нижнем регистре. Напишите программу, которая определяет является ли оно палиндромом.\n",
    "Формат входных данных\n",
    "На вход программе подается одно слово в нижнем регистре.\n",
    "Формат выходных данных\n",
    "Программа должна вывести «YES», если слово является палиндромом и «NO» в противном случае.\n",
    "Примечание. Палиндром читается одинаково в обоих направлениях, например слово «потоп»."
   ]
  },
  {
   "cell_type": "code",
   "execution_count": null,
   "id": "c9e244ff",
   "metadata": {},
   "outputs": [],
   "source": [
    "# а роза упала на лапу Азора\n",
    "# арозаупаланалапуазора\n",
    "# а муза рада музе без ума да разума\n",
    "# довод\n",
    "s = input()\n",
    "print(s == s[::-1])"
   ]
  },
  {
   "cell_type": "code",
   "execution_count": null,
   "id": "0305981f",
   "metadata": {},
   "outputs": [],
   "source": [
    "s = input().lower().replace(' ', '')\n",
    "start = 0\n",
    "end = len(s) - 1\n",
    "result = 'Полиндром'\n",
    "while start < end:\n",
    "    if s[start] != s[end]:\n",
    "        result = 'not Полиндром'\n",
    "    start += 1\n",
    "    end -= 1\n",
    "print(result)    "
   ]
  },
  {
   "cell_type": "code",
   "execution_count": null,
   "id": "32b09661",
   "metadata": {},
   "outputs": [],
   "source": [
    "# а муза рада музе без ума да разума\n",
    "\n",
    "s = 'а муза рада музе без ума да разума'\n",
    "s.replace(' ', '')"
   ]
  },
  {
   "cell_type": "code",
   "execution_count": 9,
   "id": "7b1cba57",
   "metadata": {},
   "outputs": [
    {
     "name": "stdout",
     "output_type": "stream",
     "text": [
      "1\n",
      "9\n"
     ]
    }
   ],
   "source": [
    "s = 'afsd as dfhfjhj'\n",
    "print(s.find('f'))\n",
    "print(s.find('f', s.find('f') + 1))"
   ]
  },
  {
   "cell_type": "code",
   "execution_count": 13,
   "id": "3efe15f1",
   "metadata": {},
   "outputs": [
    {
     "data": {
      "text/plain": [
       "True"
      ]
     },
     "execution_count": 13,
     "metadata": {},
     "output_type": "execute_result"
    }
   ],
   "source": [
    "s = 'kazak'\n",
    "s == s[::-1]"
   ]
  },
  {
   "cell_type": "code",
   "execution_count": 15,
   "id": "32ad12ca",
   "metadata": {},
   "outputs": [
    {
     "data": {
      "text/plain": [
       "'olleh'"
      ]
     },
     "execution_count": 15,
     "metadata": {},
     "output_type": "execute_result"
    }
   ],
   "source": [
    "def rev_str(s):\n",
    "    result_string = ''\n",
    "    for i in s:\n",
    "        result_string = i + result_string\n",
    "    return result_string\n",
    "\n",
    "\n",
    "rev_str('hello')"
   ]
  },
  {
   "cell_type": "code",
   "execution_count": 18,
   "id": "b30546c6",
   "metadata": {},
   "outputs": [
    {
     "data": {
      "text/plain": [
       "'gs'"
      ]
     },
     "execution_count": 18,
     "metadata": {},
     "output_type": "execute_result"
    }
   ],
   "source": [
    "'s' + 'g'\n",
    "'g' + 's'"
   ]
  },
  {
   "cell_type": "markdown",
   "id": "d3b32d74",
   "metadata": {},
   "source": [
    "Делаем срезы 1\n",
    "На вход программе подается одна строка. Напишите программу, которая выводит:\n",
    "общее количество символов в строке;\n",
    "исходную строку повторенную 3 раза;\n",
    "первый символ строки;\n",
    "первые три символа строки;\n",
    "последние три символа строки;\n",
    "строку в обратном порядке;\n",
    "строку с удаленным первым и последним символом.\n",
    "Формат входных данных\n",
    "На вход программе подается одна строка, длина которой больше 3 символов.\n",
    "Формат выходных данных\n",
    "Программа должна вывести данные в соответствии с условием. Каждое значение выводится на отдельной строке."
   ]
  },
  {
   "cell_type": "code",
   "execution_count": 4,
   "id": "1a57baaa",
   "metadata": {},
   "outputs": [
    {
     "name": "stdout",
     "output_type": "stream",
     "text": [
      "123456789\n",
      "9\n",
      "123456789123456789123456789\n",
      "1\n",
      "123\n",
      "789\n",
      "987\n",
      "987654321\n",
      "2345678\n"
     ]
    }
   ],
   "source": [
    "s = input()\n",
    "print(len(s))\n",
    "print(s * 3)\n",
    "print(s[0])\n",
    "print(s[0:3])\n",
    "print(s[-3:])\n",
    "print(s[-1:-4:-1])\n",
    "print(s[::-1])\n",
    "print(s[1:-1])"
   ]
  },
  {
   "cell_type": "markdown",
   "id": "6770611d",
   "metadata": {},
   "source": [
    "Две половинки\n",
    "На вход программе подается строка текста. Напишите программу, которая разрежет ее на две равные части, переставит их местами и выведет на экран.\n",
    "Формат входных данных\n",
    "На вход программе подается строка текста.\n",
    "Формат выходных данных\n",
    "Программа должна вывести текст в соответствии с условием задачи.\n",
    "Примечание. Если длина строки нечетная, то длина первой части должна быть на один символ больше."
   ]
  },
  {
   "cell_type": "code",
   "execution_count": null,
   "id": "9787b586",
   "metadata": {},
   "outputs": [],
   "source": [
    "#hello -> lohel"
   ]
  },
  {
   "cell_type": "code",
   "execution_count": 11,
   "id": "6b69271d",
   "metadata": {
    "scrolled": true
   },
   "outputs": [
    {
     "data": {
      "text/plain": [
       "2"
      ]
     },
     "execution_count": 11,
     "metadata": {},
     "output_type": "execute_result"
    }
   ],
   "source": [
    "4 // 2 + 4 % 2"
   ]
  },
  {
   "cell_type": "code",
   "execution_count": 10,
   "id": "5d85bd5c",
   "metadata": {},
   "outputs": [
    {
     "data": {
      "text/plain": [
       "3"
      ]
     },
     "execution_count": 10,
     "metadata": {},
     "output_type": "execute_result"
    }
   ],
   "source": [
    "5 // 2 + 5 % 2"
   ]
  },
  {
   "cell_type": "code",
   "execution_count": 12,
   "id": "7baaf873",
   "metadata": {},
   "outputs": [
    {
     "name": "stdout",
     "output_type": "stream",
     "text": [
      "hello\n",
      "lohel\n"
     ]
    }
   ],
   "source": [
    "s = input()\n",
    "str_mid = len(s) // 2 + len(s) % 2\n",
    "print(s[str_mid:] + s[:str_mid])"
   ]
  },
  {
   "cell_type": "code",
   "execution_count": 15,
   "id": "5d62e8a5",
   "metadata": {},
   "outputs": [
    {
     "name": "stdout",
     "output_type": "stream",
     "text": [
      "lohel\n"
     ]
    }
   ],
   "source": [
    "\n",
    "print(s[len(s) // 2 + len(s) % 2:] + s[:len(s) // 2 + len(s) % 2])"
   ]
  },
  {
   "cell_type": "code",
   "execution_count": null,
   "id": "5b0fd830",
   "metadata": {},
   "outputs": [],
   "source": [
    "# In the hole in the ground there lived a hobbit"
   ]
  },
  {
   "cell_type": "code",
   "execution_count": null,
   "id": "a5ca9d1b",
   "metadata": {},
   "outputs": [],
   "source": [
    "s = input()\n",
    "a = s[:s.find('h')] \n",
    "b = s[s.find('h'):s.rfind('h') + 1]\n",
    "c = s[s.rfind('h') + 1:]\n",
    "s = a + b[::-1] + c\n",
    "print(s)"
   ]
  },
  {
   "cell_type": "code",
   "execution_count": null,
   "id": "d9531c22",
   "metadata": {},
   "outputs": [],
   "source": []
  },
  {
   "cell_type": "code",
   "execution_count": null,
   "id": "fbf37094",
   "metadata": {},
   "outputs": [],
   "source": []
  }
 ],
 "metadata": {
  "kernelspec": {
   "display_name": "Python 3 (ipykernel)",
   "language": "python",
   "name": "python3"
  },
  "language_info": {
   "codemirror_mode": {
    "name": "ipython",
    "version": 3
   },
   "file_extension": ".py",
   "mimetype": "text/x-python",
   "name": "python",
   "nbconvert_exporter": "python",
   "pygments_lexer": "ipython3",
   "version": "3.9.7"
  }
 },
 "nbformat": 4,
 "nbformat_minor": 5
}
