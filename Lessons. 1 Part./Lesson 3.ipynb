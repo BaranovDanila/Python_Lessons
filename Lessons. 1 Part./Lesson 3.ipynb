{
 "cells": [
  {
   "cell_type": "markdown",
   "id": "dc9a6d4f",
   "metadata": {},
   "source": [
    "# Функции в языке Python"
   ]
  },
  {
   "cell_type": "markdown",
   "id": "c740bea5",
   "metadata": {},
   "source": [
    "Функция состоит из трех частей: имени, аргументов и тела. Вот пример простой функции:"
   ]
  },
  {
   "cell_type": "code",
   "execution_count": 7,
   "id": "ee222397",
   "metadata": {},
   "outputs": [
    {
     "name": "stdout",
     "output_type": "stream",
     "text": [
      "Dan\n",
      "Привет, Dan\n",
      "Привет, Мэри\n"
     ]
    }
   ],
   "source": [
    "def testfunc(myname):\n",
    "    print('Привет,', myname)\n",
    "    # Конец тела функции\n",
    "name = input()\n",
    "testfunc(name)\n",
    "testfunc('Мэри')"
   ]
  },
  {
   "cell_type": "markdown",
   "id": "310c0279",
   "metadata": {},
   "source": [
    "Имя этой функции — testfunc. У нее есть единственный аргумент — myname, а ее тело — это блок кода, идущий сразу после строки,\n",
    "которая начинается с def (сокращение от define — определить). Аргумент — это специальная переменная, которая существует, только пока\n",
    "функция выполняется.\n",
    "Функцию testfunc можно запустить (или, как говорят программисты, вызвать), указав ее имя, а после него, в скобках, значение аргумента:\n"
   ]
  },
  {
   "cell_type": "code",
   "execution_count": 2,
   "id": "c4b9abe9",
   "metadata": {},
   "outputs": [
    {
     "name": "stdout",
     "output_type": "stream",
     "text": [
      "Привет, Мэри\n",
      "Привет, Мэри\n",
      "Привет, Мэри\n",
      "Привет, Мэри\n"
     ]
    }
   ],
   "source": [
    "testfunc('Мэри')\n",
    "testfunc('Мэри')\n",
    "testfunc('Мэри')\n",
    "testfunc('Мэри')"
   ]
  },
  {
   "cell_type": "markdown",
   "id": "bfc609fb",
   "metadata": {},
   "source": [
    "Также можно создать функцию, которая принимает не один, а два,\n",
    "три или иное количество аргументов (либо, напротив, не принимает аргументы). Например, вот функция testfunc с двумя аргументами:"
   ]
  },
  {
   "cell_type": "code",
   "execution_count": 8,
   "id": "8f217993",
   "metadata": {},
   "outputs": [
    {
     "name": "stdout",
     "output_type": "stream",
     "text": [
      "Привет, Мэри Смит\n"
     ]
    }
   ],
   "source": [
    "def testfunc(fname, lname):\n",
    "    print('Привет,', fname, lname)\n",
    "    \n",
    "testfunc('Мэри', 'Смит')"
   ]
  },
  {
   "cell_type": "code",
   "execution_count": 11,
   "id": "5cd27d8b",
   "metadata": {},
   "outputs": [
    {
     "name": "stdout",
     "output_type": "stream",
     "text": [
      "Маша\n",
      "Иванова\n",
      "Привет, Маша Иванова\n"
     ]
    }
   ],
   "source": [
    "firstname = 'Маша'\n",
    "lastname = input()\n",
    "testfunc(firstname, lastname)"
   ]
  },
  {
   "cell_type": "code",
   "execution_count": 10,
   "id": "b792586f",
   "metadata": {},
   "outputs": [
    {
     "data": {
      "text/plain": [
       "<function __main__.testfunc(fname, lname)>"
      ]
     },
     "execution_count": 10,
     "metadata": {},
     "output_type": "execute_result"
    }
   ],
   "source": [
    "testfunc"
   ]
  },
  {
   "cell_type": "markdown",
   "id": "17a00158",
   "metadata": {},
   "source": [
    "Зачастую из функции полезно вернуть какое-то значение. Это делается с помощью команды return. Например, представьте такую функцию\n",
    "для расчета сбережений:"
   ]
  },
  {
   "cell_type": "code",
   "execution_count": 16,
   "id": "0a93e03a",
   "metadata": {},
   "outputs": [
    {
     "name": "stdout",
     "output_type": "stream",
     "text": [
      "3\n"
     ]
    }
   ],
   "source": [
    "def savings(pocket_money, paper_route, spending):\n",
    "    \n",
    "    result = pocket_money + paper_route - spending\n",
    "    return result\n",
    "\n",
    "pocket_money = 10\n",
    "paper_route = 15\n",
    "spending = 17\n",
    "save_money = savings(pocket_money, paper_route, spending)\n",
    "save_money_2 = savings(pocket_money, paper_route, spending) - 5\n",
    "print(save_money_2)"
   ]
  },
  {
   "cell_type": "markdown",
   "id": "a6420f0d",
   "metadata": {},
   "source": [
    "Эта функция принимает три аргумента. Вычисляя результат, она\n",
    "складывает первые два аргумента — pocket_money и paper_route, —\n",
    "а затем вычитает из полученного значения третий аргумент — spending.\n",
    "Команда return возвращает результат вычислений в ту часть кода, откуда функция была вызвана, и его можно сохранить в переменной (обычным способом, с помощью знака \"=\") либо вывести на экран:"
   ]
  },
  {
   "cell_type": "code",
   "execution_count": 17,
   "id": "070e7710",
   "metadata": {},
   "outputs": [
    {
     "name": "stdout",
     "output_type": "stream",
     "text": [
      "8\n"
     ]
    }
   ],
   "source": [
    "print(savings(pocket_money, paper_route, spending))"
   ]
  },
  {
   "cell_type": "markdown",
   "id": "339b15ee",
   "metadata": {},
   "source": [
    "Переменные, созданные в теле функции, нельзя использовать после того,\n",
    "как эта функция завершит работу, поскольку они существуют только\n",
    "во время ее выполнения. В таких случаях программисты говорят, что область видимости переменных ограничена функцией.\n",
    "Рассмотрим простую функцию, которая использует внутренние переменные, но не принимает аргументы:"
   ]
  },
  {
   "cell_type": "code",
   "execution_count": 21,
   "id": "92558698",
   "metadata": {},
   "outputs": [],
   "source": [
    "def variable_test():\n",
    "    first_variable = 10\n",
    "    second_variable = 20\n",
    "    print(first_variable)\n",
    "    return first_variable * second_variable"
   ]
  },
  {
   "cell_type": "code",
   "execution_count": 22,
   "id": "3f0a87a8",
   "metadata": {},
   "outputs": [
    {
     "name": "stdout",
     "output_type": "stream",
     "text": [
      "10\n",
      "200\n"
     ]
    }
   ],
   "source": [
    "print(variable_test())"
   ]
  },
  {
   "cell_type": "code",
   "execution_count": 23,
   "id": "7c678e57",
   "metadata": {},
   "outputs": [
    {
     "name": "stdout",
     "output_type": "stream",
     "text": [
      "10\n",
      "210\n"
     ]
    }
   ],
   "source": [
    "print(variable_test() + 10)\n"
   ]
  },
  {
   "cell_type": "code",
   "execution_count": null,
   "id": "53fb6d29",
   "metadata": {},
   "outputs": [],
   "source": [
    "first_variable = 11111"
   ]
  },
  {
   "cell_type": "markdown",
   "id": "8f0b2ced",
   "metadata": {},
   "source": [
    "Здесь в строке 1 мы создали функцию с именем variable_test, которая в строке 4 перемножает переменные first_variable и second_\n",
    "variable и возвращает результат"
   ]
  },
  {
   "cell_type": "markdown",
   "id": "7d81a2a2",
   "metadata": {},
   "source": [
    "Вызвав эту функцию с помощью print, мы получили результат: 200.\n",
    "Однако, если попытаться за пределами функции вывести на экран значение fi rst_variable (или second_variable), Python выдаст сообщение\n",
    "об ошибке."
   ]
  },
  {
   "cell_type": "markdown",
   "id": "04bfe57a",
   "metadata": {},
   "source": [
    "У переменных, созданных вне тела функции, область видимости другая. Например, давайте создадим перед определением нашей функции\n",
    "переменную, а затем используем ее в теле функции:\n"
   ]
  },
  {
   "cell_type": "code",
   "execution_count": 24,
   "id": "ed1bc1bf",
   "metadata": {},
   "outputs": [],
   "source": [
    "another_variable = 100\n",
    "def variable_test2():\n",
    "    first_variable = 10\n",
    "    second_variable = 20\n",
    "    return first_variable * second_variable * another_variable"
   ]
  },
  {
   "cell_type": "code",
   "execution_count": 25,
   "id": "bd9e0833",
   "metadata": {},
   "outputs": [
    {
     "data": {
      "text/plain": [
       "20000"
      ]
     },
     "execution_count": 25,
     "metadata": {},
     "output_type": "execute_result"
    }
   ],
   "source": [
    "variable_test2()"
   ]
  },
  {
   "cell_type": "markdown",
   "id": "9c181745",
   "metadata": {},
   "source": [
    "## Задача 1\n",
    "Напишите функцию sum_range(start, end), которая суммирует все целые числа от значения «start» до величины «end» включительно. \n",
    "Если пользователь задаст первое число большее чем второе, просто поменяйте их местами."
   ]
  },
  {
   "cell_type": "code",
   "execution_count": 32,
   "id": "c7e108db",
   "metadata": {},
   "outputs": [],
   "source": [
    "def sum_range(start, end):\n",
    "    if start > end:        \n",
    "        start, end = end, start\n",
    "    sum_val = 0\n",
    "    while start <= end:\n",
    "        sum_val += start\n",
    "        start += 1\n",
    "    return sum_val"
   ]
  },
  {
   "cell_type": "code",
   "execution_count": 42,
   "id": "f6a40547",
   "metadata": {},
   "outputs": [
    {
     "data": {
      "text/plain": [
       "12"
      ]
     },
     "execution_count": 42,
     "metadata": {},
     "output_type": "execute_result"
    }
   ],
   "source": [
    "# sum_range(start=5, 3)\n",
    "sum_range(end=3, start=5)"
   ]
  },
  {
   "cell_type": "code",
   "execution_count": 39,
   "id": "a15ed32c",
   "metadata": {},
   "outputs": [
    {
     "name": "stdout",
     "output_type": "stream",
     "text": [
      "1***2***3\n"
     ]
    }
   ],
   "source": [
    "print(1, 2, 3, sep='***')"
   ]
  },
  {
   "cell_type": "code",
   "execution_count": null,
   "id": "967154ad",
   "metadata": {},
   "outputs": [],
   "source": [
    "start = 10\n",
    "end = 5\n",
    "result = sum_range(start, end)"
   ]
  },
  {
   "cell_type": "markdown",
   "id": "1d91b1d0",
   "metadata": {},
   "source": [
    "## Задача 2\n",
    "Напишите функцию Python, чтобы найти максимум трех чисел"
   ]
  },
  {
   "cell_type": "code",
   "execution_count": 47,
   "id": "d8478e9f",
   "metadata": {},
   "outputs": [],
   "source": [
    "def max2(a, b):\n",
    "    if a > b:\n",
    "        return a\n",
    "    return b"
   ]
  },
  {
   "cell_type": "code",
   "execution_count": 51,
   "id": "b559d85f",
   "metadata": {},
   "outputs": [],
   "source": [
    "def max3(a, b, c):\n",
    "    return max2(max2(a, b), c)"
   ]
  },
  {
   "cell_type": "code",
   "execution_count": null,
   "id": "2ea3a7e8",
   "metadata": {},
   "outputs": [],
   "source": [
    "def max3_new(a, b, c):\n",
    "    return max(a, b, c)"
   ]
  },
  {
   "cell_type": "code",
   "execution_count": 54,
   "id": "0f13a6d7",
   "metadata": {},
   "outputs": [
    {
     "name": "stdout",
     "output_type": "stream",
     "text": [
      "3\n"
     ]
    }
   ],
   "source": [
    "a, b, c = 1, 2, 3\n",
    "if max2(a, b) > c:\n",
    "    print(max2(a, b))\n",
    "else:\n",
    "    print(c)"
   ]
  },
  {
   "cell_type": "code",
   "execution_count": 52,
   "id": "4871c333",
   "metadata": {},
   "outputs": [
    {
     "name": "stdout",
     "output_type": "stream",
     "text": [
      "5\n"
     ]
    }
   ],
   "source": [
    "print(max(1, 5))"
   ]
  },
  {
   "cell_type": "code",
   "execution_count": 55,
   "id": "e16c46a7",
   "metadata": {},
   "outputs": [
    {
     "data": {
      "text/plain": [
       "5"
      ]
     },
     "execution_count": 55,
     "metadata": {},
     "output_type": "execute_result"
    }
   ],
   "source": [
    "max(1, 3, 5)"
   ]
  },
  {
   "cell_type": "code",
   "execution_count": 53,
   "id": "9e5df07d",
   "metadata": {},
   "outputs": [
    {
     "data": {
      "text/plain": [
       "4"
      ]
     },
     "execution_count": 53,
     "metadata": {},
     "output_type": "execute_result"
    }
   ],
   "source": [
    "max3(1, 2, 4)"
   ]
  },
  {
   "cell_type": "markdown",
   "id": "87d8919c",
   "metadata": {},
   "source": [
    "## Задача 3\n",
    "Напишите функцию Python для умножения всех чисел в диапазоне start, end. fact"
   ]
  },
  {
   "cell_type": "code",
   "execution_count": 69,
   "id": "6db11f06",
   "metadata": {},
   "outputs": [],
   "source": [
    "def mul_nums(start, end):\n",
    "    temp = 1\n",
    "    while start <= end:\n",
    "        temp *= start\n",
    "        start += 1\n",
    "    return temp"
   ]
  },
  {
   "cell_type": "code",
   "execution_count": 80,
   "id": "0e1718cf",
   "metadata": {},
   "outputs": [
    {
     "data": {
      "text/plain": [
       "1"
      ]
     },
     "execution_count": 80,
     "metadata": {},
     "output_type": "execute_result"
    }
   ],
   "source": [
    "import math\n",
    "math.factorial(1)"
   ]
  },
  {
   "cell_type": "code",
   "execution_count": 71,
   "id": "58f7350f",
   "metadata": {},
   "outputs": [
    {
     "data": {
      "text/plain": [
       "20"
      ]
     },
     "execution_count": 71,
     "metadata": {},
     "output_type": "execute_result"
    }
   ],
   "source": [
    "mul_nums(4, 5)"
   ]
  },
  {
   "cell_type": "markdown",
   "id": "fc2a294d",
   "metadata": {},
   "source": [
    "## Задача 4\n",
    "Обращение строки."
   ]
  },
  {
   "cell_type": "code",
   "execution_count": 22,
   "id": "fbd6d782",
   "metadata": {},
   "outputs": [
    {
     "name": "stdout",
     "output_type": "stream",
     "text": [
      "dcba4321\n"
     ]
    }
   ],
   "source": [
    "def string_reverse(str1):\n",
    "    rstr1 = ''\n",
    "    index = len(str1)\n",
    "    while index > 0:\n",
    "        rstr1 += str1[index - 1]\n",
    "        index = index - 1\n",
    "    return rstr1\n",
    "print(string_reverse('1234abcd'))"
   ]
  },
  {
   "cell_type": "code",
   "execution_count": 7,
   "id": "1553c526",
   "metadata": {},
   "outputs": [
    {
     "name": "stdout",
     "output_type": "stream",
     "text": [
      "H\n",
      "e\n",
      "l\n",
      "l\n",
      "o\n"
     ]
    }
   ],
   "source": [
    "s = 'Hello'\n",
    "for i in s:\n",
    "    print(i)"
   ]
  },
  {
   "cell_type": "markdown",
   "id": "d7e9c8e7",
   "metadata": {},
   "source": [
    "## Задача 5\n",
    "Напишите функцию Python, чтобы распечатать список, значения которого представляют собой квадрат чисел от 1 до 30 (оба включены)."
   ]
  },
  {
   "cell_type": "code",
   "execution_count": 19,
   "id": "15e77cf8",
   "metadata": {},
   "outputs": [],
   "source": [
    "def sq(start, end):\n",
    "    if start > end:\n",
    "        start, end = end, start\n",
    "    while start <= end:\n",
    "        sq = start ** 2\n",
    "        print(sq)\n",
    "        start += 1"
   ]
  },
  {
   "cell_type": "code",
   "execution_count": 21,
   "id": "52f0a981",
   "metadata": {},
   "outputs": [
    {
     "name": "stdout",
     "output_type": "stream",
     "text": [
      "25\n",
      "16\n",
      "9\n",
      "4\n",
      "1\n",
      "0\n",
      "1\n",
      "4\n",
      "9\n",
      "16\n",
      "25\n"
     ]
    }
   ],
   "source": [
    "sq(-5, 5)"
   ]
  },
  {
   "cell_type": "code",
   "execution_count": null,
   "id": "ace1a08f",
   "metadata": {},
   "outputs": [],
   "source": []
  }
 ],
 "metadata": {
  "kernelspec": {
   "display_name": "Python 3 (ipykernel)",
   "language": "python",
   "name": "python3"
  },
  "language_info": {
   "codemirror_mode": {
    "name": "ipython",
    "version": 3
   },
   "file_extension": ".py",
   "mimetype": "text/x-python",
   "name": "python",
   "nbconvert_exporter": "python",
   "pygments_lexer": "ipython3",
   "version": "3.9.7"
  }
 },
 "nbformat": 4,
 "nbformat_minor": 5
}
