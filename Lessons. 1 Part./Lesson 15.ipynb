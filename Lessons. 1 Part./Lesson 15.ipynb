{
 "cells": [
  {
   "cell_type": "markdown",
   "id": "f0eb25f9",
   "metadata": {},
   "source": [
    "# Задача №111302. Таблица ASCII\n",
    "Выведите все символы ASCII с кодами от 33 до 126 и их коды в следующем виде: символ код"
   ]
  },
  {
   "cell_type": "code",
   "execution_count": 6,
   "id": "e264a2f5",
   "metadata": {},
   "outputs": [
    {
     "name": "stdout",
     "output_type": "stream",
     "text": [
      "! 33\n",
      "\" 34\n",
      "# 35\n",
      "$ 36\n",
      "% 37\n",
      "& 38\n",
      "' 39\n",
      "( 40\n",
      ") 41\n",
      "* 42\n",
      "+ 43\n",
      ", 44\n",
      "- 45\n",
      ". 46\n",
      "/ 47\n",
      "0 48\n",
      "1 49\n",
      "2 50\n",
      "3 51\n",
      "4 52\n",
      "5 53\n",
      "6 54\n",
      "7 55\n",
      "8 56\n",
      "9 57\n",
      ": 58\n",
      "; 59\n",
      "< 60\n",
      "= 61\n",
      "> 62\n",
      "? 63\n",
      "@ 64\n",
      "A 65\n",
      "B 66\n",
      "C 67\n",
      "D 68\n",
      "E 69\n",
      "F 70\n",
      "G 71\n",
      "H 72\n",
      "I 73\n",
      "J 74\n",
      "K 75\n",
      "L 76\n",
      "M 77\n",
      "N 78\n",
      "O 79\n",
      "P 80\n",
      "Q 81\n",
      "R 82\n",
      "S 83\n",
      "T 84\n",
      "U 85\n",
      "V 86\n",
      "W 87\n",
      "X 88\n",
      "Y 89\n",
      "Z 90\n",
      "[ 91\n",
      "\\ 92\n",
      "] 93\n",
      "^ 94\n",
      "_ 95\n",
      "` 96\n",
      "a 97\n",
      "b 98\n",
      "c 99\n",
      "d 100\n",
      "e 101\n",
      "f 102\n",
      "g 103\n",
      "h 104\n",
      "i 105\n",
      "j 106\n",
      "k 107\n",
      "l 108\n",
      "m 109\n",
      "n 110\n",
      "o 111\n",
      "p 112\n",
      "q 113\n",
      "r 114\n",
      "s 115\n",
      "t 116\n",
      "u 117\n",
      "v 118\n",
      "w 119\n",
      "x 120\n",
      "y 121\n",
      "z 122\n",
      "{ 123\n",
      "| 124\n",
      "} 125\n",
      "~ 126\n"
     ]
    }
   ],
   "source": [
    "for i in range(33, 127):\n",
    "    print(chr(i), i)"
   ]
  },
  {
   "cell_type": "markdown",
   "id": "91bcfe7b",
   "metadata": {},
   "source": [
    "# Задача №111303. Символы в заданном интервале\n",
    "Выведите подряд, без пробелов, все символы, лежащие в таблице ASCII между двумя заданными символами.\n",
    "### Входные данные\n",
    "Программа получает на вход два символа, каждый в отдельной строке и должна вывести строку, начинающуюся первым из заданных символов и заканчивающуюся вторым."
   ]
  },
  {
   "cell_type": "code",
   "execution_count": null,
   "id": "5312d3a0",
   "metadata": {},
   "outputs": [],
   "source": [
    "if ord(start) > ord(end):\n",
    "    for i in range(ord(start), 128):\n",
    "        print(chr(i), end='')\n",
    "    for i in range(32, ord(end)):\n",
    "        print(chr(i), end='')"
   ]
  },
  {
   "cell_type": "code",
   "execution_count": 13,
   "id": "9a817e9f",
   "metadata": {},
   "outputs": [
    {
     "name": "stdout",
     "output_type": "stream",
     "text": [
      "G\n",
      "A\n",
      "GHIJKLMNOPQRSTUVWXYZ[\\]^_`abcdefghijklmnopqrstuvwxyz{|}~ !\"#$%&'()*+,-./0123456789:;<=>?@"
     ]
    }
   ],
   "source": [
    "# решение\n",
    "start = input()\n",
    "end = input()\n",
    "\n",
    "for i in range(ord(start), ord(end) + 1):\n",
    "    print(chr(i), end='')"
   ]
  },
  {
   "cell_type": "code",
   "execution_count": 17,
   "id": "61dc99e5",
   "metadata": {},
   "outputs": [
    {
     "name": "stdout",
     "output_type": "stream",
     "text": [
      "\n"
     ]
    }
   ],
   "source": [
    "print(chr(127))"
   ]
  },
  {
   "cell_type": "code",
   "execution_count": 11,
   "id": "b061d92b",
   "metadata": {},
   "outputs": [
    {
     "name": "stdout",
     "output_type": "stream",
     "text": [
      "65\n",
      "71\n"
     ]
    }
   ],
   "source": [
    "print(ord('A'))\n",
    "print(ord('G'))"
   ]
  },
  {
   "cell_type": "markdown",
   "id": "eaa98e13",
   "metadata": {},
   "source": [
    "# Задача №111304. IsDigit\n",
    "Для данного символа, считанного со стандартного ввода, проверьте, является ли он цифрой. Решение оформите в виде функции IsDigit(c), возвращающей значение типа bool. В решении нельзя использовать циклы. В решении нельзя использовать константы с неочевидным значением типа 48 или 57.\n",
    "### Входные данные\n",
    "Вводится один символ\n",
    "#### Выходные данные\n",
    "Программа должна вывести слово YES, если символ является цифрой, или слово NO."
   ]
  },
  {
   "cell_type": "code",
   "execution_count": 15,
   "id": "4420ce4f",
   "metadata": {},
   "outputs": [
    {
     "name": "stdout",
     "output_type": "stream",
     "text": [
      "q\n",
      "NO\n"
     ]
    }
   ],
   "source": [
    "def IsDigit(c):\n",
    "    if ord(c) in range(ord('0'), ord('9') + 1):\n",
    "        return True\n",
    "    return False\n",
    "\n",
    "symb = input()\n",
    "if IsDigit(symb):\n",
    "    print('YES')\n",
    "else:\n",
    "    print('NO')"
   ]
  },
  {
   "cell_type": "code",
   "execution_count": 22,
   "id": "8e634ec9",
   "metadata": {},
   "outputs": [
    {
     "data": {
      "text/plain": [
       "False"
      ]
     },
     "execution_count": 22,
     "metadata": {},
     "output_type": "execute_result"
    }
   ],
   "source": []
  },
  {
   "cell_type": "code",
   "execution_count": 10,
   "id": "59c1b130",
   "metadata": {},
   "outputs": [
    {
     "data": {
      "text/plain": [
       "48"
      ]
     },
     "execution_count": 10,
     "metadata": {},
     "output_type": "execute_result"
    }
   ],
   "source": [
    "ord('0')"
   ]
  },
  {
   "cell_type": "markdown",
   "id": "d3b0d78b",
   "metadata": {},
   "source": [
    "# Задача №111307. Нижний регистр\n",
    "Дана строка, возможно, содержащая пробелы. Считайте эту строку и переведите все символы этой строки в нижний регистр. Решение оформите в виде функции ToLower (S), получающей в качестве параметра строку и возвращающую новую строку.\n",
    "Для перевода одного символа в нижний регистр напишите отдельную функцию."
   ]
  },
  {
   "cell_type": "code",
   "execution_count": 29,
   "id": "02ae01ec",
   "metadata": {},
   "outputs": [
    {
     "name": "stdout",
     "output_type": "stream",
     "text": [
      "Hello, World!\n",
      "hello, world!\n"
     ]
    }
   ],
   "source": [
    "# solved\n",
    "def SymToLow(s):\n",
    "    if ord(s) in range(ord('A'), ord('Z') + 1):\n",
    "        return chr(ord(s) + 32)\n",
    "    return s\n",
    "\n",
    "def ToLower(s):\n",
    "    result = ''\n",
    "    for i in range(len(s)):\n",
    "        result += SymToLow(s[i])\n",
    "    return result\n",
    "\n",
    "s = input()\n",
    "print(ToLower(s))"
   ]
  },
  {
   "cell_type": "code",
   "execution_count": 25,
   "id": "260305b4",
   "metadata": {},
   "outputs": [],
   "source": [
    "s = 'a'"
   ]
  },
  {
   "cell_type": "code",
   "execution_count": 26,
   "id": "bd391269",
   "metadata": {},
   "outputs": [
    {
     "data": {
      "text/plain": [
       "False"
      ]
     },
     "execution_count": 26,
     "metadata": {},
     "output_type": "execute_result"
    }
   ],
   "source": [
    "ord(s) in range(ord('A'), ord('Z') + 1)"
   ]
  },
  {
   "cell_type": "code",
   "execution_count": 27,
   "id": "7b9e492e",
   "metadata": {},
   "outputs": [
    {
     "data": {
      "text/plain": [
       "False"
      ]
     },
     "execution_count": 27,
     "metadata": {},
     "output_type": "execute_result"
    }
   ],
   "source": [
    "ord('A') <= ord(s) <= ord('Z')"
   ]
  },
  {
   "cell_type": "code",
   "execution_count": 28,
   "id": "444df438",
   "metadata": {
    "scrolled": true
   },
   "outputs": [
    {
     "data": {
      "text/plain": [
       "False"
      ]
     },
     "execution_count": 28,
     "metadata": {},
     "output_type": "execute_result"
    }
   ],
   "source": [
    "'A' <= s <= 'Z'"
   ]
  },
  {
   "cell_type": "markdown",
   "id": "cb2b59e9",
   "metadata": {},
   "source": [
    "# Задача №112343. Палиндром\n",
    "Напишите программу, которая определяет, является ли введённое слово (без пробелов) палиндромом, то есть верно ли, что оно читается одинаково слева направо и справа налево.\n",
    "### Входные данные\n",
    "Входная строка содержит слово – последовательность символов без пробелов.\n",
    "### Выходные данные\n",
    "Программа должна вывести слово 'YES', если введённое слово – палиндром, и слово 'NO', если оно не является палиндромом."
   ]
  },
  {
   "cell_type": "code",
   "execution_count": 30,
   "id": "9cf2f2e7",
   "metadata": {},
   "outputs": [
    {
     "name": "stdout",
     "output_type": "stream",
     "text": [
      "RADAR\n",
      "YES\n"
     ]
    }
   ],
   "source": [
    "def IsPal(s):\n",
    "    return s == s[::-1]\n",
    "\n",
    "s = input()\n",
    "if IsPal(s):\n",
    "    print('YES')\n",
    "else:\n",
    "    print('NO')"
   ]
  },
  {
   "cell_type": "code",
   "execution_count": 31,
   "id": "40e0245f",
   "metadata": {},
   "outputs": [
    {
     "data": {
      "text/plain": [
       "'RADAR'"
      ]
     },
     "execution_count": 31,
     "metadata": {},
     "output_type": "execute_result"
    }
   ],
   "source": [
    "'Radar'.upper()"
   ]
  },
  {
   "cell_type": "markdown",
   "id": "03f40017",
   "metadata": {},
   "source": [
    "# Задача №111308. Палиндром\n",
    "Дано слово, состоящее только из заглавных и строчных латинских букв. Проверьте, верно ли что это слово читается одинаково как справа налево, так и слева направо (то есть является палиндромом), если считать заглавные и строчные буквы не различающимися. Выведите слово YES, если слово является палиндромом и слово NO, если не является.\n",
    "Решение оформите в виде функции IsPalindrome (S), возвращающей значение типа bool. При решении этой задачи нельзя пользоваться вспомогательными массивами или строками."
   ]
  },
  {
   "cell_type": "code",
   "execution_count": 32,
   "id": "cb5f3d6e",
   "metadata": {},
   "outputs": [
    {
     "name": "stdout",
     "output_type": "stream",
     "text": [
      "Radar\n",
      "Radar\n",
      "RADAR\n",
      "YES\n"
     ]
    }
   ],
   "source": [
    "def SymToUp(s):\n",
    "    if ord(s) in range(ord('a'), ord('z') + 1):\n",
    "        return chr(ord(s) - 32)\n",
    "    return s\n",
    "\n",
    "\n",
    "def ToUpper(s):\n",
    "    for i in range(len(s)):\n",
    "        s = s.replace(s[i], SymToUp(s[i]))\n",
    "    return s\n",
    "\n",
    "\n",
    "def IsPal(s):\n",
    "    return s == s[::-1]\n",
    "\n",
    "\n",
    "s = input()\n",
    "s = ToUpper(s)\n",
    "if IsPal(s):\n",
    "    print('YES')\n",
    "else:\n",
    "    print('NO')"
   ]
  },
  {
   "cell_type": "markdown",
   "id": "b8578959",
   "metadata": {},
   "source": [
    "# Задача №111320. Палиндром - 2\n",
    "Дана строка, возможно, содержащая пробелы. Определите, является ли эта строка палиндромом, при условии, что заглавные и строчные буквы не различаются, а все символы, не являющиеся буквами, должны быть пропущены. Выведите слово YES, если слово является палиндромом и слово NO, если не является.\n",
    "Длина входной строки может быть до 100000 символов. При решении этой задачи нельзя пользоваться дополнительными строками и списками, модифицировать исходную строку."
   ]
  },
  {
   "cell_type": "code",
   "execution_count": 40,
   "id": "08969b35",
   "metadata": {},
   "outputs": [
    {
     "name": "stdout",
     "output_type": "stream",
     "text": [
      "radar radar    \n",
      "YES\n"
     ]
    }
   ],
   "source": [
    "def SymToUp(s):\n",
    "    if ord(s) in range(ord('a'), ord('z') + 1):\n",
    "        return chr(ord(s) - 32)\n",
    "    return s\n",
    "\n",
    "\n",
    "def ToUpper(s):\n",
    "    for i in range(len(s)):\n",
    "        s = s.replace(s[i], SymToUp(s[i]))\n",
    "    return s\n",
    "\n",
    "\n",
    "def IsPal(s):\n",
    "    return s == s[::-1]\n",
    "\n",
    "\n",
    "def Letters(s):\n",
    "    for i in range(len(s)):\n",
    "        if s[i] < 'A' or s[i] > 'Z':\n",
    "            s = s.replace(s[i], '.')\n",
    "    return s.replace('.', '')\n",
    "\n",
    "s = input()\n",
    "s = ToUpper(s)\n",
    "s = Letters(s)\n",
    "\n",
    "if IsPal(s):\n",
    "    print('YES')\n",
    "else:\n",
    "    print('NO')"
   ]
  },
  {
   "cell_type": "code",
   "execution_count": 35,
   "id": "c03cf936",
   "metadata": {},
   "outputs": [
    {
     "name": "stdout",
     "output_type": "stream",
     "text": [
      "Was.it.a.rat.I.saw?\n",
      "YES\n"
     ]
    }
   ],
   "source": [
    "def SymToUp(s):\n",
    "    if ord(s) in range(ord('a'), ord('z') + 1):\n",
    "        return chr(ord(s) - 32)\n",
    "    return s\n",
    "\n",
    "\n",
    "def ToUpper(s):\n",
    "    for i in range(len(s)):\n",
    "        s = s.replace(s[i], SymToUp(s[i]))\n",
    "    return s\n",
    "\n",
    "\n",
    "def IsPal(s):\n",
    "    return s == s[::-1]\n",
    "\n",
    "\n",
    "def Letters(s):\n",
    "    for i in range(len(s)):\n",
    "        if ord(s[i]) not in range(ord('A'), ord('Z') + 1):\n",
    "            s = s.replace(s[i], '.')\n",
    "    return s.replace('.', '')\n",
    "\n",
    "\n",
    "s = input()\n",
    "s = ToUpper(s)\n",
    "s = Letters(s)\n",
    "\n",
    "if IsPal(s):\n",
    "    print('YES')\n",
    "else:\n",
    "    print('NO')"
   ]
  },
  {
   "cell_type": "markdown",
   "id": "59609eba",
   "metadata": {},
   "source": [
    "# Задача №112352. Из шестнадцатеричной в двоичную\n",
    "Напишите программу, которая переводит число (возможно, отрицательное), записанное в шестнадцатеричной системе счисления, в двоичную систему.\n",
    "### Входные данные\n",
    "Входная строка содержит шестнадцатеричную запись целого числа.\n",
    "### Выходные данные\n",
    "Программа должна вывести запись этого числа в шестнадцатеричной системе счисления."
   ]
  },
  {
   "cell_type": "code",
   "execution_count": 42,
   "id": "2e380e88",
   "metadata": {},
   "outputs": [
    {
     "name": "stdout",
     "output_type": "stream",
     "text": [
      "-1ABC\n",
      "-1101010111100\n"
     ]
    }
   ],
   "source": [
    "def hex_to_bin(hex_num):\n",
    "    if hex_num == '0':\n",
    "        return '0000'\n",
    "    elif hex_num == '1':\n",
    "        return '0001'\n",
    "    elif hex_num == '2':\n",
    "        return '0010'\n",
    "    elif hex_num == '3':\n",
    "        return '0011'\n",
    "    elif hex_num == '4':\n",
    "        return '0100'\n",
    "    elif hex_num == '5':\n",
    "        return '0101'\n",
    "    elif hex_num == '6':\n",
    "        return '0110'\n",
    "    elif hex_num == '7':\n",
    "        return '0111'\n",
    "    elif hex_num == '8':\n",
    "        return '1000'\n",
    "    elif hex_num == '9':\n",
    "        return '1001'\n",
    "    elif hex_num == 'A':\n",
    "        return '1010'\n",
    "    elif hex_num == 'B':\n",
    "        return '1011'\n",
    "    elif hex_num == 'C':\n",
    "        return '1100'\n",
    "    elif hex_num == 'D':\n",
    "        return '1101'\n",
    "    elif hex_num == 'E':\n",
    "        return '1110'\n",
    "    else:\n",
    "        return '1111'\n",
    "\n",
    "hex_num = input()\n",
    "sign = ''\n",
    "\n",
    "if hex_num[0] == '-':\n",
    "    sign = '-'\n",
    "    hex_num = hex_num[1:]\n",
    "    \n",
    "result = ''\n",
    "for i in range(len(hex_num)):\n",
    "    result += hex_to_bin(hex_num[i])\n",
    "\n",
    "start = 0\n",
    "while result[start] == '0':\n",
    "    start += 1\n",
    "\n",
    "print(sign + result[start:])"
   ]
  }
 ],
 "metadata": {
  "kernelspec": {
   "display_name": "Python 3 (ipykernel)",
   "language": "python",
   "name": "python3"
  },
  "language_info": {
   "codemirror_mode": {
    "name": "ipython",
    "version": 3
   },
   "file_extension": ".py",
   "mimetype": "text/x-python",
   "name": "python",
   "nbconvert_exporter": "python",
   "pygments_lexer": "ipython3",
   "version": "3.9.7"
  }
 },
 "nbformat": 4,
 "nbformat_minor": 5
}
