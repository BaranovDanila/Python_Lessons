{
 "cells": [
  {
   "cell_type": "markdown",
   "id": "2f9f9a31",
   "metadata": {},
   "source": [
    "# Задача 1\n",
    "Вывод флагов\n",
    "Для вывода номера внутри флага можно использовать метод format строк или оператор %."
   ]
  },
  {
   "cell_type": "code",
   "execution_count": 12,
   "id": "d429f174",
   "metadata": {
    "scrolled": true
   },
   "outputs": [
    {
     "name": "stdout",
     "output_type": "stream",
     "text": [
      "hello\n"
     ]
    },
    {
     "data": {
      "text/plain": [
       "123.3"
      ]
     },
     "execution_count": 12,
     "metadata": {},
     "output_type": "execute_result"
    }
   ],
   "source": [
    "print('hello')\n",
    "'123'\n",
    "int('123')\n",
    "float('123.3')"
   ]
  },
  {
   "cell_type": "code",
   "execution_count": 10,
   "id": "85c2a412",
   "metadata": {},
   "outputs": [
    {
     "data": {
      "text/plain": [
       "'123'"
      ]
     },
     "execution_count": 10,
     "metadata": {},
     "output_type": "execute_result"
    }
   ],
   "source": [
    "a = str(123)\n",
    "a"
   ]
  },
  {
   "cell_type": "code",
   "execution_count": 11,
   "id": "74c5bf00",
   "metadata": {},
   "outputs": [
    {
     "data": {
      "text/plain": [
       "str"
      ]
     },
     "execution_count": 11,
     "metadata": {},
     "output_type": "execute_result"
    }
   ],
   "source": [
    "type(a)"
   ]
  },
  {
   "cell_type": "code",
   "execution_count": null,
   "id": "46a15852",
   "metadata": {},
   "outputs": [],
   "source": [
    "n = int(input())\n",
    "for i in range(n):\n",
    "    print(\"+___\", end=\" \")\n",
    "print()\n",
    "for i in range(n):\n",
    "    print(\"|{num} /\".format(num=i + 1), end=\" \")\n",
    "print()\n",
    "for i in range(n):\n",
    "    print(\"|__\\\\\", end=\" \")\n",
    "print()\n",
    "for i in range(n):\n",
    "    print(\"|   \", end=\" \")\n",
    "print()"
   ]
  },
  {
   "cell_type": "markdown",
   "id": "8172019d",
   "metadata": {},
   "source": [
    "# Задача 2\n",
    "Сумма голов \n",
    "1+2+3+4+5 = 15\n"
   ]
  },
  {
   "cell_type": "code",
   "execution_count": null,
   "id": "688e4cfe",
   "metadata": {},
   "outputs": [],
   "source": [
    "n = int(input())\n",
    "goals = 0\n",
    "sum_of_goals = 0\n",
    "while(sum_of_goals != n):\n",
    "    goals += 1\n",
    "    sum_of_goals = (goals ** 2 + goals)/2\n",
    "print(goals)"
   ]
  },
  {
   "cell_type": "markdown",
   "id": "a1311c3d",
   "metadata": {},
   "source": [
    "# Задача 3"
   ]
  },
  {
   "cell_type": "code",
   "execution_count": null,
   "id": "54d445be",
   "metadata": {},
   "outputs": [],
   "source": []
  },
  {
   "cell_type": "markdown",
   "id": "7244933f",
   "metadata": {},
   "source": [
    "# Задача 4"
   ]
  },
  {
   "cell_type": "code",
   "execution_count": 4,
   "id": "a0e4750f",
   "metadata": {},
   "outputs": [
    {
     "name": "stdout",
     "output_type": "stream",
     "text": [
      "3\n",
      "1222\n",
      "1122\n",
      "41\n",
      "Crash 3\n"
     ]
    }
   ],
   "source": [
    "n = int(input())\n",
    "bus_height = 437\n",
    "flag = True\n",
    "for i in range(1, n + 1):\n",
    "    bridge_height = int(input())\n",
    "    if bridge_height < bus_height:\n",
    "        print('Crash {num}'.format(num=i))\n",
    "        flag = False\n",
    "if flag:\n",
    "    print('No crash')"
   ]
  },
  {
   "cell_type": "markdown",
   "id": "ce2ea4ad",
   "metadata": {},
   "source": [
    "# Задача 5"
   ]
  },
  {
   "cell_type": "code",
   "execution_count": null,
   "id": "fbbf8e2d",
   "metadata": {},
   "outputs": [],
   "source": [
    "n = int(input())\n",
    "max_1 = 0\n",
    "max_2 = 0\n",
    "for temp in range(n):\n",
    "    current_temp = int(input())\n",
    "    if current_temp > 0:\n",
    "        max_1 += 1\n",
    "    else:\n",
    "        max_1 = 0\n",
    "    if max_1 > max_2:\n",
    "        max_2 = max_1\n",
    "print()\n",
    "print(max_2)"
   ]
  },
  {
   "cell_type": "markdown",
   "id": "ea49385e",
   "metadata": {},
   "source": [
    "# Задача 6"
   ]
  },
  {
   "cell_type": "code",
   "execution_count": null,
   "id": "ec8d3917",
   "metadata": {},
   "outputs": [],
   "source": [
    "a1, a2, n = map(int, input().split())\n",
    "d = a2 - a1\n",
    "for i in range(-1, n - 1):\n",
    "    an = a1 + (i + 1) * d\n",
    "    print(an)"
   ]
  },
  {
   "cell_type": "markdown",
   "id": "4cc7ab2d",
   "metadata": {},
   "source": [
    "# Задача 7"
   ]
  },
  {
   "cell_type": "code",
   "execution_count": null,
   "id": "ba0e73d5",
   "metadata": {},
   "outputs": [],
   "source": [
    "n = int(input())\n",
    "result = 0\n",
    "for i in range(1, n):\n",
    "    result += i * (i + 1)\n",
    "    print('{num1}*{num2}'.format(num1=i, num2=i + 1), end='')\n",
    "    if i != n - 1:\n",
    "        print('+', end='')\n",
    "    else:\n",
    "        print('={result}'.format(result=result))"
   ]
  }
 ],
 "metadata": {
  "kernelspec": {
   "display_name": "Python 3 (ipykernel)",
   "language": "python",
   "name": "python3"
  },
  "language_info": {
   "codemirror_mode": {
    "name": "ipython",
    "version": 3
   },
   "file_extension": ".py",
   "mimetype": "text/x-python",
   "name": "python",
   "nbconvert_exporter": "python",
   "pygments_lexer": "ipython3",
   "version": "3.9.7"
  }
 },
 "nbformat": 4,
 "nbformat_minor": 5
}
