{
 "cells": [
  {
   "cell_type": "markdown",
   "id": "c5b5406d",
   "metadata": {},
   "source": [
    "# Камни и украшения\n",
    "Даны две строки строчных латинских символов: строка J и строка S. Символы, входящие в строку J, — «драгоценности», входящие в строку S — «камни». Нужно определить, какое количество символов из S одновременно являются «драгоценностями». Проще говоря, нужно проверить, какое количество символов из S входит в J.\n",
    "\n",
    "Это разминочная задача, к которой мы размещаем готовые решения. Она очень простая и нужна для того, чтобы вы могли познакомиться с нашей автоматической системой проверки решений. Ввод и вывод осуществляется через файлы, либо через стандартные потоки ввода-вывода, как вам удобнее."
   ]
  },
  {
   "cell_type": "code",
   "execution_count": 1,
   "id": "542d8aba",
   "metadata": {},
   "outputs": [
    {
     "name": "stdout",
     "output_type": "stream",
     "text": [
      "ab\n",
      "aabbccd\n",
      "4\n"
     ]
    }
   ],
   "source": [
    "j = input()\n",
    "s = input()\n",
    "cnt = 0\n",
    "\n",
    "for i in s:\n",
    "    if i in j:\n",
    "        cnt += 1\n",
    "\n",
    "print(cnt)"
   ]
  },
  {
   "cell_type": "markdown",
   "id": "0d9f77a8",
   "metadata": {},
   "source": [
    "# Последовательно идущие единицы\n",
    "Требуется найти в бинарном векторе самую длинную последовательность единиц и вывести её длину.\n",
    "\n",
    "Желательно получить решение, работающее за линейное время и при этом проходящее по входному массиву только один раз.\n",
    "#### Формат ввода\n",
    "Первая строка входного файла содержит одно число n, n ≤ 10000. Каждая из следующих n строк содержит ровно одно число — очередной элемент массива.\n",
    "#### Формат вывода\n",
    "Выходной файл должен содержать единственное число — длину самой длинной последовательности единиц во входном массиве."
   ]
  },
  {
   "cell_type": "code",
   "execution_count": null,
   "id": "31aa9b0a",
   "metadata": {},
   "outputs": [],
   "source": [
    "[1, 1, 1, 0, 0, 1, 1, 1, 1]"
   ]
  },
  {
   "cell_type": "code",
   "execution_count": 42,
   "id": "2b7e44f3",
   "metadata": {
    "scrolled": true
   },
   "outputs": [
    {
     "name": "stdout",
     "output_type": "stream",
     "text": [
      "10\n",
      "1\n",
      "2\n",
      "3\n",
      "4\n",
      "5\n",
      "6\n",
      "7\n",
      "8\n",
      "9\n",
      "10\n",
      "[1, 2, 3, 4, 5, 6, 7, 8, 9, 10]\n"
     ]
    }
   ],
   "source": [
    "n = int(input())\n",
    "arr = []\n",
    "\n",
    "for i in range(n):\n",
    "    current_val = int(input())\n",
    "    arr.append(current_val)\n",
    "    \n",
    "print(arr)"
   ]
  },
  {
   "cell_type": "code",
   "execution_count": 49,
   "id": "238f19b4",
   "metadata": {},
   "outputs": [
    {
     "name": "stdout",
     "output_type": "stream",
     "text": [
      "8\n",
      "1\n",
      "1\n",
      "1\n",
      "1\n",
      "1\n",
      "1\n",
      "1\n",
      "1\n",
      "8\n"
     ]
    }
   ],
   "source": [
    "n = int(input())\n",
    "max_len = 0\n",
    "cnt = 0\n",
    "\n",
    "for i in range(n):\n",
    "    val = int(input())\n",
    "    if val == 1:\n",
    "        cnt += 1\n",
    "    else:\n",
    "        if cnt > max_len:\n",
    "            max_len = cnt\n",
    "        cnt = 0\n",
    "\n",
    "\n",
    "print(max(cnt, max_len))"
   ]
  },
  {
   "cell_type": "code",
   "execution_count": 51,
   "id": "944962e6",
   "metadata": {},
   "outputs": [
    {
     "data": {
      "text/plain": [
       "4"
      ]
     },
     "execution_count": 51,
     "metadata": {},
     "output_type": "execute_result"
    }
   ],
   "source": [
    "def max_sequence(arr):\n",
    "    max_len = 0\n",
    "    cnt = 0\n",
    "    for i in arr:\n",
    "        if i > 0:\n",
    "            cnt += 1\n",
    "            max_len = max(max_len, cnt)\n",
    "        else:\n",
    "            cnt = 0\n",
    "    return max_len\n",
    "\n",
    "\n",
    "max_sequence([1, 1, 1, 0, 1, 1, 1, 1])"
   ]
  },
  {
   "cell_type": "markdown",
   "id": "ae1adccc",
   "metadata": {},
   "source": [
    "# Удаление дубликатов\n",
    "Дан упорядоченный по неубыванию массив целых 32-разрядных чисел. Требуется удалить из него все повторения.\n",
    "\n",
    "Желательно получить решение, которое не считывает входной файл целиком в память, т.е., использует лишь константный объем памяти в процессе работы."
   ]
  },
  {
   "cell_type": "code",
   "execution_count": null,
   "id": "5b2e80b8",
   "metadata": {},
   "outputs": [],
   "source": [
    "# 1 1 1 2 3 4 4 5 6 7 -> 1 2 3 4 5 6 7"
   ]
  },
  {
   "attachments": {
    "1.png": {
     "image/png": "[encoded data removed]"
    }
   },
   "cell_type": "markdown",
   "id": "a2672656",
   "metadata": {},
   "source": [
    "![1.png](attachment:1.png)"
   ]
  },
  {
   "cell_type": "code",
   "execution_count": 13,
   "id": "011270d2",
   "metadata": {},
   "outputs": [],
   "source": [
    "tasks = {\n",
    "    0: ['Покормить кота'],\n",
    "    1: ['Полить цветы', 'Забрать посылку'],\n",
    "    2: ['Почитать книгу по программированию'],\n",
    "    3: ['Ответить на письмо двоюродной тёти']\n",
    "}"
   ]
  },
  {
   "cell_type": "code",
   "execution_count": 27,
   "id": "f08e7be9",
   "metadata": {},
   "outputs": [
    {
     "name": "stdout",
     "output_type": "stream",
     "text": [
      "Есть срочные дела: ['Покормить кота'].\n"
     ]
    }
   ],
   "source": [
    "if 0 in tasks:\n",
    "    print(f'Есть срочные дела: {tasks[0]}.')\n",
    "else:\n",
    "    print('Можно отдохнуть')"
   ]
  },
  {
   "cell_type": "code",
   "execution_count": 33,
   "id": "5c0b6601",
   "metadata": {},
   "outputs": [
    {
     "name": "stdout",
     "output_type": "stream",
     "text": [
      "[0, 1, 2, 3]\n"
     ]
    }
   ],
   "source": [
    "result = []\n",
    "for i in tasks:\n",
    "    result.append(i)\n",
    "print(result)"
   ]
  },
  {
   "cell_type": "code",
   "execution_count": 40,
   "id": "9d8cd45b",
   "metadata": {},
   "outputs": [
    {
     "name": "stdout",
     "output_type": "stream",
     "text": [
      "Наш ключ 0: наше значение ['Покормить кота']\n",
      "Наш ключ 1: наше значение ['Полить цветы', 'Забрать посылку']\n",
      "Наш ключ 2: наше значение ['Почитать книгу по программированию']\n",
      "Наш ключ 3: наше значение ['Ответить на письмо двоюродной тёти']\n"
     ]
    }
   ],
   "source": [
    "for key, value in tasks.items():\n",
    "    print(f'Наш ключ {key}: наше значение {value}')"
   ]
  },
  {
   "cell_type": "code",
   "execution_count": 41,
   "id": "c5fbb4ec",
   "metadata": {},
   "outputs": [
    {
     "data": {
      "text/plain": [
       "dict_items([(0, ['Покормить кота']), (1, ['Полить цветы', 'Забрать посылку']), (2, ['Почитать книгу по программированию']), (3, ['Ответить на письмо двоюродной тёти'])])"
      ]
     },
     "execution_count": 41,
     "metadata": {},
     "output_type": "execute_result"
    }
   ],
   "source": [
    "tasks.items()"
   ]
  }
 ],
 "metadata": {
  "kernelspec": {
   "display_name": "Python 3 (ipykernel)",
   "language": "python",
   "name": "python3"
  },
  "language_info": {
   "codemirror_mode": {
    "name": "ipython",
    "version": 3
   },
   "file_extension": ".py",
   "mimetype": "text/x-python",
   "name": "python",
   "nbconvert_exporter": "python",
   "pygments_lexer": "ipython3",
   "version": "3.9.7"
  }
 },
 "nbformat": 4,
 "nbformat_minor": 5
}
