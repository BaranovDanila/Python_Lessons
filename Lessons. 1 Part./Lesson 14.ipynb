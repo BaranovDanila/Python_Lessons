{
 "cells": [
  {
   "cell_type": "markdown",
   "id": "15f63ab4",
   "metadata": {},
   "source": [
    "# Задача 1\n",
    "Напишите простой калькулятор, который считывает с пользовательского ввода три строки: первое число, второе число и операцию, после чего применяет операцию к введённым числам (\"первое число\" \"операция\" \"второе число\") и выводит результат на экран.\n",
    "\n",
    "Поддерживаемые операции: +, -, /, *, mod, pow, div, где\n",
    "mod — это взятие остатка от деления,\n",
    "pow — возведение в степень,\n",
    "div — целочисленное деление.\n",
    "\n",
    "Если выполняется деление и второе число равно 0, необходимо выводить строку \"Деление на 0!\".\n",
    "\n",
    "Обратите внимание, что на вход программе приходят вещественные числа."
   ]
  },
  {
   "cell_type": "markdown",
   "id": "eed2a257",
   "metadata": {},
   "source": []
  },
  {
   "cell_type": "code",
   "execution_count": null,
   "id": "42127087",
   "metadata": {},
   "outputs": [],
   "source": []
  },
  {
   "cell_type": "code",
   "execution_count": null,
   "id": "d2668df4",
   "metadata": {},
   "outputs": [],
   "source": []
  },
  {
   "cell_type": "code",
   "execution_count": null,
   "id": "948e78f0",
   "metadata": {},
   "outputs": [],
   "source": []
  },
  {
   "cell_type": "code",
   "execution_count": null,
   "id": "d6cf8cc1",
   "metadata": {},
   "outputs": [],
   "source": []
  },
  {
   "cell_type": "code",
   "execution_count": null,
   "id": "061d0d3c",
   "metadata": {},
   "outputs": [],
   "source": []
  },
  {
   "cell_type": "code",
   "execution_count": 42,
   "id": "3ee57ea7",
   "metadata": {},
   "outputs": [
    {
     "name": "stdout",
     "output_type": "stream",
     "text": [
      "aaaaAAAAaaaaaaAAAaaaA\n",
      "AaAaAaAaAaAaAaAaAaAaA\n"
     ]
    }
   ],
   "source": [
    "# AtqoirjetJFAODSHJFJHHrqwer -> AtQoI\n",
    "\n",
    "s = input().upper()\n",
    "result = ''\n",
    "if s.isalpha():\n",
    "    for i in range(len(s)):\n",
    "        if i % 2 == 0:\n",
    "            result += s[i]\n",
    "        else:\n",
    "            result += s[i].lower()\n",
    "else:\n",
    "    print('Введите строку, состоящую только из букв')\n",
    "print(result)"
   ]
  },
  {
   "cell_type": "code",
   "execution_count": null,
   "id": "48b68136",
   "metadata": {},
   "outputs": [],
   "source": [
    "# qwer1234"
   ]
  },
  {
   "cell_type": "code",
   "execution_count": 46,
   "id": "f966520f",
   "metadata": {},
   "outputs": [
    {
     "name": "stdout",
     "output_type": "stream",
     "text": [
      "141234ijhqwernqw;er1341234qewr;'ljkqwe';lr1324\n",
      "1 4 1 2 3 4 1 3 4 1 2 3 4 1 3 2 4 \n",
      "43\n"
     ]
    }
   ],
   "source": [
    "s = input()\n",
    "num_sum = 0\n",
    "for i in s:\n",
    "    if i.isdigit():\n",
    "        print(i, end=' ')\n",
    "        num_sum += int(i)\n",
    "print()\n",
    "print(num_sum)"
   ]
  },
  {
   "cell_type": "code",
   "execution_count": 59,
   "id": "9c6298e1",
   "metadata": {},
   "outputs": [
    {
     "name": "stdout",
     "output_type": "stream",
     "text": [
      "141234ijhqwernqw;er1341234qewr;'ljkqwe';lr13249\n",
      "1 4 1 2 3 4 1 3 4 1 2 3 4 1 3 2 4 9 \n",
      "52\n"
     ]
    }
   ],
   "source": [
    "s = input()\n",
    "num_sum = 0\n",
    "nums = '0123456789'\n",
    "for i in s:\n",
    "    if i in nums:\n",
    "        print(i, end=' ')\n",
    "        num_sum += int(i)\n",
    "print()\n",
    "print(num_sum)"
   ]
  },
  {
   "cell_type": "code",
   "execution_count": 64,
   "id": "574d1172",
   "metadata": {},
   "outputs": [
    {
     "data": {
      "text/plain": [
       "False"
      ]
     },
     "execution_count": 64,
     "metadata": {},
     "output_type": "execute_result"
    }
   ],
   "source": [
    "def find_el(l, to_find):\n",
    "    for i in l:\n",
    "        if i == to_find:\n",
    "            return True\n",
    "    return False\n",
    "\n",
    "my_list = [1, 2, 134, 123, 1, 233, 45, 43, 23] \n",
    "to_find = 999\n",
    "find_el(my_list, to_find)"
   ]
  },
  {
   "cell_type": "code",
   "execution_count": 67,
   "id": "8d68f8b5",
   "metadata": {},
   "outputs": [
    {
     "data": {
      "text/plain": [
       "False"
      ]
     },
     "execution_count": 67,
     "metadata": {},
     "output_type": "execute_result"
    }
   ],
   "source": [
    "def bin_search(my_list, item):\n",
    "    low = 0\n",
    "    high = len(my_list) - 1\n",
    "    \n",
    "    while low <= high:\n",
    "        mid = (low + high) // 2\n",
    "        guess = my_list[mid]\n",
    "        if guess == item:\n",
    "            return mid\n",
    "        if guess > item:\n",
    "            high = mid - 1\n",
    "        else:\n",
    "            low = mid + 1\n",
    "    return False\n",
    "\n",
    "my_list = [1, 2, 3, 5, 7, 9, 932, 994]\n",
    "\n",
    "bin_search(my_list, 99)"
   ]
  },
  {
   "cell_type": "code",
   "execution_count": null,
   "id": "4ffc0228",
   "metadata": {},
   "outputs": [],
   "source": []
  },
  {
   "cell_type": "code",
   "execution_count": null,
   "id": "2e1811d9",
   "metadata": {},
   "outputs": [],
   "source": []
  },
  {
   "cell_type": "markdown",
   "id": "663305e9",
   "metadata": {},
   "source": []
  },
  {
   "cell_type": "code",
   "execution_count": null,
   "id": "2cf1cfd3",
   "metadata": {},
   "outputs": [],
   "source": []
  },
  {
   "cell_type": "code",
   "execution_count": null,
   "id": "9eb171ac",
   "metadata": {},
   "outputs": [],
   "source": []
  },
  {
   "cell_type": "code",
   "execution_count": null,
   "id": "2191613a",
   "metadata": {},
   "outputs": [],
   "source": []
  },
  {
   "cell_type": "code",
   "execution_count": null,
   "id": "4dd6ba2a",
   "metadata": {},
   "outputs": [],
   "source": []
  },
  {
   "cell_type": "code",
   "execution_count": null,
   "id": "4f815847",
   "metadata": {},
   "outputs": [],
   "source": []
  }
 ],
 "metadata": {
  "kernelspec": {
   "display_name": "Python 3 (ipykernel)",
   "language": "python",
   "name": "python3"
  },
  "language_info": {
   "codemirror_mode": {
    "name": "ipython",
    "version": 3
   },
   "file_extension": ".py",
   "mimetype": "text/x-python",
   "name": "python",
   "nbconvert_exporter": "python",
   "pygments_lexer": "ipython3",
   "version": "3.9.7"
  }
 },
 "nbformat": 4,
 "nbformat_minor": 5
}
