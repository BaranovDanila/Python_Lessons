{
 "cells": [
  {
   "cell_type": "markdown",
   "id": "0e1220cc",
   "metadata": {},
   "source": [
    "# Задача №3175. Кегельбан"
   ]
  },
  {
   "cell_type": "code",
   "execution_count": 7,
   "id": "66b7932b",
   "metadata": {},
   "outputs": [
    {
     "name": "stdout",
     "output_type": "stream",
     "text": [
      "10 1\n",
      "1 10\n",
      "..........\n"
     ]
    }
   ],
   "source": [
    "def knok_down(l, r, my_list):\n",
    "    for i in range(l - 1, r):\n",
    "        my_list[i] = '.'\n",
    "\n",
    "\n",
    "N, K = map(int, input().split())\n",
    "skittles = ['I'] * N\n",
    "\n",
    "for i in range(K):\n",
    "    l, r = map(int, input().split())\n",
    "    knok_down(l, r, skittles)\n",
    "print(*skittles, sep='')"
   ]
  },
  {
   "cell_type": "markdown",
   "id": "18093f58",
   "metadata": {},
   "source": [
    "## Задача №3164. Переставить в обратном порядке\n",
    "Переставьте элементы данного списка в обратном порядке, затем выведите элементы полученного списка.\n",
    "\n",
    "Эта задача отличается от предыдущей тем, что вам нужно изменить значения элементов самого списка, поменяв местами A[0] c A[n-1], A[1] с A[n-2], а затем вывести элементы списка подряд."
   ]
  },
  {
   "cell_type": "code",
   "execution_count": null,
   "id": "1d7fa3f9",
   "metadata": {},
   "outputs": [],
   "source": [
    "my_list = [int(i) for i in input().split()]\n",
    "\n",
    "for i in range(len(my_list) // 2):\n",
    "    my_list[i], my_list[len(my_list) - 1 - i] = \\\n",
    "    my_list[len(my_list) - 1 - i], my_list[i]\n",
    "\n",
    "print(*my_list)"
   ]
  },
  {
   "cell_type": "markdown",
   "id": "bbd54df1",
   "metadata": {},
   "source": [
    "# Задача №3165. Переставить соседние\n",
    "Переставьте соседние элементы списка (A[0] c A[1], A[2] c A[3] и т.д.). Если элементов нечетное число, то последний элемент остается на своем месте."
   ]
  },
  {
   "cell_type": "code",
   "execution_count": null,
   "id": "a6cc0db6",
   "metadata": {},
   "outputs": [],
   "source": [
    "my_list = [int(i) for i in input().split()]\n",
    "\n",
    "for i in range(0, len(my_list) - 1, 2):\n",
    "    my_list[i], my_list[i + 1] = my_list[i + 1], my_list[i]\n",
    "\n",
    "print(*my_list)"
   ]
  },
  {
   "cell_type": "markdown",
   "id": "1de450b7",
   "metadata": {},
   "source": [
    "# Задача №3843. Переставить min и max\n",
    "В списке все элементы различны. Поменяйте местами минимальный и максимальный элемент этого списка."
   ]
  },
  {
   "cell_type": "code",
   "execution_count": 9,
   "id": "693891e9",
   "metadata": {},
   "outputs": [
    {
     "name": "stdout",
     "output_type": "stream",
     "text": [
      "77\n",
      "-133\n"
     ]
    }
   ],
   "source": [
    "print(max([1, 2, 4, 65, -133, 77]))\n",
    "print(min([1, 2, 4, 65, -133, 77]))"
   ]
  },
  {
   "cell_type": "code",
   "execution_count": 24,
   "id": "ddf9da75",
   "metadata": {},
   "outputs": [
    {
     "name": "stdout",
     "output_type": "stream",
     "text": [
      "1 1 1 2 2 2 3 3 3\n",
      "3 1 1 2 2 2 1 3 3\n"
     ]
    }
   ],
   "source": [
    "def min_search(my_list):\n",
    "    min_el = my_list[0]\n",
    "    min_id = 0\n",
    "    for i in range(1, len(my_list)):\n",
    "        if min_el > my_list[i]:\n",
    "            min_el = my_list[i]\n",
    "            min_id = i\n",
    "    return min_id\n",
    "\n",
    "def max_search(my_list):\n",
    "    max_el = my_list[0]\n",
    "    max_id = 0\n",
    "    for i in range(1, len(my_list)):\n",
    "        if max_el < my_list[i]:\n",
    "            max_el = my_list[i]\n",
    "            max_id = i\n",
    "    return max_id\n",
    "\n",
    "my_list = list(map(int, input().split()))\n",
    "my_list[max_search(my_list)], my_list[min_search(my_list)] = \\\n",
    "my_list[min_search(my_list)], my_list[max_search(my_list)]\n",
    "\n",
    "print(*my_list)"
   ]
  },
  {
   "cell_type": "code",
   "execution_count": null,
   "id": "c8b9fe81",
   "metadata": {},
   "outputs": [],
   "source": [
    "my_list[min_search(my_list)], my_list[max_search(my_list)] = \\\n",
    "my_list[max_search(my_list)], my_list[min_search(my_list)]"
   ]
  },
  {
   "cell_type": "code",
   "execution_count": 12,
   "id": "9bb3d046",
   "metadata": {},
   "outputs": [
    {
     "name": "stdout",
     "output_type": "stream",
     "text": [
      "<built-in function min>\n",
      "<function min_search at 0x000001D9A26C3A60>\n"
     ]
    }
   ],
   "source": [
    "print(min)\n",
    "print(min_search)"
   ]
  },
  {
   "cell_type": "code",
   "execution_count": 25,
   "id": "4d0caad3",
   "metadata": {},
   "outputs": [
    {
     "data": {
      "text/plain": [
       "3"
      ]
     },
     "execution_count": 25,
     "metadata": {},
     "output_type": "execute_result"
    }
   ],
   "source": [
    "[1, 2, 3].pop()"
   ]
  },
  {
   "cell_type": "code",
   "execution_count": null,
   "id": "94962a31",
   "metadata": {},
   "outputs": [],
   "source": []
  },
  {
   "cell_type": "code",
   "execution_count": null,
   "id": "958e1555",
   "metadata": {},
   "outputs": [],
   "source": []
  },
  {
   "cell_type": "code",
   "execution_count": null,
   "id": "f6fb1d17",
   "metadata": {},
   "outputs": [],
   "source": []
  }
 ],
 "metadata": {
  "kernelspec": {
   "display_name": "Python 3 (ipykernel)",
   "language": "python",
   "name": "python3"
  },
  "language_info": {
   "codemirror_mode": {
    "name": "ipython",
    "version": 3
   },
   "file_extension": ".py",
   "mimetype": "text/x-python",
   "name": "python",
   "nbconvert_exporter": "python",
   "pygments_lexer": "ipython3",
   "version": "3.9.7"
  }
 },
 "nbformat": 4,
 "nbformat_minor": 5
}
