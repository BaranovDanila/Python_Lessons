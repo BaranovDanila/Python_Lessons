{
 "cells": [
  {
   "cell_type": "markdown",
   "id": "73422080",
   "metadata": {},
   "source": [
    "# Задача 1"
   ]
  },
  {
   "cell_type": "code",
   "execution_count": 50,
   "id": "dc03c4f6",
   "metadata": {},
   "outputs": [
    {
     "name": "stdout",
     "output_type": "stream",
     "text": [
      "2\n",
      "2\n"
     ]
    }
   ],
   "source": [
    "n = int(input())\n",
    "div = 2\n",
    "\n",
    "while n % div != 0 and div < n ** 0.5:\n",
    "    div += 1\n",
    "\n",
    "if n % div == 0:\n",
    "    print(div)\n",
    "else:\n",
    "    print(n)"
   ]
  },
  {
   "cell_type": "code",
   "execution_count": 80,
   "id": "a3a3f7c6",
   "metadata": {},
   "outputs": [
    {
     "name": "stdout",
     "output_type": "stream",
     "text": [
      "12\n",
      "11\n"
     ]
    }
   ],
   "source": [
    "n = int(input())\n",
    "base = 11\n",
    "result = ''\n",
    "sign = ''\n",
    "if n < 0:\n",
    "    sign = '-'\n",
    "    n = -n\n",
    "while n != 0:\n",
    "    i = n % base\n",
    "    result = str(i) + result\n",
    "    n //= base\n",
    "print(sign + result)"
   ]
  },
  {
   "cell_type": "code",
   "execution_count": null,
   "id": "506c7c62",
   "metadata": {},
   "outputs": [],
   "source": [
    "def sist_conv(n, base=8):\n",
    "    result = ''\n",
    "    sign = ''\n",
    "    if n < 0:\n",
    "        sign = '-'\n",
    "        n = -n\n",
    "    while n >= 0:\n",
    "        i = n % base\n",
    "        result = str(i) + result\n",
    "        n //= base\n",
    "    return sign + result"
   ]
  },
  {
   "cell_type": "markdown",
   "id": "191fcb0f",
   "metadata": {},
   "source": [
    "# Задача 2"
   ]
  },
  {
   "cell_type": "code",
   "execution_count": 127,
   "id": "1513bac2",
   "metadata": {},
   "outputs": [
    {
     "name": "stdout",
     "output_type": "stream",
     "text": [
      "-66\n",
      "-102\n"
     ]
    }
   ],
   "source": [
    "n = int(input())\n",
    "\n",
    "base = 8\n",
    "result = ''\n",
    "sign = ''\n",
    "\n",
    "if n < 0:\n",
    "    sign = '-'\n",
    "    n = -n\n",
    "\n",
    "elif n == 0:\n",
    "    result = '0'\n",
    "\n",
    "while n != 0:\n",
    "    result = str(n % base) + result\n",
    "    n //= base\n",
    "\n",
    "print(int(sign + result))"
   ]
  },
  {
   "cell_type": "code",
   "execution_count": 9,
   "id": "8c52a0d9",
   "metadata": {},
   "outputs": [
    {
     "name": "stdout",
     "output_type": "stream",
     "text": [
      "128\n",
      "1\n"
     ]
    }
   ],
   "source": [
    "n = int(input())\n",
    "base = 2\n",
    "result = 0\n",
    "sign = 1\n",
    "\n",
    "if n < 0:\n",
    "    sign = -1\n",
    "    n = -n\n",
    "\n",
    "while n != 0:\n",
    "    result *= 10\n",
    "    result += n % base\n",
    "    n //= base\n",
    "    \n",
    "print(sign * result)"
   ]
  },
  {
   "cell_type": "code",
   "execution_count": 111,
   "id": "eb31ce22",
   "metadata": {},
   "outputs": [],
   "source": [
    "def bil(n):\n",
    "    n6 = n % 10\n",
    "    n5 = n % 100 // 10\n",
    "    n4 = n % 1000 // 100\n",
    "    n3 = n % 10000 // 1000\n",
    "    n2 = n % 100000 // 10000\n",
    "    n1 = n // 100000\n",
    "    if (n1 + n2 + n3) == (n4 + n5 + n6):\n",
    "        return True\n",
    "    return False"
   ]
  },
  {
   "cell_type": "code",
   "execution_count": 115,
   "id": "b5d14655",
   "metadata": {},
   "outputs": [
    {
     "name": "stdout",
     "output_type": "stream",
     "text": [
      "False\n"
     ]
    }
   ],
   "source": [
    "print(bil(543111))"
   ]
  },
  {
   "cell_type": "code",
   "execution_count": null,
   "id": "1368cfbb",
   "metadata": {},
   "outputs": [],
   "source": []
  }
 ],
 "metadata": {
  "kernelspec": {
   "display_name": "Python 3 (ipykernel)",
   "language": "python",
   "name": "python3"
  },
  "language_info": {
   "codemirror_mode": {
    "name": "ipython",
    "version": 3
   },
   "file_extension": ".py",
   "mimetype": "text/x-python",
   "name": "python",
   "nbconvert_exporter": "python",
   "pygments_lexer": "ipython3",
   "version": "3.9.7"
  }
 },
 "nbformat": 4,
 "nbformat_minor": 5
}
