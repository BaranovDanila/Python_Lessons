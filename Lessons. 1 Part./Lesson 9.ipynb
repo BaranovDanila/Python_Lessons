{
 "cells": [
  {
   "cell_type": "markdown",
   "id": "6ffb0a8b",
   "metadata": {},
   "source": [
    "# Задача 1 (27) Сокращение дроби"
   ]
  },
  {
   "cell_type": "code",
   "execution_count": 3,
   "id": "50479b53",
   "metadata": {},
   "outputs": [
    {
     "name": "stdout",
     "output_type": "stream",
     "text": [
      "4 8\n",
      "1 2\n"
     ]
    }
   ],
   "source": [
    "def reduce(a, b):\n",
    "    if a > b:\n",
    "        div = a\n",
    "    else:\n",
    "        div = b\n",
    "    while div != 1:\n",
    "        if a % div == 0 and b % div == 0:\n",
    "            return a // div, b // div\n",
    "            break\n",
    "        else:\n",
    "            div -= 1\n",
    "    return a, b\n",
    "\n",
    "a, b = map(int, input().split())\n",
    "print(*reduce(a, b))"
   ]
  },
  {
   "cell_type": "code",
   "execution_count": 4,
   "id": "83669d74",
   "metadata": {},
   "outputs": [
    {
     "name": "stdout",
     "output_type": "stream",
     "text": [
      "3 18\n",
      "1 6\n"
     ]
    }
   ],
   "source": [
    "# Solved\n",
    "def gdc (a, b):\n",
    "    while a % b:\n",
    "        a, b = b, a % b\n",
    "    return b\n",
    "\n",
    "a, b = map(int, input().split())\n",
    "\n",
    "print(a // gdc(a, b), b // gdc(a, b))"
   ]
  },
  {
   "cell_type": "markdown",
   "id": "cd6b25d5",
   "metadata": {},
   "source": [
    "# Задача 2 (146) Сложить две дроби"
   ]
  },
  {
   "cell_type": "code",
   "execution_count": null,
   "id": "b2d527b3",
   "metadata": {},
   "outputs": [],
   "source": [
    "a, b, c, d = map(int, input().split())\n",
    "\n",
    "n = b * d\n",
    "m = a * d + c * b\n",
    "\n",
    "div = max(m, n)\n",
    "\n",
    "while div != 1:\n",
    "    if m % div == 0 and n % div == 0:\n",
    "        m, n = m // div, n // div\n",
    "        break\n",
    "    else:\n",
    "        div -= 1\n",
    "\n",
    "print(m, n)"
   ]
  },
  {
   "cell_type": "code",
   "execution_count": 6,
   "id": "f372e301",
   "metadata": {},
   "outputs": [
    {
     "name": "stdout",
     "output_type": "stream",
     "text": [
      "3 6 1 6\n",
      "2 3\n"
     ]
    }
   ],
   "source": [
    "# Sloved\n",
    "def gdc (a, b):\n",
    "    while a % b: \n",
    "        a, b = b, a % b\n",
    "    return b\n",
    "\n",
    "a, b, c, d = map(int, input().split())\n",
    "n = b * d\n",
    "m = a * d + c * b\n",
    "\n",
    "print(m // gdc(m, n), n // gdc(m, n))"
   ]
  },
  {
   "cell_type": "markdown",
   "id": "11f7cbe6",
   "metadata": {},
   "source": [
    "# Задача 3 (112193) НОК"
   ]
  },
  {
   "cell_type": "code",
   "execution_count": 7,
   "id": "b5234a8c",
   "metadata": {},
   "outputs": [
    {
     "name": "stdout",
     "output_type": "stream",
     "text": [
      "5 7\n",
      "35\n"
     ]
    }
   ],
   "source": [
    "# Solved\n",
    "def gdc (a, b):\n",
    "    while b > 0: \n",
    "        a, b = b, a % b\n",
    "    return a\n",
    "\n",
    "a, b = map(int, input().split())\n",
    "\n",
    "print(a * b // gdc(a, b))"
   ]
  },
  {
   "cell_type": "markdown",
   "id": "86d1d223",
   "metadata": {},
   "source": [
    "# Задача 4 (3405) Дробь"
   ]
  },
  {
   "cell_type": "code",
   "execution_count": 10,
   "id": "1ae83015",
   "metadata": {},
   "outputs": [
    {
     "name": "stdout",
     "output_type": "stream",
     "text": [
      "2\n",
      "1 1\n"
     ]
    }
   ],
   "source": [
    "# Solved\n",
    "def gdc (a, b):\n",
    "    while b > 0: \n",
    "        a, b = b, a % b\n",
    "    return a\n",
    "n = int(input())\n",
    "\n",
    "a = n // 2\n",
    "b = n - a\n",
    "\n",
    "while gdc (a, b) != 1:\n",
    "    a -= 1\n",
    "    b += 1\n",
    "print(a, b)"
   ]
  },
  {
   "cell_type": "markdown",
   "id": "a4997629",
   "metadata": {},
   "source": [
    "# Задача 5 (1452) Целые точки отрезка"
   ]
  },
  {
   "cell_type": "code",
   "execution_count": 14,
   "id": "30d449d7",
   "metadata": {},
   "outputs": [
    {
     "name": "stdout",
     "output_type": "stream",
     "text": [
      "1 0 5 0\n",
      "5\n"
     ]
    }
   ],
   "source": [
    "def gdc (a, b):\n",
    "    while b > 0: \n",
    "        a, b = b, a % b\n",
    "    return a\n",
    "\n",
    "x1, y1, x2, y2 = map(int, input().split())\n",
    "\n",
    "print(gdc(abs(x1 - x2), abs(y1 - y2)) + 1)"
   ]
  },
  {
   "cell_type": "markdown",
   "id": "3d70d358",
   "metadata": {},
   "source": [
    "# Задача 6 (3795) \"Зоны\" "
   ]
  },
  {
   "attachments": {
    "image.png": {
     "image/png": "[encoded data removed]"
    }
   },
   "cell_type": "markdown",
   "id": "3b2ada72",
   "metadata": {},
   "source": [
    "![image.png](attachment:image.png)"
   ]
  },
  {
   "cell_type": "code",
   "execution_count": 21,
   "id": "02e8ac7e",
   "metadata": {},
   "outputs": [
    {
     "name": "stdout",
     "output_type": "stream",
     "text": [
      "-1\n",
      "-1\n",
      "YES\n"
     ]
    }
   ],
   "source": [
    "def IsPointArea(x, y):\n",
    "    above_line_1 = y >= -x\n",
    "    below_line_1 = y <= -x\n",
    "    above_line_2 = y >= 2 * x + 2\n",
    "    below_line_2 = y <= 2 * x + 2\n",
    "    in_circle = 4 >= (x + 1) ** 2 + (y - 1) ** 2\n",
    "    on_circle = 4 == (x + 1) ** 2 + (y - 1) ** 2\n",
    "    \n",
    "    result = (above_line_1 and above_line_2 and in_circle) or (below_line_1 and below_line_2 and (on_circle or not in_circle))\n",
    "    \n",
    "    return result\n",
    "\n",
    "\n",
    "x = float(input())\n",
    "y = float(input())\n",
    "\n",
    "if IsPointArea(x, y):\n",
    "    print('YES')\n",
    "else:\n",
    "    print('NO')"
   ]
  },
  {
   "cell_type": "code",
   "execution_count": 15,
   "id": "5191665e",
   "metadata": {},
   "outputs": [],
   "source": [
    "b = 5 > 0"
   ]
  },
  {
   "cell_type": "code",
   "execution_count": 16,
   "id": "c8130ad3",
   "metadata": {},
   "outputs": [
    {
     "data": {
      "text/plain": [
       "True"
      ]
     },
     "execution_count": 16,
     "metadata": {},
     "output_type": "execute_result"
    }
   ],
   "source": [
    "b"
   ]
  },
  {
   "cell_type": "markdown",
   "id": "bd9e6c1e",
   "metadata": {},
   "source": [
    "# Задача 7 Гиперпростое число"
   ]
  },
  {
   "cell_type": "code",
   "execution_count": 22,
   "id": "2ef94d29",
   "metadata": {},
   "outputs": [
    {
     "name": "stdout",
     "output_type": "stream",
     "text": [
      "733\n",
      "YES\n"
     ]
    }
   ],
   "source": [
    "# Solved\n",
    "def is_prime(num):\n",
    "    if num < 2:\n",
    "        return False\n",
    "    for i in range(2, int(num ** 0.5) + 1):\n",
    "        if num % i == 0:\n",
    "            return False\n",
    "    return True\n",
    "\n",
    "def hyper_prime(num):\n",
    "    while num != 0:\n",
    "        if not is_prime(num):\n",
    "            return False\n",
    "        num //= 10\n",
    "    return True\n",
    "\n",
    "n = int(input())\n",
    "if hyper_prime(n):\n",
    "    print('YES')\n",
    "else:\n",
    "    print('NO')"
   ]
  },
  {
   "cell_type": "code",
   "execution_count": null,
   "id": "d1e84424",
   "metadata": {},
   "outputs": [],
   "source": []
  },
  {
   "cell_type": "code",
   "execution_count": null,
   "id": "64c1cbbc",
   "metadata": {},
   "outputs": [],
   "source": []
  },
  {
   "cell_type": "markdown",
   "id": "bf1a13e1",
   "metadata": {},
   "source": [
    "# Задача 8 Гиперпростое число (в диапазоне)"
   ]
  },
  {
   "cell_type": "code",
   "execution_count": 25,
   "id": "1ee9a730",
   "metadata": {},
   "outputs": [
    {
     "name": "stdout",
     "output_type": "stream",
     "text": [
      "30 100\n",
      "31 37 53 59 71 73 79 "
     ]
    }
   ],
   "source": [
    "def is_prime(num):\n",
    "    if num < 2:\n",
    "        return False\n",
    "    for i in range(2, int(num ** 0.5) + 1):\n",
    "        if num % i == 0:\n",
    "            return False\n",
    "    return True\n",
    "\n",
    "def hyper_prime(num):\n",
    "    while num != 0:\n",
    "        if not is_prime(num):\n",
    "            return False\n",
    "        num //= 10\n",
    "    return True\n",
    "\n",
    "start, end = map(int, input().split())\n",
    "cnt = 0\n",
    "\n",
    "for i in range(start, end + 1):\n",
    "    if hyper_prime(i):\n",
    "        print(i, end=' ')\n",
    "        cnt += 1     \n",
    "if cnt == 0:\n",
    "    print(cnt)"
   ]
  },
  {
   "cell_type": "markdown",
   "id": "57bca637",
   "metadata": {},
   "source": [
    "# Задача 9 Дружественные числа"
   ]
  },
  {
   "cell_type": "code",
   "execution_count": 24,
   "id": "b7df1894",
   "metadata": {},
   "outputs": [
    {
     "name": "stdout",
     "output_type": "stream",
     "text": [
      "1210 1092\n",
      "NO\n"
     ]
    }
   ],
   "source": [
    "def div_sum(num):\n",
    "    result = 1\n",
    "    i = 2\n",
    "    while num >= i ** 2:\n",
    "        if num % i == 0:\n",
    "            result += i\n",
    "            if i != num // i:\n",
    "                result += num // i\n",
    "        i += 1\n",
    "    return result\n",
    "\n",
    "a, b = map(int, input().split())\n",
    "\n",
    "if (div_sum(a) == b) and (div_sum(b) == a):\n",
    "    print('YES')\n",
    "else:\n",
    "    print('NO')"
   ]
  },
  {
   "cell_type": "code",
   "execution_count": 13,
   "id": "ac71d956",
   "metadata": {},
   "outputs": [
    {
     "name": "stdout",
     "output_type": "stream",
     "text": [
      "Wall time: 7 ms\n"
     ]
    },
    {
     "data": {
      "text/plain": [
       "179661110"
      ]
     },
     "execution_count": 13,
     "metadata": {},
     "output_type": "execute_result"
    }
   ],
   "source": [
    "%%time\n",
    "def div_sum(num):\n",
    "    result = 1\n",
    "    i = 2\n",
    "    while num >= i ** 2:\n",
    "        if num % i == 0:\n",
    "            result += i\n",
    "            if i != num // i:\n",
    "                result += num // i\n",
    "        i += 1\n",
    "    return result\n",
    "\n",
    "div_sum(341234122)"
   ]
  },
  {
   "cell_type": "code",
   "execution_count": 14,
   "id": "3a95ac75",
   "metadata": {},
   "outputs": [
    {
     "name": "stdout",
     "output_type": "stream",
     "text": [
      "Wall time: 12.9 s\n"
     ]
    },
    {
     "data": {
      "text/plain": [
       "179661110"
      ]
     },
     "execution_count": 14,
     "metadata": {},
     "output_type": "execute_result"
    }
   ],
   "source": [
    "%%time\n",
    "def div_sum(num):\n",
    "    result = 1\n",
    "    for i in range(2, num // 2 + 1):\n",
    "        if num % i == 0:\n",
    "            result += i\n",
    "    return result\n",
    "\n",
    "div_sum(341234122)"
   ]
  },
  {
   "cell_type": "code",
   "execution_count": 24,
   "id": "90687df6",
   "metadata": {},
   "outputs": [
    {
     "data": {
      "text/plain": [
       "55"
      ]
     },
     "execution_count": 24,
     "metadata": {},
     "output_type": "execute_result"
    }
   ],
   "source": [
    "div_sum(36)"
   ]
  },
  {
   "cell_type": "markdown",
   "id": "220b2aee",
   "metadata": {},
   "source": [
    "# Совершенное число\n",
    "Напишите функцию, которая будет проверять, является ли целое число совершенным числом.\n",
    "\n",
    "Совершенное число — натуральное число, равное сумме всех своих собственных делителей (то есть всех положительных делителей, отличных от самого числа).\n",
    "\n",
    "Например, 6 — совершенное число, поскольку 1 + 2 + 3 = 6, а 1, 2 и 3 — делители числа 6.\n",
    "\n",
    "Аналогично, совершенным числом является 28, поскольку 1 + 2 + 4 + 7 + 14 = 28."
   ]
  },
  {
   "cell_type": "code",
   "execution_count": 19,
   "id": "19f4a78f",
   "metadata": {},
   "outputs": [
    {
     "name": "stdout",
     "output_type": "stream",
     "text": [
      "0\n",
      "NO\n"
     ]
    }
   ],
   "source": [
    "def div_sum(num):\n",
    "    i = 2\n",
    "    result = 1\n",
    "    while num >= i ** 2:\n",
    "        if num % i == 0:\n",
    "            result += i\n",
    "            if i != num // i:\n",
    "                result += num //i\n",
    "        i += 1\n",
    "    return result\n",
    "\n",
    "n = int(input())\n",
    "if div_sum(n) == n:\n",
    "    print('YES')\n",
    "else:\n",
    "    print('NO')"
   ]
  },
  {
   "cell_type": "code",
   "execution_count": null,
   "id": "c8e8480f",
   "metadata": {},
   "outputs": [],
   "source": []
  },
  {
   "cell_type": "code",
   "execution_count": null,
   "id": "93b30440",
   "metadata": {},
   "outputs": [],
   "source": []
  },
  {
   "cell_type": "code",
   "execution_count": null,
   "id": "4d78c14b",
   "metadata": {},
   "outputs": [],
   "source": []
  },
  {
   "cell_type": "code",
   "execution_count": null,
   "id": "86cf9a08",
   "metadata": {},
   "outputs": [],
   "source": []
  },
  {
   "cell_type": "code",
   "execution_count": null,
   "id": "8cfdd0bf",
   "metadata": {},
   "outputs": [],
   "source": []
  },
  {
   "cell_type": "code",
   "execution_count": null,
   "id": "3c97fedf",
   "metadata": {},
   "outputs": [],
   "source": []
  },
  {
   "cell_type": "code",
   "execution_count": null,
   "id": "aa10a7c4",
   "metadata": {},
   "outputs": [],
   "source": []
  }
 ],
 "metadata": {
  "kernelspec": {
   "display_name": "Python 3 (ipykernel)",
   "language": "python",
   "name": "python3"
  },
  "language_info": {
   "codemirror_mode": {
    "name": "ipython",
    "version": 3
   },
   "file_extension": ".py",
   "mimetype": "text/x-python",
   "name": "python",
   "nbconvert_exporter": "python",
   "pygments_lexer": "ipython3",
   "version": "3.9.7"
  }
 },
 "nbformat": 4,
 "nbformat_minor": 5
}
