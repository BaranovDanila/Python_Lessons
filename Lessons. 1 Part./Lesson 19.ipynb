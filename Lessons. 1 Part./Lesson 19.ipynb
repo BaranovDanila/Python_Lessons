{
 "cells": [
  {
   "cell_type": "markdown",
   "id": "1bf724fd",
   "metadata": {},
   "source": [
    "# Задача №3168. Удалить элемент\n",
    "Дан список из чисел и индекс элемента в списке k. Удалите из списка элемент с индексом k, сдвинув влево все элементы, стоящие правее элемента с индексом k."
   ]
  },
  {
   "cell_type": "code",
   "execution_count": 6,
   "id": "2f7789ef",
   "metadata": {},
   "outputs": [
    {
     "name": "stdout",
     "output_type": "stream",
     "text": [
      "7 6 5 4 3 2 1\n",
      "2\n",
      "7 6 4 3 2 1\n"
     ]
    }
   ],
   "source": [
    "my_list = list(map(int, input().split()))\n",
    "k = int(input())\n",
    "\n",
    "for i in range(k, len(my_list) - 1):\n",
    "    my_list[i] = my_list[i + 1]\n",
    "    \n",
    "my_list.pop()\n",
    "print(*my_list)"
   ]
  },
  {
   "cell_type": "markdown",
   "id": "f7e7314f",
   "metadata": {},
   "source": [
    "# Задача №3169. Вставить элемент\n",
    "Дан список целых чисел, число k и значение C. Необходимо вставить в список на позицию с индексом k элемент, равный C, сдвинув все элементы имевшие индекс не менее k вправо.\n",
    "\n",
    "Посколько при этом количество элементов в списке увеличивается, после считывания списка в его конец нужно будет добавить новый элемент, используя метод append.\n",
    "\n",
    "Вставку необходимо осуществлять уже в считанном списке, не делая этого при выводе и не создавая дополнительного списка."
   ]
  },
  {
   "cell_type": "code",
   "execution_count": 11,
   "id": "08a2deea",
   "metadata": {},
   "outputs": [
    {
     "name": "stdout",
     "output_type": "stream",
     "text": [
      "1 2 3 4 5\n",
      "2 999\n",
      "1 2 999 3 4 5\n"
     ]
    }
   ],
   "source": [
    "my_list = list(map(int, input().split()))\n",
    "k, c = map(int, input().split())\n",
    "\n",
    "my_list.append(0)\n",
    "\n",
    "for i in range(len(my_list) - 1, k, -1):\n",
    "    my_list[i] = my_list[i - 1]\n",
    "\n",
    "my_list[k] = c\n",
    "print(*my_list)"
   ]
  },
  {
   "cell_type": "code",
   "execution_count": 11,
   "id": "53809197",
   "metadata": {
    "scrolled": true
   },
   "outputs": [
    {
     "name": "stdout",
     "output_type": "stream",
     "text": [
      "7 6 5 4 3 2 1\n",
      "2 0\n",
      "7 6 0 5 4 3 2 1\n"
     ]
    }
   ],
   "source": [
    "my_list = list(map(int, input().split()))\n",
    "k, c = map(int, input().split())\n",
    "my_list.append(0)\n",
    "for i in range(len(my_list) - 1, k, -1):\n",
    "    my_list[i] = my_list[i - 1]\n",
    "my_list[k] = c\n",
    "print(*my_list)"
   ]
  },
  {
   "cell_type": "code",
   "execution_count": null,
   "id": "56d6ee0b",
   "metadata": {},
   "outputs": [],
   "source": []
  },
  {
   "cell_type": "markdown",
   "id": "9a3a11da",
   "metadata": {},
   "source": [
    "# Задача №3170. Количество совпадающих пар\n",
    "Дан список чисел. Посчитайте, сколько в нем пар элементов, равных друг другу. Считается, что любые два элемента, равные друг другу образуют одну пару, которую необходимо посчитать."
   ]
  },
  {
   "cell_type": "code",
   "execution_count": 12,
   "id": "6c9139c8",
   "metadata": {},
   "outputs": [
    {
     "name": "stdout",
     "output_type": "stream",
     "text": [
      "1 1 2 3 4 2 3 4 4\n",
      "6\n"
     ]
    }
   ],
   "source": [
    "my_list = [int(i) for i in input().split()]\n",
    "cnt = 0\n",
    "\n",
    "for i in range(len(my_list)):\n",
    "    for j in range(i + 1, len(my_list)):\n",
    "        if my_list[i] == my_list[j]:\n",
    "            cnt += 1\n",
    "\n",
    "print(cnt)    "
   ]
  },
  {
   "cell_type": "markdown",
   "id": "79584104",
   "metadata": {},
   "source": [
    "# Задача №3171. Уникальные элементы\n",
    "Дан список. Выведите те его элементы, которые встречаются в списке только один раз. Элементы нужно выводить в том порядке, в котором они встречаются в списке. Оформить как фунцию, которая принимает исходный введенный список и возвращает список уникальных элементов."
   ]
  },
  {
   "cell_type": "code",
   "execution_count": 2,
   "id": "ce44b682",
   "metadata": {},
   "outputs": [
    {
     "name": "stdout",
     "output_type": "stream",
     "text": [
      "1 2 3 3 3 4 4 5\n",
      "1 2 5 "
     ]
    }
   ],
   "source": [
    "my_list = [int(i) for i in input().split()]\n",
    "\n",
    "for i in range(len(my_list)):\n",
    "    flag = False\n",
    "    for j in range(len(my_list)):\n",
    "        if my_list[i] == my_list[j] and i != j:\n",
    "            flag = True\n",
    "            break\n",
    "    if flag == False:\n",
    "        print(my_list[i], end=' ')"
   ]
  },
  {
   "cell_type": "code",
   "execution_count": 6,
   "id": "ca93f777",
   "metadata": {},
   "outputs": [
    {
     "name": "stdout",
     "output_type": "stream",
     "text": [
      "[1, 2, 3, 4, 5] [1, 2, 3, 4, 5]\n",
      "[1, 2, 3, 4, 5] [999, 2, 3, 4, 5]\n"
     ]
    }
   ],
   "source": [
    "a = [1, 2, 3, 4, 5]\n",
    "b = a\n",
    "print(a, b)\n",
    "b[0] = 999\n",
    "print(a, b)"
   ]
  },
  {
   "cell_type": "code",
   "execution_count": 8,
   "id": "858b4bc5",
   "metadata": {},
   "outputs": [
    {
     "name": "stdout",
     "output_type": "stream",
     "text": [
      "123 1\n"
     ]
    }
   ],
   "source": [
    "a = '123'\n",
    "b = a\n",
    "b = '1'\n",
    "print(a, b)"
   ]
  },
  {
   "cell_type": "code",
   "execution_count": null,
   "id": "120ce9a2",
   "metadata": {},
   "outputs": [],
   "source": []
  },
  {
   "cell_type": "markdown",
   "id": "f8072ed3",
   "metadata": {},
   "source": [
    "# Список сумм соседей\n",
    "Напишите программу, на вход которой подаётся список чисел одной строкой. Программа должна для каждого элемента этого списка вывести сумму двух его соседей. Для элементов списка, являющихся крайними, одним из соседей считается элемент, находящий на противоположном конце этого списка. Например, если на вход подаётся список \"1 3 5 6 10\", то на выход ожидается список \"13 6 9 15 7\" (без кавычек). Написать функцию, которая принимает на вход введенный список и возвращает список сумм соседей."
   ]
  },
  {
   "cell_type": "code",
   "execution_count": null,
   "id": "2df2e46c",
   "metadata": {},
   "outputs": [],
   "source": []
  }
 ],
 "metadata": {
  "kernelspec": {
   "display_name": "Python 3 (ipykernel)",
   "language": "python",
   "name": "python3"
  },
  "language_info": {
   "codemirror_mode": {
    "name": "ipython",
    "version": 3
   },
   "file_extension": ".py",
   "mimetype": "text/x-python",
   "name": "python",
   "nbconvert_exporter": "python",
   "pygments_lexer": "ipython3",
   "version": "3.9.7"
  }
 },
 "nbformat": 4,
 "nbformat_minor": 5
}
