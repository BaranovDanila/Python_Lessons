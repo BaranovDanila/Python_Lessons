{
 "cells": [
  {
   "cell_type": "markdown",
   "id": "2833b547",
   "metadata": {},
   "source": [
    "# Задача 2\n",
    "Напишите программу, которая выводит часть последовательности 1 2 2 3 3 3 4 4 4 4 5 5 5 5 5 ... (число повторяется столько раз, чему равно). На вход программе передаётся неотрицательное целое число n — столько элементов последовательности должна отобразить программа. На выходе ожидается последовательность чисел, записанных через пробел в одну строку.\n",
    "\n",
    "Например, если n = 7, то программа должна вывести 1 2 2 3 3 3 4."
   ]
  },
  {
   "cell_type": "code",
   "execution_count": 1,
   "id": "dcec459d",
   "metadata": {},
   "outputs": [
    {
     "name": "stdout",
     "output_type": "stream",
     "text": [
      "10\n",
      "1 2 2 3 3 3 4 4 4 4\n"
     ]
    }
   ],
   "source": [
    "def sequence(n):\n",
    "    cnt = 0\n",
    "    current_value = 1\n",
    "    result = []\n",
    "    \n",
    "    for i in range(n):\n",
    "        result.append(current_value)\n",
    "        cnt += 1\n",
    "        if cnt == current_value:\n",
    "            cnt = 0\n",
    "            current_value += 1\n",
    "    return result\n",
    "\n",
    "\n",
    "n = int(input())\n",
    "print(*sequence(n))"
   ]
  },
  {
   "cell_type": "markdown",
   "id": "33c85a67",
   "metadata": {},
   "source": [
    "# Задача №309. Голосование"
   ]
  },
  {
   "cell_type": "code",
   "execution_count": null,
   "id": "4df1ba2b",
   "metadata": {},
   "outputs": [],
   "source": [
    "[1, 0, 0, 1, 0].count(0) < [1, 0, 0, 1, 0].count(1)"
   ]
  },
  {
   "cell_type": "code",
   "execution_count": 7,
   "id": "6e5f7419",
   "metadata": {},
   "outputs": [
    {
     "name": "stdout",
     "output_type": "stream",
     "text": [
      "1 1 1 1 1 0 0 0 0 1 0 0 0 0 0 0 1 1 1 0 1 0 1\n"
     ]
    },
    {
     "data": {
      "text/plain": [
       "0"
      ]
     },
     "execution_count": 7,
     "metadata": {},
     "output_type": "execute_result"
    }
   ],
   "source": [
    "def count(array, value):\n",
    "    result = 0\n",
    "    for i in array:\n",
    "        if i == value:\n",
    "            result += 1\n",
    "    return result\n",
    "\n",
    "\n",
    "def election(values):\n",
    "    return 1 if count(values, 1) > count(values, 0) else 0 \n",
    "\n",
    "\n",
    "values = [int(i) for i in input().split()]\n",
    "\n",
    "election(values)"
   ]
  },
  {
   "cell_type": "code",
   "execution_count": 3,
   "id": "05e53de0",
   "metadata": {},
   "outputs": [
    {
     "name": "stdout",
     "output_type": "stream",
     "text": [
      "0 0 1\n"
     ]
    },
    {
     "data": {
      "text/plain": [
       "0"
      ]
     },
     "execution_count": 3,
     "metadata": {},
     "output_type": "execute_result"
    }
   ],
   "source": [
    "def election(x, y, z):\n",
    "    sum_val = x + y + z\n",
    "    return 0 if sum_val <= 1 else 1\n",
    "\n",
    "\n",
    "x, y, z = [int(i) for i in input().split()]\n",
    "election(x, y, z)"
   ]
  },
  {
   "cell_type": "markdown",
   "id": "f8257a4a",
   "metadata": {},
   "source": [
    "# Сортировка вставками"
   ]
  },
  {
   "cell_type": "code",
   "execution_count": 10,
   "id": "7a94f13c",
   "metadata": {},
   "outputs": [
    {
     "data": {
      "text/plain": [
       "[-100, -5, 0, 1, 1, 2, 3]"
      ]
     },
     "execution_count": 10,
     "metadata": {},
     "output_type": "execute_result"
    }
   ],
   "source": [
    "a = [1, 2, 3, 1, 0, -5, -100]\n",
    "sorted(a)"
   ]
  },
  {
   "cell_type": "code",
   "execution_count": 11,
   "id": "be53790e",
   "metadata": {},
   "outputs": [
    {
     "name": "stdout",
     "output_type": "stream",
     "text": [
      "[1, 1, 2, 2, 3, 3, 4, 5, 7, 66]\n"
     ]
    }
   ],
   "source": [
    "def insert_sort(arr):\n",
    "    for i in range(1, len(arr)):\n",
    "        pos = i\n",
    "        while pos > 0 and arr[pos - 1] > arr[pos]:\n",
    "            arr[pos - 1], arr[pos] = arr[pos], arr[pos - 1]\n",
    "            pos -= 1\n",
    "            \n",
    "\n",
    "my_list = [1, 2, 1, 3, 5, 66, 7, 3, 4, 2]\n",
    "insert_sort(my_list)\n",
    "print(my_list)"
   ]
  },
  {
   "cell_type": "markdown",
   "id": "cb076cc2",
   "metadata": {},
   "source": [
    "# Сортировка методом выбора"
   ]
  },
  {
   "cell_type": "code",
   "execution_count": 12,
   "id": "080390df",
   "metadata": {},
   "outputs": [
    {
     "data": {
      "text/plain": [
       "[1, 1, 2, 2, 3, 3, 4, 5, 7, 66]"
      ]
     },
     "execution_count": 12,
     "metadata": {},
     "output_type": "execute_result"
    }
   ],
   "source": [
    "def choose_sort(arr):\n",
    "    for i in range(len(arr)):\n",
    "        for j in range(i + 1, len(arr)):\n",
    "            if arr[j] < arr[i]:\n",
    "                arr[j], arr[i] = arr[i], arr[j]\n",
    "    \n",
    "\n",
    "my_list = [1, 2, 1, 3, 5, 66, 7, 3, 4, 2]\n",
    "insert_sort(my_list)\n",
    "my_list"
   ]
  },
  {
   "cell_type": "markdown",
   "id": "fd8e8e80",
   "metadata": {},
   "source": [
    "# Сортировка методом \"пузырька\""
   ]
  },
  {
   "cell_type": "code",
   "execution_count": 13,
   "id": "bc33fea2",
   "metadata": {},
   "outputs": [
    {
     "data": {
      "text/plain": [
       "[1, 1, 2, 2, 3, 3, 4, 5, 7, 66]"
      ]
     },
     "execution_count": 13,
     "metadata": {},
     "output_type": "execute_result"
    }
   ],
   "source": [
    "def bubble_sort(arr):\n",
    "    for i in range(len(arr)):\n",
    "        for j in range(1, len(arr) - i):\n",
    "            if arr[j - 1] > arr[j]:\n",
    "                arr[j], arr[j + 1] = arr[j + 1], arr[j]\n",
    "\n",
    "                \n",
    "my_list = [1, 2, 1, 3, 5, 66, 7, 3, 4, 2]\n",
    "insert_sort(my_list)\n",
    "my_list    "
   ]
  },
  {
   "cell_type": "code",
   "execution_count": 14,
   "id": "759564a2",
   "metadata": {},
   "outputs": [
    {
     "data": {
      "text/plain": [
       "[[1, 1, 1], [2, 2, 3]]"
      ]
     },
     "execution_count": 14,
     "metadata": {},
     "output_type": "execute_result"
    }
   ],
   "source": [
    "[[1, 1, 1], [2, 2, 3]]"
   ]
  },
  {
   "cell_type": "code",
   "execution_count": 23,
   "id": "e9d2ef8f",
   "metadata": {},
   "outputs": [
    {
     "name": "stdout",
     "output_type": "stream",
     "text": [
      "{'Леша': '+79162968455', 'Саша': '+79162968456', 'Даня': '+79162968433'}\n",
      "{'Леша': '+79100000000', 'Саша': '+79162968456', 'Даня': '+79162968433'}\n"
     ]
    }
   ],
   "source": [
    "d = {\n",
    "    'Леша': '+79162968455', \n",
    "    'Саша': '+79162968456'\n",
    "}\n",
    "\n",
    "d['Даня'] = '+79162968433' \n",
    "print(d)\n",
    "d['Леша'] = '+79100000000'\n",
    "print(d)"
   ]
  },
  {
   "cell_type": "code",
   "execution_count": 27,
   "id": "cc908c11",
   "metadata": {},
   "outputs": [
    {
     "name": "stdout",
     "output_type": "stream",
     "text": [
      "{(10, 20): 0, 20: 1}\n"
     ]
    }
   ],
   "source": [
    "d = {\n",
    "    (10, 20): 0, \n",
    "    20: 1\n",
    "}\n",
    "print(d)"
   ]
  },
  {
   "cell_type": "code",
   "execution_count": null,
   "id": "80c7d400",
   "metadata": {},
   "outputs": [],
   "source": []
  }
 ],
 "metadata": {
  "kernelspec": {
   "display_name": "Python 3 (ipykernel)",
   "language": "python",
   "name": "python3"
  },
  "language_info": {
   "codemirror_mode": {
    "name": "ipython",
    "version": 3
   },
   "file_extension": ".py",
   "mimetype": "text/x-python",
   "name": "python",
   "nbconvert_exporter": "python",
   "pygments_lexer": "ipython3",
   "version": "3.9.7"
  }
 },
 "nbformat": 4,
 "nbformat_minor": 5
}
