{
 "cells": [
  {
   "cell_type": "markdown",
   "id": "c8de26ca",
   "metadata": {},
   "source": [
    "# Задача №3171. Уникальные элементы\n",
    "Дан список. Выведите те его элементы, которые встречаются в списке только один раз. Элементы нужно выводить в том порядке, в котором они встречаются в списке. Оформить как фунцию, которая принимает исходный введенный список и возвращает список уникальных элементов."
   ]
  },
  {
   "cell_type": "code",
   "execution_count": 10,
   "id": "94c16a0a",
   "metadata": {},
   "outputs": [
    {
     "name": "stdout",
     "output_type": "stream",
     "text": [
      "1 2 2 3 4 5 \n",
      "1 3 4 5 "
     ]
    }
   ],
   "source": [
    "my_list = [int(i) for i in input().split()]\n",
    "\n",
    "for i in range(len(my_list)):\n",
    "    flag = False\n",
    "    for j in range(len(my_list)):\n",
    "        if i != j and my_list[i] == my_list[j]:\n",
    "            flag = True\n",
    "    if not flag:\n",
    "        print(my_list[i], end=' ')"
   ]
  },
  {
   "cell_type": "code",
   "execution_count": 11,
   "id": "769f2de5",
   "metadata": {},
   "outputs": [],
   "source": [
    "def uniq_el(num_list: list) -> list:\n",
    "    result = []\n",
    "    for i in range(len(my_list)):\n",
    "        flag = False\n",
    "        for j in range(len(my_list)):\n",
    "            if i != j and my_list[i] == my_list[j]:\n",
    "                flag = True\n",
    "        if not flag:\n",
    "            result.append(my_list[i])\n",
    "    return result"
   ]
  },
  {
   "cell_type": "code",
   "execution_count": 12,
   "id": "175fa183",
   "metadata": {},
   "outputs": [
    {
     "name": "stdout",
     "output_type": "stream",
     "text": [
      "[1, 3, 4, 5]\n"
     ]
    }
   ],
   "source": [
    "print(uniq_el([1, 2, 2, 3, 4, 5]))"
   ]
  },
  {
   "cell_type": "code",
   "execution_count": 9,
   "id": "a5612156",
   "metadata": {},
   "outputs": [
    {
     "data": {
      "text/plain": [
       "[1, 2, 4, 5, 9]"
      ]
     },
     "execution_count": 9,
     "metadata": {},
     "output_type": "execute_result"
    }
   ],
   "source": [
    "[1, 2, 4, 5] + [9]"
   ]
  },
  {
   "cell_type": "markdown",
   "id": "535c75e5",
   "metadata": {},
   "source": [
    "# Список сумм соседей\n",
    "Напишите программу, на вход которой подаётся список чисел одной строкой. Программа должна для каждого элемента этого списка вывести сумму двух его соседей. Для элементов списка, являющихся крайними, одним из соседей считается элемент, находящий на противоположном конце этого списка. Например, если на вход подаётся список \"1 3 5 6 10\", то на выход ожидается список \"13 6 9 15 7\" (без кавычек). Написать функцию, которая принимает на вход введенный список и возвращает список сумм соседей."
   ]
  },
  {
   "cell_type": "code",
   "execution_count": 18,
   "id": "e0a631e0",
   "metadata": {},
   "outputs": [
    {
     "name": "stdout",
     "output_type": "stream",
     "text": [
      "5 15\n",
      "30 10\n"
     ]
    }
   ],
   "source": [
    "list1 = [int(i) for i in input().split()]\n",
    "\n",
    "if len(list1) == 1:\n",
    "    print(list1[0])\n",
    "\n",
    "else:\n",
    "    for i in range(len(list1)):\n",
    "        if i < len(list1) - 1:\n",
    "            print(list1[i-1] + list1[i+1], end=\" \" )\n",
    "        else:\n",
    "            print(list1[0] + list1[i-1])"
   ]
  },
  {
   "cell_type": "code",
   "execution_count": 19,
   "id": "02bbf24a",
   "metadata": {},
   "outputs": [],
   "source": [
    "def nig_sum(num_list: list) -> list:\n",
    "    result = []\n",
    "    if len(num_list) == 1:\n",
    "        return num_list\n",
    "    for i in range(len(num_list)):\n",
    "        result.append(num_list[i - 1] + num_list[(i + 1) % len(num_list)])\n",
    "    return result"
   ]
  },
  {
   "cell_type": "code",
   "execution_count": 24,
   "id": "aa8846ad",
   "metadata": {},
   "outputs": [
    {
     "data": {
      "text/plain": [
       "[5]"
      ]
     },
     "execution_count": 24,
     "metadata": {},
     "output_type": "execute_result"
    }
   ],
   "source": [
    "nig_sum([5])"
   ]
  },
  {
   "cell_type": "markdown",
   "id": "0d9967f9",
   "metadata": {},
   "source": [
    "# Задача 1\n",
    "Группа биологов в институте биоинформатики завела себе черепашку.\n",
    "\n",
    "После дрессировки черепашка научилась понимать и запоминать указания биологов следующего вида:\n",
    "север 10\n",
    "запад 20\n",
    "юг 30\n",
    "восток 40\n",
    "где первое слово — это направление, в котором должна двигаться черепашка, а число после слова — это положительное расстояние в сантиметрах, которое должна пройти черепашка.\n",
    "\n",
    "Но команды даются быстро, а черепашка ползёт медленно, и программисты догадались, что можно написать программу, которая определит, куда в итоге биологи приведут черепашку. Для этого программисты просят вас написать программу, которая выведет точку, в которой окажется черепашка после всех команд. Для простоты они решили считать, что движение начинается в точке (0, 0), и движение на восток увеличивает первую координату, а на север — вторую.\n",
    "\n",
    "Программе подаётся на вход число команд nn, которые нужно выполнить черепашке, после чего nn строк с самими командами. Вывести нужно два числа в одну строку: первую и вторую координату конечной точки черепашки. Все координаты целочисленные.\n",
    "\n",
    "4\n",
    "север 10\n",
    "запад 20\n",
    "юг 30\n",
    "восток 40\n",
    "\n",
    "20 -20"
   ]
  },
  {
   "cell_type": "code",
   "execution_count": 30,
   "id": "66f75955",
   "metadata": {},
   "outputs": [
    {
     "name": "stdout",
     "output_type": "stream",
     "text": [
      "4\n",
      "север 10\n",
      "запад 20\n",
      "юг 30\n",
      "восток 40\n",
      "20 -20\n"
     ]
    }
   ],
   "source": [
    "def calc_location(direction, x, y, d):\n",
    "    if direction == 'юг':\n",
    "        return x, y - d\n",
    "    elif direction == 'север':\n",
    "        return x, y + d\n",
    "    elif direction == 'восток':\n",
    "        return x + d, y\n",
    "    else:\n",
    "        return x -d, y\n",
    "    \n",
    "N = int(input())\n",
    "x, y = 0, 0\n",
    "for i in range(N):\n",
    "    direction, d = input().split()\n",
    "    x, y = calc_location(direction, x, y, int(d))\n",
    "\n",
    "print(x, y)"
   ]
  },
  {
   "cell_type": "code",
   "execution_count": 28,
   "id": "019a4ac2",
   "metadata": {},
   "outputs": [],
   "source": []
  },
  {
   "cell_type": "markdown",
   "id": "ec72c78c",
   "metadata": {},
   "source": [
    "# Задача 2\n",
    "Напишите программу, которая выводит часть последовательности 1 2 2 3 3 3 4 4 4 4 5 5 5 5 5 ... (число повторяется столько раз, чему равно). На вход программе передаётся неотрицательное целое число n — столько элементов последовательности должна отобразить программа. На выходе ожидается последовательность чисел, записанных через пробел в одну строку.\n",
    "\n",
    "Например, если n = 7, то программа должна вывести 1 2 2 3 3 3 4."
   ]
  },
  {
   "cell_type": "code",
   "execution_count": 6,
   "id": "aeb13401",
   "metadata": {},
   "outputs": [
    {
     "name": "stdout",
     "output_type": "stream",
     "text": [
      "7\n",
      "1 2 2 3 3 3 4\n"
     ]
    }
   ],
   "source": [
    "n = int(input())\n",
    "result = []\n",
    "for i in range(1, n + 1):\n",
    "    for j in range(i):\n",
    "        result.append(i)\n",
    "print(*result[:n])"
   ]
  },
  {
   "cell_type": "code",
   "execution_count": 11,
   "id": "fa148be4",
   "metadata": {},
   "outputs": [
    {
     "name": "stdout",
     "output_type": "stream",
     "text": [
      "7\n",
      "1 2 2 3 3 3 4\n"
     ]
    }
   ],
   "source": [
    "n = int(input())\n",
    "result = []\n",
    "\n",
    "cnt = 0\n",
    "current_value = 1\n",
    "\n",
    "for i in range(n):\n",
    "    result.append(current_value)\n",
    "    cnt += 1\n",
    "    if current_value == cnt:\n",
    "        cnt = 0\n",
    "        current_value += 1\n",
    "\n",
    "print(*result)"
   ]
  },
  {
   "cell_type": "code",
   "execution_count": 10,
   "id": "b3050fb8",
   "metadata": {},
   "outputs": [
    {
     "data": {
      "text/plain": [
       "[1, 2, 2, 3, 3]"
      ]
     },
     "execution_count": 10,
     "metadata": {},
     "output_type": "execute_result"
    }
   ],
   "source": [
    "result"
   ]
  },
  {
   "cell_type": "markdown",
   "id": "a50e48b6",
   "metadata": {},
   "source": [
    "# Задача №309. Голосование\n",
    "Все решения задач необходимо оформлять в виде соответствующих функций. Ввод и вывод данных должны осуществляться в основной части программы. Ввод и вывод данных производятся через стандартные потоки ввода-вывода."
   ]
  },
  {
   "cell_type": "code",
   "execution_count": null,
   "id": "2c654b20",
   "metadata": {},
   "outputs": [],
   "source": []
  }
 ],
 "metadata": {
  "kernelspec": {
   "display_name": "Python 3 (ipykernel)",
   "language": "python",
   "name": "python3"
  },
  "language_info": {
   "codemirror_mode": {
    "name": "ipython",
    "version": 3
   },
   "file_extension": ".py",
   "mimetype": "text/x-python",
   "name": "python",
   "nbconvert_exporter": "python",
   "pygments_lexer": "ipython3",
   "version": "3.9.7"
  }
 },
 "nbformat": 4,
 "nbformat_minor": 5
}
