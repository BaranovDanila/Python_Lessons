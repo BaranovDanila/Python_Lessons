{
 "cells": [
  {
   "cell_type": "markdown",
   "id": "19b680df",
   "metadata": {},
   "source": [
    "# Задача 1\n",
    "Напишите простой калькулятор, который считывает с пользовательского ввода три строки: первое число, второе число и операцию, после чего применяет операцию к введённым числам (\"первое число\" \"операция\" \"второе число\") и выводит результат на экран.\n",
    "\n",
    "Поддерживаемые операции: +, -, /, *, mod, pow, div, где\n",
    "mod — это взятие остатка от деления,\n",
    "pow — возведение в степень,\n",
    "div — целочисленное деление.\n",
    "\n",
    "Если выполняется деление и второе число равно 0, необходимо выводить строку \"Деление на 0!\".\n",
    "\n",
    "Обратите внимание, что на вход программе приходят вещественные числа."
   ]
  },
  {
   "cell_type": "code",
   "execution_count": null,
   "id": "62147e6c",
   "metadata": {},
   "outputs": [],
   "source": []
  },
  {
   "cell_type": "markdown",
   "id": "6b4891c4",
   "metadata": {},
   "source": [
    "# Задача 2\n",
    "Напишите программу, которая получает на вход три целых числа, по одному числу в строке, и выводит на консоль в три строки сначала максимальное, потом минимальное, после чего оставшееся число.\n",
    "\n",
    "На ввод могут подаваться и повторяющиеся числа."
   ]
  },
  {
   "cell_type": "code",
   "execution_count": 30,
   "id": "c424171e",
   "metadata": {},
   "outputs": [
    {
     "name": "stdout",
     "output_type": "stream",
     "text": [
      "0\n",
      "0\n",
      "0\n",
      "0\n",
      "0\n",
      "0\n"
     ]
    }
   ],
   "source": [
    "def min3(a, b, c):\n",
    "    return min(min(a, b), c)\n",
    "\n",
    "def max3(a, b, c):\n",
    "    return max(max(a, b), c)\n",
    "\n",
    "a, b, c = int(input()), int(input()), int(input())\n",
    "\n",
    "min_abc = min3(a, b, c)\n",
    "max_abc = max3(a, b, c)\n",
    "print(min_abc)\n",
    "print(max_abc)\n",
    "\n",
    "print(a + b + c - min_abc - max_abc)"
   ]
  },
  {
   "cell_type": "code",
   "execution_count": null,
   "id": "9166cbfd",
   "metadata": {},
   "outputs": [],
   "source": []
  },
  {
   "cell_type": "code",
   "execution_count": null,
   "id": "d0276a9f",
   "metadata": {},
   "outputs": [],
   "source": []
  },
  {
   "cell_type": "code",
   "execution_count": null,
   "id": "24494c1e",
   "metadata": {},
   "outputs": [],
   "source": []
  },
  {
   "cell_type": "markdown",
   "id": "8bae6297",
   "metadata": {},
   "source": [
    "# Задача 3\n",
    "Напишите программу, которая выводит часть последовательности 1 2 2 3 3 3 4 4 4 4 5 5 5 5 5 ... (число повторяется столько раз, чему равно). На вход программе передаётся неотрицательное целое число n — столько элементов последовательности должна отобразить программа. На выходе ожидается последовательность чисел, записанных через пробел в одну строку.\n",
    "\n",
    "Например, если n = 7, то программа должна вывести 1 2 2 3 3 3 4."
   ]
  },
  {
   "cell_type": "code",
   "execution_count": null,
   "id": "09a4d46f",
   "metadata": {},
   "outputs": [],
   "source": []
  },
  {
   "cell_type": "markdown",
   "id": "7a7d73c7",
   "metadata": {},
   "source": [
    "# Задача 4\n",
    "Группа биологов в институте биоинформатики завела себе черепашку.\n",
    "\n",
    "После дрессировки черепашка научилась понимать и запоминать указания биологов следующего вида:\n",
    "север 10\n",
    "запад 20\n",
    "юг 30\n",
    "восток 40\n",
    "где первое слово — это направление, в котором должна двигаться черепашка, а число после слова — это положительное расстояние в сантиметрах, которое должна пройти черепашка.\n",
    "\n",
    "Но команды даются быстро, а черепашка ползёт медленно, и программисты догадались, что можно написать программу, которая определит, куда в итоге биологи приведут черепашку. Для этого программисты просят вас написать программу, которая выведет точку, в которой окажется черепашка после всех команд. Для простоты они решили считать, что движение начинается в точке (0, 0), и движение на восток увеличивает первую координату, а на север — вторую.\n",
    "\n",
    "Программе подаётся на вход число команд nn, которые нужно выполнить черепашке, после чего nn строк с самими командами. Вывести нужно два числа в одну строку: первую и вторую координату конечной точки черепашки. Все координаты целочисленные.\n",
    "\n",
    "4\n",
    "север 10\n",
    "запад 20\n",
    "юг 30\n",
    "восток 40\n",
    "\n",
    "20 -20"
   ]
  },
  {
   "cell_type": "code",
   "execution_count": null,
   "id": "b2a271df",
   "metadata": {},
   "outputs": [],
   "source": []
  },
  {
   "cell_type": "markdown",
   "id": "de35aaa6",
   "metadata": {},
   "source": [
    "# Задача 5\n",
    "Напишите функцию. Она должна принимать число, цифры которого будут перемножаться между собой, пока не получится однозначное число. Функция должна вернуть количество операций умножения, которые потребовались для получения этого однозначного числа."
   ]
  },
  {
   "cell_type": "code",
   "execution_count": 3,
   "id": "016fc1f5",
   "metadata": {},
   "outputs": [],
   "source": [
    "def get_mul_math(num):\n",
    "    result = 1\n",
    "    while num > 0:\n",
    "        result *= num % 10\n",
    "        num //= 10\n",
    "    return result"
   ]
  },
  {
   "cell_type": "code",
   "execution_count": 9,
   "id": "d000e428",
   "metadata": {},
   "outputs": [
    {
     "data": {
      "text/plain": [
       "1"
      ]
     },
     "execution_count": 9,
     "metadata": {},
     "output_type": "execute_result"
    }
   ],
   "source": [
    "get_mul_math(1)"
   ]
  },
  {
   "cell_type": "code",
   "execution_count": 10,
   "id": "285809c4",
   "metadata": {},
   "outputs": [],
   "source": [
    "def get_mul_str(num: str) -> int:\n",
    "    result = 1\n",
    "    for i in num:\n",
    "        result *= int(i)\n",
    "    return result"
   ]
  },
  {
   "cell_type": "code",
   "execution_count": 17,
   "id": "6187b226",
   "metadata": {
    "scrolled": true
   },
   "outputs": [
    {
     "name": "stdout",
     "output_type": "stream",
     "text": [
      "712\n",
      "2\n"
     ]
    }
   ],
   "source": [
    "def get_mul_math(num):\n",
    "    result = 1\n",
    "    while num > 0:\n",
    "        result *= num % 10\n",
    "        num //= 10\n",
    "    return result\n",
    "\n",
    "n = int(input())\n",
    "cnt = 0\n",
    "while n > 10:\n",
    "    cnt += 1\n",
    "    n = get_mul_math(n)\n",
    "print(cnt)"
   ]
  },
  {
   "cell_type": "code",
   "execution_count": 22,
   "id": "bf588ba2",
   "metadata": {},
   "outputs": [],
   "source": [
    "def foo(num):\n",
    "    cnt = 0\n",
    "    while num > 10:\n",
    "        cnt += 1\n",
    "        temp = 1\n",
    "        while num > 0:\n",
    "            temp *= num % 10\n",
    "            num //= 10\n",
    "        num = temp\n",
    "    return cnt"
   ]
  },
  {
   "cell_type": "code",
   "execution_count": 23,
   "id": "b80bd96c",
   "metadata": {},
   "outputs": [
    {
     "name": "stdout",
     "output_type": "stream",
     "text": [
      "14\n",
      "4\n"
     ]
    },
    {
     "data": {
      "text/plain": [
       "2"
      ]
     },
     "execution_count": 23,
     "metadata": {},
     "output_type": "execute_result"
    }
   ],
   "source": [
    "foo(712)"
   ]
  },
  {
   "cell_type": "code",
   "execution_count": null,
   "id": "066198b1",
   "metadata": {},
   "outputs": [],
   "source": []
  },
  {
   "cell_type": "code",
   "execution_count": null,
   "id": "d71d3bad",
   "metadata": {},
   "outputs": [],
   "source": []
  },
  {
   "cell_type": "code",
   "execution_count": null,
   "id": "f91c4a3a",
   "metadata": {},
   "outputs": [],
   "source": []
  },
  {
   "cell_type": "code",
   "execution_count": null,
   "id": "c79e4bc1",
   "metadata": {},
   "outputs": [],
   "source": []
  },
  {
   "cell_type": "code",
   "execution_count": null,
   "id": "e2d0917e",
   "metadata": {},
   "outputs": [],
   "source": [
    "def get_mul(num: int) -> int:\n",
    "    result = 1\n",
    "    while num > 0:\n",
    "        result *= num % 10\n",
    "        num //= 10\n",
    "    return result\n",
    "\n",
    "def foo(num):\n",
    "    cnt = 0\n",
    "    while num > 10:\n",
    "        cnt += 1\n",
    "        num = get_mul(num)\n",
    "    return cnt"
   ]
  },
  {
   "cell_type": "markdown",
   "id": "4e8b98cb",
   "metadata": {},
   "source": [
    "# Числа Фибоначчи"
   ]
  },
  {
   "cell_type": "code",
   "execution_count": 24,
   "id": "521a4428",
   "metadata": {},
   "outputs": [],
   "source": [
    "def fib_num(n):\n",
    "    \n",
    "    n1, n2 = 0, 1\n",
    "    if n <= 0:\n",
    "        return 'Введите число больше 0'\n",
    "    elif n == 1:\n",
    "        return n1\n",
    "    elif n == 2:\n",
    "        return n2\n",
    "    for i in range(3, n + 1):\n",
    "        n1, n2 = n2, n1 + n2\n",
    "    return n2"
   ]
  },
  {
   "cell_type": "code",
   "execution_count": 11,
   "id": "98a4415d",
   "metadata": {},
   "outputs": [],
   "source": [
    "def fib_num(n):\n",
    "    if n == 1:\n",
    "        return 0\n",
    "    if n == 2:\n",
    "        return 1\n",
    "    return fib_num(n - 1) + fib_num(n - 2)"
   ]
  },
  {
   "cell_type": "code",
   "execution_count": 12,
   "id": "22fc3cb6",
   "metadata": {},
   "outputs": [
    {
     "data": {
      "text/plain": [
       "377"
      ]
     },
     "execution_count": 12,
     "metadata": {},
     "output_type": "execute_result"
    }
   ],
   "source": [
    "fib_num(15)"
   ]
  },
  {
   "cell_type": "code",
   "execution_count": 38,
   "id": "b7d5baa4",
   "metadata": {},
   "outputs": [
    {
     "name": "stdout",
     "output_type": "stream",
     "text": [
      "1 : 0\n",
      "2 : 1\n",
      "3 : 1\n",
      "4 : 2\n",
      "5 : 3\n",
      "6 : 5\n",
      "7 : 8\n",
      "8 : 13\n",
      "9 : 21\n",
      "10 : 34\n",
      "11 : 55\n",
      "12 : 89\n",
      "13 : 144\n",
      "14 : 233\n",
      "15 : 377\n"
     ]
    }
   ],
   "source": [
    "for i in range(1, 16):\n",
    "    print(i, ':', fib_num(i))"
   ]
  },
  {
   "cell_type": "code",
   "execution_count": null,
   "id": "b9804fb1",
   "metadata": {},
   "outputs": [],
   "source": []
  },
  {
   "cell_type": "code",
   "execution_count": null,
   "id": "73fef7f6",
   "metadata": {},
   "outputs": [],
   "source": [
    "def fib_num(n):\n",
    "    n1, n2 = 0, 1\n",
    "    if n <= 0:\n",
    "        return 'Введите число больше 0'\n",
    "    elif n == 1:\n",
    "        return n1\n",
    "    elif n == 2:\n",
    "        return n2\n",
    "    return n2"
   ]
  },
  {
   "cell_type": "code",
   "execution_count": 9,
   "id": "1575eced",
   "metadata": {},
   "outputs": [
    {
     "name": "stdout",
     "output_type": "stream",
     "text": [
      "1220136825991110068701238785423046926253574342803192842192413588385845373153881997605496447502203281863013616477148203584163378722078177200480785205159329285477907571939330603772960859086270429174547882424912726344305670173270769461062802310452644218878789465754777149863494367781037644274033827365397471386477878495438489595537537990423241061271326984327745715546309977202781014561081188373709531016356324432987029563896628911658974769572087926928871281780070265174507768410719624390394322536422605234945850129918571501248706961568141625359056693423813008856249246891564126775654481886506593847951775360894005745238940335798476363944905313062323749066445048824665075946735862074637925184200459369692981022263971952597190945217823331756934581508552332820762820023402626907898342451712006207714640979456116127629145951237229913340169552363850942885592018727433795173014586357570828355780158735432768888680120399882384702151467605445407663535984174430480128938313896881639487469658817504506926365338175055478128640000000000000000000000000000000000000000000000000000000000000000000000000000000000000000000000000000000000000000000000000000\n",
      "Wall time: 1.03 ms\n"
     ]
    }
   ],
   "source": [
    "%%time\n",
    "def fact_rec(n):\n",
    "    if n < 1:\n",
    "        return 1\n",
    "    return fact_rec(n - 1) * n\n",
    "print(fact_rec(500))"
   ]
  },
  {
   "cell_type": "code",
   "execution_count": 10,
   "id": "4092ff59",
   "metadata": {},
   "outputs": [
    {
     "name": "stdout",
     "output_type": "stream",
     "text": [
      "1220136825991110068701238785423046926253574342803192842192413588385845373153881997605496447502203281863013616477148203584163378722078177200480785205159329285477907571939330603772960859086270429174547882424912726344305670173270769461062802310452644218878789465754777149863494367781037644274033827365397471386477878495438489595537537990423241061271326984327745715546309977202781014561081188373709531016356324432987029563896628911658974769572087926928871281780070265174507768410719624390394322536422605234945850129918571501248706961568141625359056693423813008856249246891564126775654481886506593847951775360894005745238940335798476363944905313062323749066445048824665075946735862074637925184200459369692981022263971952597190945217823331756934581508552332820762820023402626907898342451712006207714640979456116127629145951237229913340169552363850942885592018727433795173014586357570828355780158735432768888680120399882384702151467605445407663535984174430480128938313896881639487469658817504506926365338175055478128640000000000000000000000000000000000000000000000000000000000000000000000000000000000000000000000000000000000000000000000000000\n",
      "Wall time: 0 ns\n"
     ]
    }
   ],
   "source": [
    "%%time\n",
    "def fact_loop(n):\n",
    "    result = 1\n",
    "    if n <= 1:\n",
    "        return result\n",
    "    for i in range(2, n + 1):\n",
    "        result *= i\n",
    "    return result\n",
    "print(fact_loop(500))"
   ]
  },
  {
   "cell_type": "code",
   "execution_count": null,
   "id": "61b90342",
   "metadata": {},
   "outputs": [],
   "source": []
  }
 ],
 "metadata": {
  "kernelspec": {
   "display_name": "Python 3 (ipykernel)",
   "language": "python",
   "name": "python3"
  },
  "language_info": {
   "codemirror_mode": {
    "name": "ipython",
    "version": 3
   },
   "file_extension": ".py",
   "mimetype": "text/x-python",
   "name": "python",
   "nbconvert_exporter": "python",
   "pygments_lexer": "ipython3",
   "version": "3.9.7"
  }
 },
 "nbformat": 4,
 "nbformat_minor": 5
}
