{
 "cells": [
  {
   "cell_type": "markdown",
   "id": "b5613e90",
   "metadata": {},
   "source": [
    "# Задча 5 Максимальная сумма делителей"
   ]
  },
  {
   "cell_type": "code",
   "execution_count": 9,
   "id": "0184d009",
   "metadata": {},
   "outputs": [
    {
     "name": "stdout",
     "output_type": "stream",
     "text": [
      "1\n",
      "sum div = 1\n"
     ]
    }
   ],
   "source": [
    "n = int(input())\n",
    "sum_div = 0\n",
    "for i in range(1, n + 1):\n",
    "    if n % i == 0:\n",
    "        sum_div += i\n",
    "print('sum div =', sum_div)"
   ]
  },
  {
   "cell_type": "code",
   "execution_count": 12,
   "id": "8ad9a2b3",
   "metadata": {},
   "outputs": [
    {
     "name": "stdout",
     "output_type": "stream",
     "text": [
      "12\n",
      "Число с максимальной суммой делителей: 12\n",
      "Сумма делителей этого числа: 28\n"
     ]
    }
   ],
   "source": [
    "n = int(input())\n",
    "max_sum = 0\n",
    "max_num = 1\n",
    "for i in range(1, n + 1):\n",
    "    sum_div = 0\n",
    "    for j in range(1, i + 1):\n",
    "        if i % j == 0:\n",
    "            sum_div += j\n",
    "    if sum_div > max_sum:\n",
    "        max_sum = sum_div\n",
    "        max_num = i\n",
    "print('Число с максимальной суммой делителей:', max_num)\n",
    "print('Сумма делителей этого числа:', max_sum)"
   ]
  },
  {
   "cell_type": "markdown",
   "id": "83f9356e",
   "metadata": {},
   "source": [
    "# Задача 6 Сдача"
   ]
  },
  {
   "cell_type": "code",
   "execution_count": 32,
   "id": "f9a5039f",
   "metadata": {},
   "outputs": [
    {
     "name": "stdout",
     "output_type": "stream",
     "text": [
      "100\n",
      "2156\n"
     ]
    }
   ],
   "source": [
    "n = int(input())\n",
    "result = 0\n",
    "for coin1 in range(n + 1):\n",
    "    for coin2 in range((n // 2) + 1):\n",
    "        for coin5 in range((n // 5) + 1):\n",
    "            for coin10 in range((n // 10) + 1):\n",
    "                if (1 * coin1 + 2 * coin2 + 5 * coin5 + 10 * coin10) == n:\n",
    "                    result += 1\n",
    "print(result)"
   ]
  },
  {
   "cell_type": "code",
   "execution_count": 20,
   "id": "c864a68d",
   "metadata": {},
   "outputs": [
    {
     "name": "stdout",
     "output_type": "stream",
     "text": [
      "100\n",
      "2156\n"
     ]
    }
   ],
   "source": [
    "# решение\n",
    "n = int(input())\n",
    "count = 0\n",
    "for i in range(0, n + 1, 10):\n",
    "    for j in range(0, n - i + 1, 5): \n",
    "        count += (n - i - j) // 2 + 1\n",
    "print(count)"
   ]
  },
  {
   "cell_type": "markdown",
   "id": "b2050740",
   "metadata": {},
   "source": [
    "# Задача 7 Мастика"
   ]
  },
  {
   "cell_type": "code",
   "execution_count": 79,
   "id": "9dd38357",
   "metadata": {
    "scrolled": true
   },
   "outputs": [
    {
     "name": "stdout",
     "output_type": "stream",
     "text": [
      "15 17 21 185\n",
      "5\n",
      "0 1 8\n",
      "1 10 0\n",
      "3 7 1\n",
      "5 4 2\n",
      "7 1 3\n",
      "\n"
     ]
    }
   ],
   "source": [
    "# решение\n",
    "a, b, c, N = map(int, input().split())\n",
    "\n",
    "result = 0\n",
    "res_str = ''\n",
    "for i in range(0, N // a + 1):\n",
    "    for j in range(0, N // b + 1):\n",
    "        temp = N - (i * a + j * b)\n",
    "        if temp >= 0 and temp % c == 0:\n",
    "            result += 1\n",
    "            res_str += '{} {} {}\\n'.format(i, j, temp // c)\n",
    "print(result)\n",
    "print(res_str)"
   ]
  },
  {
   "cell_type": "markdown",
   "id": "2de55da6",
   "metadata": {},
   "source": [
    "# Решение без строк"
   ]
  },
  {
   "cell_type": "code",
   "execution_count": null,
   "id": "94870f33",
   "metadata": {},
   "outputs": [],
   "source": [
    "a, b, c, N = map(int, input().split())\n",
    "\n",
    "result = 0\n",
    "for i in range(0, N // a + 1):\n",
    "    for j in range(0, (N // b) + 1):\n",
    "        temp = N - (i * a + j * b)\n",
    "        if temp >= 0 and temp % c == 0:\n",
    "            result += 1            \n",
    "print(result)\n",
    "for i in range(0, N // a + 1):\n",
    "    for j in range(0, (N // b) + 1):\n",
    "        temp = N - (i * a + j * b)\n",
    "        if temp >= 0 and temp % c == 0:\n",
    "            print(i, j, temp // c)"
   ]
  },
  {
   "cell_type": "markdown",
   "id": "d8e67de1",
   "metadata": {},
   "source": [
    "# Задача 8 Корень в корне"
   ]
  },
  {
   "cell_type": "code",
   "execution_count": 53,
   "id": "d54f9003",
   "metadata": {},
   "outputs": [
    {
     "name": "stdout",
     "output_type": "stream",
     "text": [
      "2\n",
      "22.552104\n"
     ]
    }
   ],
   "source": [
    "m = int(input())\n",
    "n = 2\n",
    "\n",
    "while (round(result, 6) * 1000000) % 10 == 0:\n",
    "    result = (n * m) ** 0.5\n",
    "    for i in range(n - 1, 0, -1):\n",
    "        result += i * m\n",
    "        result = result ** 0.5    \n",
    "    n += 1\n",
    "    \n",
    "print(round(result, 6))    \n",
    "    "
   ]
  },
  {
   "cell_type": "code",
   "execution_count": 30,
   "id": "198436be",
   "metadata": {},
   "outputs": [
    {
     "data": {
      "text/plain": [
       "2.01422"
      ]
     },
     "execution_count": 30,
     "metadata": {},
     "output_type": "execute_result"
    }
   ],
   "source": [
    "round(2.014220, 6)"
   ]
  },
  {
   "cell_type": "code",
   "execution_count": null,
   "id": "d7a891de",
   "metadata": {},
   "outputs": [],
   "source": []
  },
  {
   "cell_type": "code",
   "execution_count": 12,
   "id": "09671b8c",
   "metadata": {},
   "outputs": [
    {
     "data": {
      "text/plain": [
       "[10, 9, 8, 7, 6, 5, 4, 3, 2]"
      ]
     },
     "execution_count": 12,
     "metadata": {},
     "output_type": "execute_result"
    }
   ],
   "source": [
    "list(range(10, 1, -1))"
   ]
  },
  {
   "cell_type": "code",
   "execution_count": 48,
   "id": "3acb9ee9",
   "metadata": {},
   "outputs": [
    {
     "data": {
      "text/plain": [
       "True"
      ]
     },
     "execution_count": 48,
     "metadata": {},
     "output_type": "execute_result"
    }
   ],
   "source": [
    "(round(2.12012, 6) * 1000000) % 10 == 0"
   ]
  },
  {
   "cell_type": "code",
   "execution_count": 46,
   "id": "71c48151",
   "metadata": {},
   "outputs": [
    {
     "data": {
      "text/plain": [
       "2.120124"
      ]
     },
     "execution_count": 46,
     "metadata": {},
     "output_type": "execute_result"
    }
   ],
   "source": [
    "round(2.120124, 6) % 10"
   ]
  },
  {
   "cell_type": "code",
   "execution_count": null,
   "id": "7189febf",
   "metadata": {},
   "outputs": [],
   "source": []
  }
 ],
 "metadata": {
  "kernelspec": {
   "display_name": "Python 3 (ipykernel)",
   "language": "python",
   "name": "python3"
  },
  "language_info": {
   "codemirror_mode": {
    "name": "ipython",
    "version": 3
   },
   "file_extension": ".py",
   "mimetype": "text/x-python",
   "name": "python",
   "nbconvert_exporter": "python",
   "pygments_lexer": "ipython3",
   "version": "3.9.7"
  }
 },
 "nbformat": 4,
 "nbformat_minor": 5
}
